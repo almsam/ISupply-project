{
 "cells": [
  {
   "cell_type": "markdown",
   "metadata": {},
   "source": [
    "# Uploading our stuff, but without 10% loss\n",
    "\n",
    "    First, lets import our tools & ingredients again"
   ]
  },
  {
   "cell_type": "code",
   "execution_count": 1,
   "metadata": {},
   "outputs": [],
   "source": [
    "import pandas as pd\n",
    "import psycopg2"
   ]
  },
  {
   "cell_type": "code",
   "execution_count": 2,
   "metadata": {},
   "outputs": [
    {
     "name": "stdout",
     "output_type": "stream",
     "text": [
      "   Ser                  combined\n",
      "0    1               Agriculture\n",
      "1    2    Agricultural Equipment\n",
      "2    3  Agricultural Greenhouses\n",
      "3    4     Aquaculture Equipment\n",
      "4    5          Aquaculture Trap\n"
     ]
    }
   ],
   "source": [
    "df = pd.read_excel('map.xlsx')\n",
    "print(df.head())"
   ]
  },
  {
   "cell_type": "code",
   "execution_count": 3,
   "metadata": {},
   "outputs": [],
   "source": [
    "con = psycopg2.connect(database=\"iSupply\",\n",
    "                        host=\"38.180.117.52\",\n",
    "                        user=\"postgres\",\n",
    "                        password=\"deerRun\",\n",
    "                        port=\"5432\")\n",
    "cursor = con.cursor()"
   ]
  },
  {
   "cell_type": "code",
   "execution_count": 5,
   "metadata": {},
   "outputs": [],
   "source": [
    "def get_category_subcategory(df, index):\n",
    "    num = df.loc[index, 'Ser']\n",
    "    name = df.loc[index, 'combined']\n",
    "    return name, num\n",
    "\n",
    "def process_categories(df, cursor, con, start, end):\n",
    "    listOfCollisions = []; j = 0\n",
    "    \n",
    "    for i in range(start, end):\n",
    "        name, num = get_category_subcategory(df, i); num = str(num)\n",
    "\n",
    "        try:\n",
    "            cursor.execute(\"\"\"INSERT INTO \"Categories\" (category_id, category) VALUES (%s, %s)\"\"\", (num, name))\n",
    "        except psycopg2.errors.UniqueViolation as e:\n",
    "            listOfCollisions.append(i)\n",
    "        except Exception as e:\n",
    "            print(f\"Error occurred: {e}\")\n",
    "        \n",
    "        if(j==10):\n",
    "            con.commit(); j = 0 # this time we will commit for each 10th entry\n",
    "        j = j + 1\n",
    "\n",
    "    con.commit()\n",
    "\n",
    "    print(len(listOfCollisions)); return listOfCollisions"
   ]
  },
  {
   "cell_type": "code",
   "execution_count": null,
   "metadata": {},
   "outputs": [],
   "source": [
    "# wipe the db from DBeaver\n",
    "\n",
    "con = psycopg2.connect(database=\"iSupply\",\n",
    "                        host=\"38.180.117.52\",\n",
    "                        user=\"postgres\",\n",
    "                        password=\"deerRun\",\n",
    "                        port=\"5432\")\n",
    "cursor = con.cursor()\n",
    "\n",
    "for i in range(46): # first 46 hundreds - should do it, but 15 mins seems like an issue - but lets buckle up none the less\n",
    "    collisions = process_categories(df, cursor, con, (100*i), ((100*i)+100))\n",
    "    print(\"100 number \", (i+1) ,\" done\")"
   ]
  },
  {
   "cell_type": "code",
   "execution_count": 6,
   "metadata": {},
   "outputs": [],
   "source": [
    "cursor.close()\n",
    "con.close()"
   ]
  },
  {
   "cell_type": "markdown",
   "metadata": {},
   "source": [
    "    Now, lets run the first couple hundreds from the O(n) method, but lets make 1 key change"
   ]
  },
  {
   "cell_type": "code",
   "execution_count": 7,
   "metadata": {},
   "outputs": [],
   "source": [
    "def get_category_subcategory(df, index):\n",
    "    num = df.loc[index, 'Ser']                                                                             # O( log(n) )\n",
    "    name = df.loc[index, 'combined']\n",
    "    return name, num\n",
    "\n",
    "def process_categories(df, cursor, con, start, end):\n",
    "    listOfCollisions = []; listOfAllErrors = []; j = 0\n",
    "    \n",
    "    for i in range(start, end):                                                                                 # O(n)\n",
    "        name, num = get_category_subcategory(df, i); num = str(num)\n",
    "\n",
    "        try:\n",
    "            cursor.execute(\"\"\"INSERT INTO \"Categories\" (category_id, category) VALUES (%s, %s)\"\"\", (num, name)) # O(n)\n",
    "        except psycopg2.errors.UniqueViolation as e:\n",
    "            listOfAllErrors.append(i); listOfCollisions.append(i)\n",
    "        except Exception as e:\n",
    "            print(f\"Error occurred: {e}\")\n",
    "            listOfAllErrors.append(i)\n",
    "        \n",
    "        if(j==10):\n",
    "            con.commit(); j = 0 # this time we will commit for each 10th entry\n",
    "        j = j + 1\n",
    "\n",
    "    con.commit()\n",
    "\n",
    "    print(len(listOfCollisions), len(listOfAllErrors)); return listOfCollisions, listOfAllErrors\n",
    "\n",
    "    # this should give us some details on where our data is going"
   ]
  },
  {
   "cell_type": "code",
   "execution_count": null,
   "metadata": {},
   "outputs": [],
   "source": [
    "listOfCollisions = []; listOfAllErrors = []\n",
    "\n",
    "# wipe the db from DBeaver\n",
    "con = psycopg2.connect(database=\"iSupply\", host=\"38.180.117.52\", user=\"postgres\", password=\"deerRun\", port=\"5432\"); cursor = con.cursor() # open\n",
    "\n",
    "for i in range(5): # first 5 hundreds for sake of inspection\n",
    "    collisions, errors = process_categories(df, cursor, con, (100*i), ((100*i)+100))\n",
    "    listOfCollisions.append(collisions); listOfAllErrors.append(errors)\n",
    "    print(\"100 number \", (i+1) ,\" done\")\n",
    "\n",
    "cursor.close(); con.close() # close\n",
    "\n",
    "# map, batch, batching\n",
    "# more then 1 value at a time"
   ]
  },
  {
   "cell_type": "markdown",
   "metadata": {},
   "source": [
    "    Upon realizing there is a better way to do this, its time to inspect the database for this instead\n",
    "\n",
    "    Lets inspect the dataset in DBeaver\n",
    "\n",
    "![DBeaver pic](DBeaverShot.PNG \"Screenshot from DBeaver\")\n",
    "\n",
    "    Looks like SER 142 through to 151 don't exist, I SHALL INSPECT"
   ]
  },
  {
   "cell_type": "code",
   "execution_count": 8,
   "metadata": {},
   "outputs": [
    {
     "name": "stdout",
     "output_type": "stream",
     "text": [
      "     Ser                              combined\n",
      "135  136                              Palm Oil\n",
      "136  137                          Rapeseed Oil\n",
      "137  138                            Sesame Oil\n",
      "138  139                           Soybean Oil\n",
      "139  140                         Sunflower Oil\n",
      "140  141                         Plant Extract\n",
      "141  142                           Plant Fiber\n",
      "142  143                   Plant Seeds & Bulbs\n",
      "143  144       Flower Bulbs, Seeds & Seedlings\n",
      "144  145                          Forage Seeds\n",
      "145  146  Fruit Grafts, Seedlings & Rootstocks\n",
      "146  147                             Oil Seeds\n",
      "147  148                       Vegetable Seeds\n",
      "148  149                               Tobacco\n",
      "149  150                                   NaN\n",
      "150  151                                   NaN\n",
      "151  152                               Apparel\n",
      "152  153               Apparel Design Services\n",
      "153  154           Apparel Processing Services\n",
      "154  155                         Apparel Stock\n"
     ]
    }
   ],
   "source": [
    "print(df.iloc[135:155]) # I thought the issue was in the dataset, this piece of code was to inspect"
   ]
  },
  {
   "cell_type": "code",
   "execution_count": 10,
   "metadata": {},
   "outputs": [
    {
     "name": "stdout",
     "output_type": "stream",
     "text": [
      "     Ser            combined\n",
      "125  126  Plant & Animal Oil\n",
      "126  127          Animal Oil\n",
      "127  128         Blended Oil\n",
      "128  129        Camellia Oil\n",
      "129  130          Castor Oil\n"
     ]
    }
   ],
   "source": [
    "print(df.iloc[125:130])"
   ]
  },
  {
   "cell_type": "markdown",
   "metadata": {},
   "source": [
    "    so it isn't the ampersand thats messing"
   ]
  },
  {
   "cell_type": "code",
   "execution_count": 17,
   "metadata": {},
   "outputs": [
    {
     "name": "stdout",
     "output_type": "stream",
     "text": [
      "    Ser                    combined\n",
      "10   11  Agricultural Growing Media\n",
      "11   12                        Peat\n",
      "12   13  Agricultural Product Stock\n",
      "13   14          Agricultural Waste\n",
      "14   15              Animal Extract\n",
      "15   16                 Animal Feed\n",
      "16   17             Animal Products\n",
      "17   18                        Eggs\n",
      "18   19            Fowl & Livestock\n",
      "19   20        Bamboo Raw Materials\n",
      "20   21             Bean-Like Seeds\n",
      "21   22                       Cacao\n",
      "22   23                Coffee Beans\n",
      "23   24               Vanilla Beans\n",
      "24   25                       Beans\n",
      "25   26                 Broad Beans\n",
      "26   27                Butter Beans\n",
      "27   28                   Chickpeas\n",
      "28   29                Kidney Beans\n",
      "29   30                     Lentils\n"
     ]
    }
   ],
   "source": [
    "print(df.iloc[10:30])"
   ]
  },
  {
   "cell_type": "markdown",
   "metadata": {},
   "source": [
    "    Doesn't look like any pattern i've seen"
   ]
  },
  {
   "cell_type": "code",
   "execution_count": 18,
   "metadata": {},
   "outputs": [
    {
     "name": "stdout",
     "output_type": "stream",
     "text": [
      "    Ser      combined\n",
      "25   26   Broad Beans\n",
      "26   27  Butter Beans\n",
      "27   28     Chickpeas\n",
      "28   29  Kidney Beans\n",
      "29   30       Lentils\n",
      "30   31    Lima Beans\n",
      "31   32   Other Beans\n",
      "32   33          Peas\n",
      "33   34      Soybeans\n",
      "34   35   Vigna Beans\n"
     ]
    }
   ],
   "source": [
    "print(df.iloc[25:35])"
   ]
  },
  {
   "cell_type": "markdown",
   "metadata": {},
   "source": [
    "    It definitely isn't the length of our strings"
   ]
  },
  {
   "cell_type": "code",
   "execution_count": 19,
   "metadata": {},
   "outputs": [
    {
     "name": "stdout",
     "output_type": "stream",
     "text": [
      "     Ser               combined\n",
      "255  256       Pants & Trousers\n",
      "256  257        Sewing Supplies\n",
      "257  258  Other Sewing Supplies\n",
      "258  259         Sewing Needles\n",
      "259  260         Sewing Threads\n",
      "260  261     Tailor\\'s Scissors\n",
      "261  262                 Shorts\n",
      "262  263                 Skirts\n",
      "263  264              Sleepwear\n",
      "264  265               Babydoll\n"
     ]
    }
   ],
   "source": [
    "print(df.iloc[255:265])"
   ]
  },
  {
   "cell_type": "markdown",
   "metadata": {},
   "source": [
    "    It also doesn't seem the backslash or apostrophe prevented it\n",
    "\n",
    "~~It seems like I will resign to the 90.33% of the data for now, however if this disrupts the tree construction significantly I will return to the experiment from earlier with a new debug lens~~\n",
    "\n",
    "    Time to run the experiment from earlier"
   ]
  },
  {
   "cell_type": "code",
   "execution_count": 8,
   "metadata": {},
   "outputs": [
    {
     "name": "stdout",
     "output_type": "stream",
     "text": [
      "0 0\n",
      "100 number  1  done\n",
      "1 1\n",
      "100 number  2  done\n",
      "0 0\n",
      "100 number  3  done\n",
      "Error occurred: current transaction is aborted, commands ignored until end of transaction block\n",
      "\n",
      "1 2\n",
      "100 number  4  done\n",
      "0 0\n",
      "100 number  5  done\n"
     ]
    }
   ],
   "source": [
    "listOfCollisions = []; listOfAllErrors = []\n",
    "\n",
    "# wipe the db from DBeaver\n",
    "con = psycopg2.connect(database=\"iSupply\", host=\"38.180.117.52\", user=\"postgres\", password=\"deerRun\", port=\"5432\"); cursor = con.cursor() # open\n",
    "\n",
    "for i in range(5): # first 5 hundreds for sake of inspection\n",
    "    collisions, errors = process_categories(df, cursor, con, (100*i), ((100*i)+100))\n",
    "    listOfCollisions += collisions; listOfAllErrors += errors\n",
    "    print(\"100 number \", (i+1) ,\" done\")\n",
    "\n",
    "cursor.close(); con.close() # close\n",
    "\n",
    "# map, batch, batching\n",
    "# more then 1 value at a time"
   ]
  },
  {
   "cell_type": "code",
   "execution_count": 9,
   "metadata": {},
   "outputs": [
    {
     "name": "stdout",
     "output_type": "stream",
     "text": [
      "errors  [150, 339, 340]\n",
      "; collisions  [150, 339]\n"
     ]
    }
   ],
   "source": [
    "print(\"errors \", listOfAllErrors);      print(\"; collisions \", listOfCollisions)"
   ]
  },
  {
   "cell_type": "code",
   "execution_count": 14,
   "metadata": {},
   "outputs": [
    {
     "name": "stdout",
     "output_type": "stream",
     "text": [
      "     Ser combined\n",
      "150  151      NaN\n",
      "     Ser                    combined\n",
      "339  340                         NaN\n",
      "340  341  Automobiles & Motorcycle s\n"
     ]
    }
   ],
   "source": [
    "print(df.iloc[150:151]); print(df.iloc[339:341])"
   ]
  },
  {
   "cell_type": "markdown",
   "metadata": {},
   "source": [
    "    Interesting, lets check DBeaver\n",
    "\n",
    "![DBeaver pic 2](DBeaverShotEndIndex.PNG \"Screenshot from DBeaver\")\n",
    "\n",
    "    looks like SER 500 was 480th\n",
    "\n",
    "    Lets run that again for more inspection"
   ]
  },
  {
   "cell_type": "code",
   "execution_count": 15,
   "metadata": {},
   "outputs": [
    {
     "name": "stdout",
     "output_type": "stream",
     "text": [
      "0 0\n",
      "100 number  1  done\n",
      "1 1\n",
      "100 number  2  done\n",
      "0 0\n",
      "100 number  3  done\n",
      "Error occurred: current transaction is aborted, commands ignored until end of transaction block\n",
      "\n",
      "1 2\n",
      "100 number  4  done\n",
      "0 0\n",
      "100 number  5  done\n"
     ]
    }
   ],
   "source": [
    "listOfCollisions = []; listOfAllErrors = []\n",
    "\n",
    "# wipe the db from DBeaver\n",
    "con = psycopg2.connect(database=\"iSupply\", host=\"38.180.117.52\", user=\"postgres\", password=\"deerRun\", port=\"5432\"); cursor = con.cursor() # open\n",
    "\n",
    "for i in range(5): # first 5 hundreds for sake of inspection\n",
    "    collisions, errors = process_categories(df, cursor, con, (100*i), ((100*i)+100))\n",
    "    listOfCollisions += collisions; listOfAllErrors += errors\n",
    "    print(\"100 number \", (i+1) ,\" done\")\n",
    "\n",
    "cursor.close(); con.close() # close"
   ]
  },
  {
   "cell_type": "markdown",
   "metadata": {},
   "source": [
    "|collisions|errors|                                                  |\n",
    "|--------|----------|--------------------------------------------------|\n",
    "| 0      | 0        |                                                  |\n",
    "| 100    | number   | 1  done                                          |\n",
    "| 1      | 1        |                                                  |\n",
    "| 100    | number   | 2  done                                          |\n",
    "| 0      | 0        |                                                  |\n",
    "| 100    | number   | 3  done                                          |\n",
    "|        |          | Error occurred: current transaction is aborted, commands ignored until end of transaction block |\n",
    "| 1      | 2        |                                                  |\n",
    "| 100    | number   | 4  done                                          |\n",
    "| 0      | 0        |                                                  |\n",
    "| 100    | number   | 5  done                                          |\n",
    "\n",
    "    Same output, our code looks deterministic\n"
   ]
  },
  {
   "cell_type": "code",
   "execution_count": 16,
   "metadata": {},
   "outputs": [
    {
     "name": "stdout",
     "output_type": "stream",
     "text": [
      "errors  [150, 339, 340]\n",
      "; collisions  [150, 339]\n"
     ]
    }
   ],
   "source": [
    "print(\"errors \", listOfAllErrors);      print(\"; collisions \", listOfCollisions)"
   ]
  },
  {
   "cell_type": "code",
   "execution_count": 17,
   "metadata": {},
   "outputs": [
    {
     "name": "stdout",
     "output_type": "stream",
     "text": [
      "     Ser combined\n",
      "150  151      NaN\n",
      "     Ser                    combined\n",
      "339  340                         NaN\n",
      "340  341  Automobiles & Motorcycle s\n"
     ]
    }
   ],
   "source": [
    "print(df.iloc[150:151]); print(df.iloc[339:341])"
   ]
  },
  {
   "cell_type": "markdown",
   "metadata": {},
   "source": [
    "![DBeaver pic](DBeaverShotSame.PNG \"Screenshot from DBeaver\")\n",
    "\n",
    "    & this looks the same too - so the issue cant be coming from our commit patterns or anything\n",
    "\n",
    "    One calculation that should be done however, is find the number of NaN's that exist here\n",
    "    For instance: 150 & 339 were NaN & appeared in both the collisions & errors list,\n",
    "    But 340 which disappeared for unknown reasons was only in errors\n",
    "    This is important because there is nothing we can do with a NaN, but we can do plenty with a string not transposing"
   ]
  },
  {
   "cell_type": "code",
   "execution_count": 18,
   "metadata": {},
   "outputs": [
    {
     "name": "stdout",
     "output_type": "stream",
     "text": [
      "0 0\n",
      "100 number  1  done\n",
      "1 1\n",
      "100 number  2  done\n",
      "0 0\n",
      "100 number  3  done\n",
      "Error occurred: current transaction is aborted, commands ignored until end of transaction block\n",
      "\n",
      "1 2\n",
      "100 number  4  done\n",
      "0 0\n",
      "100 number  5  done\n",
      "Error occurred: current transaction is aborted, commands ignored until end of transaction block\n",
      "\n",
      "Error occurred: current transaction is aborted, commands ignored until end of transaction block\n",
      "\n",
      "Error occurred: current transaction is aborted, commands ignored until end of transaction block\n",
      "\n",
      "Error occurred: current transaction is aborted, commands ignored until end of transaction block\n",
      "\n",
      "Error occurred: current transaction is aborted, commands ignored until end of transaction block\n",
      "\n",
      "Error occurred: current transaction is aborted, commands ignored until end of transaction block\n",
      "\n",
      "Error occurred: current transaction is aborted, commands ignored until end of transaction block\n",
      "\n",
      "1 8\n",
      "100 number  6  done\n",
      "0 0\n",
      "100 number  7  done\n",
      "Error occurred: current transaction is aborted, commands ignored until end of transaction block\n",
      "\n",
      "Error occurred: current transaction is aborted, commands ignored until end of transaction block\n",
      "\n",
      "Error occurred: current transaction is aborted, commands ignored until end of transaction block\n",
      "\n",
      "1 4\n",
      "100 number  8  done\n",
      "0 0\n",
      "100 number  9  done\n",
      "Error occurred: current transaction is aborted, commands ignored until end of transaction block\n",
      "\n",
      "Error occurred: current transaction is aborted, commands ignored until end of transaction block\n",
      "\n",
      "Error occurred: current transaction is aborted, commands ignored until end of transaction block\n",
      "\n",
      "Error occurred: current transaction is aborted, commands ignored until end of transaction block\n",
      "\n",
      "Error occurred: current transaction is aborted, commands ignored until end of transaction block\n",
      "\n",
      "1 6\n",
      "100 number  10  done\n",
      "Error occurred: current transaction is aborted, commands ignored until end of transaction block\n",
      "\n",
      "Error occurred: current transaction is aborted, commands ignored until end of transaction block\n",
      "\n",
      "Error occurred: current transaction is aborted, commands ignored until end of transaction block\n",
      "\n",
      "2 5\n",
      "100 number  11  done\n",
      "0 0\n",
      "100 number  12  done\n",
      "0 0\n",
      "100 number  13  done\n",
      "Error occurred: current transaction is aborted, commands ignored until end of transaction block\n",
      "\n",
      "Error occurred: current transaction is aborted, commands ignored until end of transaction block\n",
      "\n",
      "Error occurred: current transaction is aborted, commands ignored until end of transaction block\n",
      "\n",
      "Error occurred: current transaction is aborted, commands ignored until end of transaction block\n",
      "\n",
      "Error occurred: current transaction is aborted, commands ignored until end of transaction block\n",
      "\n",
      "Error occurred: current transaction is aborted, commands ignored until end of transaction block\n",
      "\n",
      "Error occurred: current transaction is aborted, commands ignored until end of transaction block\n",
      "\n",
      "Error occurred: current transaction is aborted, commands ignored until end of transaction block\n",
      "\n",
      "Error occurred: current transaction is aborted, commands ignored until end of transaction block\n",
      "\n",
      "Error occurred: current transaction is aborted, commands ignored until end of transaction block\n",
      "\n",
      "Error occurred: current transaction is aborted, commands ignored until end of transaction block\n",
      "\n",
      "Error occurred: current transaction is aborted, commands ignored until end of transaction block\n",
      "\n",
      "Error occurred: current transaction is aborted, commands ignored until end of transaction block\n",
      "\n",
      "Error occurred: current transaction is aborted, commands ignored until end of transaction block\n",
      "\n",
      "2 16\n",
      "100 number  14  done\n",
      "Error occurred: current transaction is aborted, commands ignored until end of transaction block\n",
      "\n",
      "Error occurred: current transaction is aborted, commands ignored until end of transaction block\n",
      "\n",
      "Error occurred: current transaction is aborted, commands ignored until end of transaction block\n",
      "\n",
      "Error occurred: current transaction is aborted, commands ignored until end of transaction block\n",
      "\n",
      "Error occurred: current transaction is aborted, commands ignored until end of transaction block\n",
      "\n",
      "1 6\n",
      "100 number  15  done\n",
      "Error occurred: current transaction is aborted, commands ignored until end of transaction block\n",
      "\n",
      "Error occurred: current transaction is aborted, commands ignored until end of transaction block\n",
      "\n",
      "Error occurred: current transaction is aborted, commands ignored until end of transaction block\n",
      "\n",
      "Error occurred: current transaction is aborted, commands ignored until end of transaction block\n",
      "\n",
      "Error occurred: current transaction is aborted, commands ignored until end of transaction block\n",
      "\n",
      "Error occurred: current transaction is aborted, commands ignored until end of transaction block\n",
      "\n",
      "Error occurred: current transaction is aborted, commands ignored until end of transaction block\n",
      "\n",
      "Error occurred: current transaction is aborted, commands ignored until end of transaction block\n",
      "\n",
      "Error occurred: current transaction is aborted, commands ignored until end of transaction block\n",
      "\n",
      "Error occurred: current transaction is aborted, commands ignored until end of transaction block\n",
      "\n",
      "Error occurred: current transaction is aborted, commands ignored until end of transaction block\n",
      "\n",
      "Error occurred: current transaction is aborted, commands ignored until end of transaction block\n",
      "\n",
      "Error occurred: current transaction is aborted, commands ignored until end of transaction block\n",
      "\n",
      "Error occurred: current transaction is aborted, commands ignored until end of transaction block\n",
      "\n",
      "Error occurred: current transaction is aborted, commands ignored until end of transaction block\n",
      "\n",
      "Error occurred: current transaction is aborted, commands ignored until end of transaction block\n",
      "\n",
      "4 20\n",
      "100 number  16  done\n",
      "Error occurred: current transaction is aborted, commands ignored until end of transaction block\n",
      "\n",
      "Error occurred: current transaction is aborted, commands ignored until end of transaction block\n",
      "\n",
      "Error occurred: current transaction is aborted, commands ignored until end of transaction block\n",
      "\n",
      "Error occurred: current transaction is aborted, commands ignored until end of transaction block\n",
      "\n",
      "Error occurred: current transaction is aborted, commands ignored until end of transaction block\n",
      "\n",
      "Error occurred: current transaction is aborted, commands ignored until end of transaction block\n",
      "\n",
      "Error occurred: current transaction is aborted, commands ignored until end of transaction block\n",
      "\n",
      "1 8\n",
      "100 number  17  done\n",
      "0 0\n",
      "100 number  18  done\n",
      "Error occurred: current transaction is aborted, commands ignored until end of transaction block\n",
      "\n",
      "Error occurred: current transaction is aborted, commands ignored until end of transaction block\n",
      "\n",
      "Error occurred: current transaction is aborted, commands ignored until end of transaction block\n",
      "\n",
      "Error occurred: current transaction is aborted, commands ignored until end of transaction block\n",
      "\n",
      "Error occurred: current transaction is aborted, commands ignored until end of transaction block\n",
      "\n",
      "Error occurred: current transaction is aborted, commands ignored until end of transaction block\n",
      "\n",
      "Error occurred: current transaction is aborted, commands ignored until end of transaction block\n",
      "\n",
      "1 8\n",
      "100 number  19  done\n",
      "Error occurred: current transaction is aborted, commands ignored until end of transaction block\n",
      "\n",
      "Error occurred: current transaction is aborted, commands ignored until end of transaction block\n",
      "\n",
      "Error occurred: current transaction is aborted, commands ignored until end of transaction block\n",
      "\n",
      "Error occurred: current transaction is aborted, commands ignored until end of transaction block\n",
      "\n",
      "Error occurred: current transaction is aborted, commands ignored until end of transaction block\n",
      "\n",
      "Error occurred: current transaction is aborted, commands ignored until end of transaction block\n",
      "\n",
      "Error occurred: current transaction is aborted, commands ignored until end of transaction block\n",
      "\n",
      "Error occurred: current transaction is aborted, commands ignored until end of transaction block\n",
      "\n",
      "Error occurred: current transaction is aborted, commands ignored until end of transaction block\n",
      "\n",
      "2 11\n",
      "100 number  20  done\n",
      "Error occurred: current transaction is aborted, commands ignored until end of transaction block\n",
      "\n",
      "Error occurred: current transaction is aborted, commands ignored until end of transaction block\n",
      "\n",
      "Error occurred: current transaction is aborted, commands ignored until end of transaction block\n",
      "\n",
      "Error occurred: current transaction is aborted, commands ignored until end of transaction block\n",
      "\n",
      "Error occurred: current transaction is aborted, commands ignored until end of transaction block\n",
      "\n",
      "Error occurred: current transaction is aborted, commands ignored until end of transaction block\n",
      "\n",
      "Error occurred: current transaction is aborted, commands ignored until end of transaction block\n",
      "\n",
      "Error occurred: current transaction is aborted, commands ignored until end of transaction block\n",
      "\n",
      "Error occurred: current transaction is aborted, commands ignored until end of transaction block\n",
      "\n",
      "Error occurred: current transaction is aborted, commands ignored until end of transaction block\n",
      "\n",
      "Error occurred: current transaction is aborted, commands ignored until end of transaction block\n",
      "\n",
      "Error occurred: current transaction is aborted, commands ignored until end of transaction block\n",
      "\n",
      "Error occurred: current transaction is aborted, commands ignored until end of transaction block\n",
      "\n",
      "2 15\n",
      "100 number  21  done\n",
      "0 0\n",
      "100 number  22  done\n",
      "0 0\n",
      "100 number  23  done\n",
      "Error occurred: current transaction is aborted, commands ignored until end of transaction block\n",
      "\n",
      "Error occurred: current transaction is aborted, commands ignored until end of transaction block\n",
      "\n",
      "Error occurred: current transaction is aborted, commands ignored until end of transaction block\n",
      "\n",
      "Error occurred: current transaction is aborted, commands ignored until end of transaction block\n",
      "\n",
      "Error occurred: current transaction is aborted, commands ignored until end of transaction block\n",
      "\n",
      "Error occurred: current transaction is aborted, commands ignored until end of transaction block\n",
      "\n",
      "Error occurred: current transaction is aborted, commands ignored until end of transaction block\n",
      "\n",
      "Error occurred: current transaction is aborted, commands ignored until end of transaction block\n",
      "\n",
      "1 9\n",
      "100 number  24  done\n",
      "0 0\n",
      "100 number  25  done\n",
      "Error occurred: current transaction is aborted, commands ignored until end of transaction block\n",
      "\n",
      "Error occurred: current transaction is aborted, commands ignored until end of transaction block\n",
      "\n",
      "Error occurred: current transaction is aborted, commands ignored until end of transaction block\n",
      "\n",
      "Error occurred: current transaction is aborted, commands ignored until end of transaction block\n",
      "\n",
      "Error occurred: current transaction is aborted, commands ignored until end of transaction block\n",
      "\n",
      "Error occurred: current transaction is aborted, commands ignored until end of transaction block\n",
      "\n",
      "Error occurred: current transaction is aborted, commands ignored until end of transaction block\n",
      "\n",
      "Error occurred: current transaction is aborted, commands ignored until end of transaction block\n",
      "\n",
      "Error occurred: current transaction is aborted, commands ignored until end of transaction block\n",
      "\n",
      "Error occurred: current transaction is aborted, commands ignored until end of transaction block\n",
      "\n",
      "Error occurred: current transaction is aborted, commands ignored until end of transaction block\n",
      "\n",
      "Error occurred: current transaction is aborted, commands ignored until end of transaction block\n",
      "\n",
      "2 14\n",
      "100 number  26  done\n",
      "Error occurred: current transaction is aborted, commands ignored until end of transaction block\n",
      "\n",
      "Error occurred: current transaction is aborted, commands ignored until end of transaction block\n",
      "\n",
      "Error occurred: current transaction is aborted, commands ignored until end of transaction block\n",
      "\n",
      "Error occurred: current transaction is aborted, commands ignored until end of transaction block\n",
      "\n",
      "Error occurred: current transaction is aborted, commands ignored until end of transaction block\n",
      "\n",
      "Error occurred: current transaction is aborted, commands ignored until end of transaction block\n",
      "\n",
      "Error occurred: current transaction is aborted, commands ignored until end of transaction block\n",
      "\n",
      "Error occurred: current transaction is aborted, commands ignored until end of transaction block\n",
      "\n",
      "Error occurred: current transaction is aborted, commands ignored until end of transaction block\n",
      "\n",
      "Error occurred: current transaction is aborted, commands ignored until end of transaction block\n",
      "\n",
      "Error occurred: current transaction is aborted, commands ignored until end of transaction block\n",
      "\n",
      "Error occurred: current transaction is aborted, commands ignored until end of transaction block\n",
      "\n",
      "Error occurred: current transaction is aborted, commands ignored until end of transaction block\n",
      "\n",
      "Error occurred: current transaction is aborted, commands ignored until end of transaction block\n",
      "\n",
      "Error occurred: current transaction is aborted, commands ignored until end of transaction block\n",
      "\n",
      "Error occurred: current transaction is aborted, commands ignored until end of transaction block\n",
      "\n",
      "Error occurred: current transaction is aborted, commands ignored until end of transaction block\n",
      "\n",
      "Error occurred: current transaction is aborted, commands ignored until end of transaction block\n",
      "\n",
      "3 21\n",
      "100 number  27  done\n",
      "0 0\n",
      "100 number  28  done\n",
      "0 0\n",
      "100 number  29  done\n",
      "0 0\n",
      "100 number  30  done\n",
      "Error occurred: current transaction is aborted, commands ignored until end of transaction block\n",
      "\n",
      "Error occurred: current transaction is aborted, commands ignored until end of transaction block\n",
      "\n",
      "Error occurred: current transaction is aborted, commands ignored until end of transaction block\n",
      "\n",
      "Error occurred: current transaction is aborted, commands ignored until end of transaction block\n",
      "\n",
      "1 5\n",
      "100 number  31  done\n",
      "Error occurred: current transaction is aborted, commands ignored until end of transaction block\n",
      "\n",
      "Error occurred: current transaction is aborted, commands ignored until end of transaction block\n",
      "\n",
      "1 3\n",
      "100 number  32  done\n",
      "Error occurred: current transaction is aborted, commands ignored until end of transaction block\n",
      "\n",
      "Error occurred: current transaction is aborted, commands ignored until end of transaction block\n",
      "\n",
      "Error occurred: current transaction is aborted, commands ignored until end of transaction block\n",
      "\n",
      "Error occurred: current transaction is aborted, commands ignored until end of transaction block\n",
      "\n",
      "Error occurred: current transaction is aborted, commands ignored until end of transaction block\n",
      "\n",
      "Error occurred: current transaction is aborted, commands ignored until end of transaction block\n",
      "\n",
      "Error occurred: current transaction is aborted, commands ignored until end of transaction block\n",
      "\n",
      "2 9\n",
      "100 number  33  done\n",
      "Error occurred: current transaction is aborted, commands ignored until end of transaction block\n",
      "\n",
      "Error occurred: current transaction is aborted, commands ignored until end of transaction block\n",
      "\n",
      "Error occurred: current transaction is aborted, commands ignored until end of transaction block\n",
      "\n",
      "Error occurred: current transaction is aborted, commands ignored until end of transaction block\n",
      "\n",
      "Error occurred: current transaction is aborted, commands ignored until end of transaction block\n",
      "\n",
      "1 6\n",
      "100 number  34  done\n",
      "0 0\n",
      "100 number  35  done\n",
      "Error occurred: current transaction is aborted, commands ignored until end of transaction block\n",
      "\n",
      "Error occurred: current transaction is aborted, commands ignored until end of transaction block\n",
      "\n",
      "Error occurred: current transaction is aborted, commands ignored until end of transaction block\n",
      "\n",
      "Error occurred: current transaction is aborted, commands ignored until end of transaction block\n",
      "\n",
      "1 5\n",
      "100 number  36  done\n",
      "Error occurred: current transaction is aborted, commands ignored until end of transaction block\n",
      "\n",
      "Error occurred: current transaction is aborted, commands ignored until end of transaction block\n",
      "\n",
      "Error occurred: current transaction is aborted, commands ignored until end of transaction block\n",
      "\n",
      "Error occurred: current transaction is aborted, commands ignored until end of transaction block\n",
      "\n",
      "Error occurred: current transaction is aborted, commands ignored until end of transaction block\n",
      "\n",
      "Error occurred: current transaction is aborted, commands ignored until end of transaction block\n",
      "\n",
      "Error occurred: current transaction is aborted, commands ignored until end of transaction block\n",
      "\n",
      "Error occurred: current transaction is aborted, commands ignored until end of transaction block\n",
      "\n",
      "Error occurred: current transaction is aborted, commands ignored until end of transaction block\n",
      "\n",
      "Error occurred: current transaction is aborted, commands ignored until end of transaction block\n",
      "\n",
      "Error occurred: current transaction is aborted, commands ignored until end of transaction block\n",
      "\n",
      "Error occurred: current transaction is aborted, commands ignored until end of transaction block\n",
      "\n",
      "2 14\n",
      "100 number  37  done\n",
      "Error occurred: current transaction is aborted, commands ignored until end of transaction block\n",
      "\n",
      "Error occurred: current transaction is aborted, commands ignored until end of transaction block\n",
      "\n",
      "Error occurred: current transaction is aborted, commands ignored until end of transaction block\n",
      "\n",
      "Error occurred: current transaction is aborted, commands ignored until end of transaction block\n",
      "\n",
      "Error occurred: current transaction is aborted, commands ignored until end of transaction block\n",
      "\n",
      "Error occurred: current transaction is aborted, commands ignored until end of transaction block\n",
      "\n",
      "Error occurred: current transaction is aborted, commands ignored until end of transaction block\n",
      "\n",
      "Error occurred: current transaction is aborted, commands ignored until end of transaction block\n",
      "\n",
      "Error occurred: current transaction is aborted, commands ignored until end of transaction block\n",
      "\n",
      "1 10\n",
      "100 number  38  done\n",
      "Error occurred: current transaction is aborted, commands ignored until end of transaction block\n",
      "\n",
      "Error occurred: current transaction is aborted, commands ignored until end of transaction block\n",
      "\n",
      "Error occurred: current transaction is aborted, commands ignored until end of transaction block\n",
      "\n",
      "Error occurred: current transaction is aborted, commands ignored until end of transaction block\n",
      "\n",
      "Error occurred: current transaction is aborted, commands ignored until end of transaction block\n",
      "\n",
      "2 7\n",
      "100 number  39  done\n",
      "Error occurred: current transaction is aborted, commands ignored until end of transaction block\n",
      "\n",
      "Error occurred: current transaction is aborted, commands ignored until end of transaction block\n",
      "\n",
      "Error occurred: current transaction is aborted, commands ignored until end of transaction block\n",
      "\n",
      "Error occurred: current transaction is aborted, commands ignored until end of transaction block\n",
      "\n",
      "Error occurred: current transaction is aborted, commands ignored until end of transaction block\n",
      "\n",
      "Error occurred: current transaction is aborted, commands ignored until end of transaction block\n",
      "\n",
      "1 7\n",
      "100 number  40  done\n",
      "Error occurred: current transaction is aborted, commands ignored until end of transaction block\n",
      "\n",
      "Error occurred: current transaction is aborted, commands ignored until end of transaction block\n",
      "\n",
      "Error occurred: current transaction is aborted, commands ignored until end of transaction block\n",
      "\n",
      "1 4\n",
      "100 number  41  done\n",
      "Error occurred: current transaction is aborted, commands ignored until end of transaction block\n",
      "\n",
      "Error occurred: current transaction is aborted, commands ignored until end of transaction block\n",
      "\n",
      "Error occurred: current transaction is aborted, commands ignored until end of transaction block\n",
      "\n",
      "Error occurred: current transaction is aborted, commands ignored until end of transaction block\n",
      "\n",
      "Error occurred: current transaction is aborted, commands ignored until end of transaction block\n",
      "\n",
      "1 6\n",
      "100 number  42  done\n",
      "Error occurred: current transaction is aborted, commands ignored until end of transaction block\n",
      "\n",
      "Error occurred: current transaction is aborted, commands ignored until end of transaction block\n",
      "\n",
      "Error occurred: current transaction is aborted, commands ignored until end of transaction block\n",
      "\n",
      "1 4\n",
      "100 number  43  done\n",
      "Error occurred: current transaction is aborted, commands ignored until end of transaction block\n",
      "\n",
      "Error occurred: current transaction is aborted, commands ignored until end of transaction block\n",
      "\n",
      "Error occurred: current transaction is aborted, commands ignored until end of transaction block\n",
      "\n",
      "Error occurred: current transaction is aborted, commands ignored until end of transaction block\n",
      "\n",
      "Error occurred: current transaction is aborted, commands ignored until end of transaction block\n",
      "\n",
      "Error occurred: current transaction is aborted, commands ignored until end of transaction block\n",
      "\n",
      "Error occurred: current transaction is aborted, commands ignored until end of transaction block\n",
      "\n",
      "1 8\n",
      "100 number  44  done\n",
      "Error occurred: current transaction is aborted, commands ignored until end of transaction block\n",
      "\n",
      "Error occurred: current transaction is aborted, commands ignored until end of transaction block\n",
      "\n",
      "Error occurred: current transaction is aborted, commands ignored until end of transaction block\n",
      "\n",
      "Error occurred: current transaction is aborted, commands ignored until end of transaction block\n",
      "\n",
      "Error occurred: current transaction is aborted, commands ignored until end of transaction block\n",
      "\n",
      "Error occurred: current transaction is aborted, commands ignored until end of transaction block\n",
      "\n",
      "Error occurred: current transaction is aborted, commands ignored until end of transaction block\n",
      "\n",
      "Error occurred: current transaction is aborted, commands ignored until end of transaction block\n",
      "\n",
      "Error occurred: current transaction is aborted, commands ignored until end of transaction block\n",
      "\n",
      "Error occurred: current transaction is aborted, commands ignored until end of transaction block\n",
      "\n",
      "Error occurred: current transaction is aborted, commands ignored until end of transaction block\n",
      "\n",
      "Error occurred: current transaction is aborted, commands ignored until end of transaction block\n",
      "\n",
      "Error occurred: current transaction is aborted, commands ignored until end of transaction block\n",
      "\n",
      "Error occurred: current transaction is aborted, commands ignored until end of transaction block\n",
      "\n",
      "2 16\n",
      "100 number  45  done\n"
     ]
    },
    {
     "ename": "KeyError",
     "evalue": "4596",
     "output_type": "error",
     "traceback": [
      "\u001b[1;31m---------------------------------------------------------------------------\u001b[0m",
      "\u001b[1;31mValueError\u001b[0m                                Traceback (most recent call last)",
      "File \u001b[1;32m~\\AppData\\Local\\Packages\\PythonSoftwareFoundation.Python.3.12_qbz5n2kfra8p0\\LocalCache\\local-packages\\Python312\\site-packages\\pandas\\core\\indexes\\range.py:414\u001b[0m, in \u001b[0;36mRangeIndex.get_loc\u001b[1;34m(self, key)\u001b[0m\n\u001b[0;32m    413\u001b[0m \u001b[38;5;28;01mtry\u001b[39;00m:\n\u001b[1;32m--> 414\u001b[0m     \u001b[38;5;28;01mreturn\u001b[39;00m \u001b[38;5;28;43mself\u001b[39;49m\u001b[38;5;241;43m.\u001b[39;49m\u001b[43m_range\u001b[49m\u001b[38;5;241;43m.\u001b[39;49m\u001b[43mindex\u001b[49m\u001b[43m(\u001b[49m\u001b[43mnew_key\u001b[49m\u001b[43m)\u001b[49m\n\u001b[0;32m    415\u001b[0m \u001b[38;5;28;01mexcept\u001b[39;00m \u001b[38;5;167;01mValueError\u001b[39;00m \u001b[38;5;28;01mas\u001b[39;00m err:\n",
      "\u001b[1;31mValueError\u001b[0m: 4596 is not in range",
      "\nThe above exception was the direct cause of the following exception:\n",
      "\u001b[1;31mKeyError\u001b[0m                                  Traceback (most recent call last)",
      "Cell \u001b[1;32mIn[18], line 7\u001b[0m\n\u001b[0;32m      4\u001b[0m con \u001b[38;5;241m=\u001b[39m psycopg2\u001b[38;5;241m.\u001b[39mconnect(database\u001b[38;5;241m=\u001b[39m\u001b[38;5;124m\"\u001b[39m\u001b[38;5;124miSupply\u001b[39m\u001b[38;5;124m\"\u001b[39m, host\u001b[38;5;241m=\u001b[39m\u001b[38;5;124m\"\u001b[39m\u001b[38;5;124m38.180.117.52\u001b[39m\u001b[38;5;124m\"\u001b[39m, user\u001b[38;5;241m=\u001b[39m\u001b[38;5;124m\"\u001b[39m\u001b[38;5;124mpostgres\u001b[39m\u001b[38;5;124m\"\u001b[39m, password\u001b[38;5;241m=\u001b[39m\u001b[38;5;124m\"\u001b[39m\u001b[38;5;124mdeerRun\u001b[39m\u001b[38;5;124m\"\u001b[39m, port\u001b[38;5;241m=\u001b[39m\u001b[38;5;124m\"\u001b[39m\u001b[38;5;124m5432\u001b[39m\u001b[38;5;124m\"\u001b[39m); cursor \u001b[38;5;241m=\u001b[39m con\u001b[38;5;241m.\u001b[39mcursor() \u001b[38;5;66;03m# open\u001b[39;00m\n\u001b[0;32m      6\u001b[0m \u001b[38;5;28;01mfor\u001b[39;00m i \u001b[38;5;129;01min\u001b[39;00m \u001b[38;5;28mrange\u001b[39m(\u001b[38;5;241m46\u001b[39m): \u001b[38;5;66;03m# all 4600 for the sake of analysis\u001b[39;00m\n\u001b[1;32m----> 7\u001b[0m     collisions, errors \u001b[38;5;241m=\u001b[39m \u001b[43mprocess_categories\u001b[49m\u001b[43m(\u001b[49m\u001b[43mdf\u001b[49m\u001b[43m,\u001b[49m\u001b[43m \u001b[49m\u001b[43mcursor\u001b[49m\u001b[43m,\u001b[49m\u001b[43m \u001b[49m\u001b[43mcon\u001b[49m\u001b[43m,\u001b[49m\u001b[43m \u001b[49m\u001b[43m(\u001b[49m\u001b[38;5;241;43m100\u001b[39;49m\u001b[38;5;241;43m*\u001b[39;49m\u001b[43mi\u001b[49m\u001b[43m)\u001b[49m\u001b[43m,\u001b[49m\u001b[43m \u001b[49m\u001b[43m(\u001b[49m\u001b[43m(\u001b[49m\u001b[38;5;241;43m100\u001b[39;49m\u001b[38;5;241;43m*\u001b[39;49m\u001b[43mi\u001b[49m\u001b[43m)\u001b[49m\u001b[38;5;241;43m+\u001b[39;49m\u001b[38;5;241;43m100\u001b[39;49m\u001b[43m)\u001b[49m\u001b[43m)\u001b[49m\n\u001b[0;32m      8\u001b[0m     listOfCollisions \u001b[38;5;241m+\u001b[39m\u001b[38;5;241m=\u001b[39m collisions; listOfAllErrors \u001b[38;5;241m+\u001b[39m\u001b[38;5;241m=\u001b[39m errors\n\u001b[0;32m      9\u001b[0m     \u001b[38;5;28mprint\u001b[39m(\u001b[38;5;124m\"\u001b[39m\u001b[38;5;124m100 number \u001b[39m\u001b[38;5;124m\"\u001b[39m, (i\u001b[38;5;241m+\u001b[39m\u001b[38;5;241m1\u001b[39m) ,\u001b[38;5;124m\"\u001b[39m\u001b[38;5;124m done\u001b[39m\u001b[38;5;124m\"\u001b[39m)\n",
      "Cell \u001b[1;32mIn[7], line 10\u001b[0m, in \u001b[0;36mprocess_categories\u001b[1;34m(df, cursor, con, start, end)\u001b[0m\n\u001b[0;32m      7\u001b[0m listOfCollisions \u001b[38;5;241m=\u001b[39m []; listOfAllErrors \u001b[38;5;241m=\u001b[39m []; j \u001b[38;5;241m=\u001b[39m \u001b[38;5;241m0\u001b[39m\n\u001b[0;32m      9\u001b[0m \u001b[38;5;28;01mfor\u001b[39;00m i \u001b[38;5;129;01min\u001b[39;00m \u001b[38;5;28mrange\u001b[39m(start, end):                                                                                 \u001b[38;5;66;03m# O(n)\u001b[39;00m\n\u001b[1;32m---> 10\u001b[0m     name, num \u001b[38;5;241m=\u001b[39m \u001b[43mget_category_subcategory\u001b[49m\u001b[43m(\u001b[49m\u001b[43mdf\u001b[49m\u001b[43m,\u001b[49m\u001b[43m \u001b[49m\u001b[43mi\u001b[49m\u001b[43m)\u001b[49m; num \u001b[38;5;241m=\u001b[39m \u001b[38;5;28mstr\u001b[39m(num)\n\u001b[0;32m     12\u001b[0m     \u001b[38;5;28;01mtry\u001b[39;00m:\n\u001b[0;32m     13\u001b[0m         cursor\u001b[38;5;241m.\u001b[39mexecute(\u001b[38;5;124m\"\"\"\u001b[39m\u001b[38;5;124mINSERT INTO \u001b[39m\u001b[38;5;124m\"\u001b[39m\u001b[38;5;124mCategories\u001b[39m\u001b[38;5;124m\"\u001b[39m\u001b[38;5;124m (category_id, category) VALUES (\u001b[39m\u001b[38;5;132;01m%s\u001b[39;00m\u001b[38;5;124m, \u001b[39m\u001b[38;5;132;01m%s\u001b[39;00m\u001b[38;5;124m)\u001b[39m\u001b[38;5;124m\"\"\"\u001b[39m, (num, name)) \u001b[38;5;66;03m# O(n)\u001b[39;00m\n",
      "Cell \u001b[1;32mIn[7], line 2\u001b[0m, in \u001b[0;36mget_category_subcategory\u001b[1;34m(df, index)\u001b[0m\n\u001b[0;32m      1\u001b[0m \u001b[38;5;28;01mdef\u001b[39;00m \u001b[38;5;21mget_category_subcategory\u001b[39m(df, index):\n\u001b[1;32m----> 2\u001b[0m     num \u001b[38;5;241m=\u001b[39m \u001b[43mdf\u001b[49m\u001b[38;5;241;43m.\u001b[39;49m\u001b[43mloc\u001b[49m\u001b[43m[\u001b[49m\u001b[43mindex\u001b[49m\u001b[43m,\u001b[49m\u001b[43m \u001b[49m\u001b[38;5;124;43m'\u001b[39;49m\u001b[38;5;124;43mSer\u001b[39;49m\u001b[38;5;124;43m'\u001b[39;49m\u001b[43m]\u001b[49m                                                                             \u001b[38;5;66;03m# O( log(n) )\u001b[39;00m\n\u001b[0;32m      3\u001b[0m     name \u001b[38;5;241m=\u001b[39m df\u001b[38;5;241m.\u001b[39mloc[index, \u001b[38;5;124m'\u001b[39m\u001b[38;5;124mcombined\u001b[39m\u001b[38;5;124m'\u001b[39m]\n\u001b[0;32m      4\u001b[0m     \u001b[38;5;28;01mreturn\u001b[39;00m name, num\n",
      "File \u001b[1;32m~\\AppData\\Local\\Packages\\PythonSoftwareFoundation.Python.3.12_qbz5n2kfra8p0\\LocalCache\\local-packages\\Python312\\site-packages\\pandas\\core\\indexing.py:1146\u001b[0m, in \u001b[0;36m_LocationIndexer.__getitem__\u001b[1;34m(self, key)\u001b[0m\n\u001b[0;32m   1144\u001b[0m     key \u001b[38;5;241m=\u001b[39m \u001b[38;5;28mtuple\u001b[39m(com\u001b[38;5;241m.\u001b[39mapply_if_callable(x, \u001b[38;5;28mself\u001b[39m\u001b[38;5;241m.\u001b[39mobj) \u001b[38;5;28;01mfor\u001b[39;00m x \u001b[38;5;129;01min\u001b[39;00m key)\n\u001b[0;32m   1145\u001b[0m     \u001b[38;5;28;01mif\u001b[39;00m \u001b[38;5;28mself\u001b[39m\u001b[38;5;241m.\u001b[39m_is_scalar_access(key):\n\u001b[1;32m-> 1146\u001b[0m         \u001b[38;5;28;01mreturn\u001b[39;00m \u001b[38;5;28;43mself\u001b[39;49m\u001b[38;5;241;43m.\u001b[39;49m\u001b[43mobj\u001b[49m\u001b[38;5;241;43m.\u001b[39;49m\u001b[43m_get_value\u001b[49m\u001b[43m(\u001b[49m\u001b[38;5;241;43m*\u001b[39;49m\u001b[43mkey\u001b[49m\u001b[43m,\u001b[49m\u001b[43m \u001b[49m\u001b[43mtakeable\u001b[49m\u001b[38;5;241;43m=\u001b[39;49m\u001b[38;5;28;43mself\u001b[39;49m\u001b[38;5;241;43m.\u001b[39;49m\u001b[43m_takeable\u001b[49m\u001b[43m)\u001b[49m\n\u001b[0;32m   1147\u001b[0m     \u001b[38;5;28;01mreturn\u001b[39;00m \u001b[38;5;28mself\u001b[39m\u001b[38;5;241m.\u001b[39m_getitem_tuple(key)\n\u001b[0;32m   1148\u001b[0m \u001b[38;5;28;01melse\u001b[39;00m:\n\u001b[0;32m   1149\u001b[0m     \u001b[38;5;66;03m# we by definition only have the 0th axis\u001b[39;00m\n",
      "File \u001b[1;32m~\\AppData\\Local\\Packages\\PythonSoftwareFoundation.Python.3.12_qbz5n2kfra8p0\\LocalCache\\local-packages\\Python312\\site-packages\\pandas\\core\\frame.py:4012\u001b[0m, in \u001b[0;36mDataFrame._get_value\u001b[1;34m(self, index, col, takeable)\u001b[0m\n\u001b[0;32m   4006\u001b[0m engine \u001b[38;5;241m=\u001b[39m \u001b[38;5;28mself\u001b[39m\u001b[38;5;241m.\u001b[39mindex\u001b[38;5;241m.\u001b[39m_engine\n\u001b[0;32m   4008\u001b[0m \u001b[38;5;28;01mif\u001b[39;00m \u001b[38;5;129;01mnot\u001b[39;00m \u001b[38;5;28misinstance\u001b[39m(\u001b[38;5;28mself\u001b[39m\u001b[38;5;241m.\u001b[39mindex, MultiIndex):\n\u001b[0;32m   4009\u001b[0m     \u001b[38;5;66;03m# CategoricalIndex: Trying to use the engine fastpath may give incorrect\u001b[39;00m\n\u001b[0;32m   4010\u001b[0m     \u001b[38;5;66;03m#  results if our categories are integers that dont match our codes\u001b[39;00m\n\u001b[0;32m   4011\u001b[0m     \u001b[38;5;66;03m# IntervalIndex: IntervalTree has no get_loc\u001b[39;00m\n\u001b[1;32m-> 4012\u001b[0m     row \u001b[38;5;241m=\u001b[39m \u001b[38;5;28;43mself\u001b[39;49m\u001b[38;5;241;43m.\u001b[39;49m\u001b[43mindex\u001b[49m\u001b[38;5;241;43m.\u001b[39;49m\u001b[43mget_loc\u001b[49m\u001b[43m(\u001b[49m\u001b[43mindex\u001b[49m\u001b[43m)\u001b[49m\n\u001b[0;32m   4013\u001b[0m     \u001b[38;5;28;01mreturn\u001b[39;00m series\u001b[38;5;241m.\u001b[39m_values[row]\n\u001b[0;32m   4015\u001b[0m \u001b[38;5;66;03m# For MultiIndex going through engine effectively restricts us to\u001b[39;00m\n\u001b[0;32m   4016\u001b[0m \u001b[38;5;66;03m#  same-length tuples; see test_get_set_value_no_partial_indexing\u001b[39;00m\n",
      "File \u001b[1;32m~\\AppData\\Local\\Packages\\PythonSoftwareFoundation.Python.3.12_qbz5n2kfra8p0\\LocalCache\\local-packages\\Python312\\site-packages\\pandas\\core\\indexes\\range.py:416\u001b[0m, in \u001b[0;36mRangeIndex.get_loc\u001b[1;34m(self, key)\u001b[0m\n\u001b[0;32m    414\u001b[0m         \u001b[38;5;28;01mreturn\u001b[39;00m \u001b[38;5;28mself\u001b[39m\u001b[38;5;241m.\u001b[39m_range\u001b[38;5;241m.\u001b[39mindex(new_key)\n\u001b[0;32m    415\u001b[0m     \u001b[38;5;28;01mexcept\u001b[39;00m \u001b[38;5;167;01mValueError\u001b[39;00m \u001b[38;5;28;01mas\u001b[39;00m err:\n\u001b[1;32m--> 416\u001b[0m         \u001b[38;5;28;01mraise\u001b[39;00m \u001b[38;5;167;01mKeyError\u001b[39;00m(key) \u001b[38;5;28;01mfrom\u001b[39;00m \u001b[38;5;21;01merr\u001b[39;00m\n\u001b[0;32m    417\u001b[0m \u001b[38;5;28;01mif\u001b[39;00m \u001b[38;5;28misinstance\u001b[39m(key, Hashable):\n\u001b[0;32m    418\u001b[0m     \u001b[38;5;28;01mraise\u001b[39;00m \u001b[38;5;167;01mKeyError\u001b[39;00m(key)\n",
      "\u001b[1;31mKeyError\u001b[0m: 4596"
     ]
    }
   ],
   "source": [
    "listOfCollisions = []; listOfAllErrors = []\n",
    "\n",
    "# wipe the db from DBeaver\n",
    "con = psycopg2.connect(database=\"iSupply\", host=\"38.180.117.52\", user=\"postgres\", password=\"deerRun\", port=\"5432\"); cursor = con.cursor() # open\n",
    "\n",
    "for i in range(46): # all 4600 for the sake of analysis\n",
    "    collisions, errors = process_categories(df, cursor, con, (100*i), ((100*i)+100))\n",
    "    listOfCollisions += collisions; listOfAllErrors += errors\n",
    "    print(\"100 number \", (i+1) ,\" done\")\n",
    "\n",
    "cursor.close(); con.close() # close"
   ]
  },
  {
   "cell_type": "code",
   "execution_count": 19,
   "metadata": {},
   "outputs": [
    {
     "name": "stdout",
     "output_type": "stream",
     "text": [
      "errors  [150, 339, 340, 533, 534, 535, 536, 537, 538, 539, 540, 747, 748, 749, 750, 925, 926, 927, 928, 929, 930, 1009, 1010, 1068, 1069, 1070, 1314, 1315, 1316, 1317, 1318, 1319, 1320, 1382, 1383, 1384, 1385, 1386, 1387, 1388, 1389, 1390, 1465, 1466, 1467, 1468, 1469, 1470, 1509, 1510, 1543, 1544, 1545, 1546, 1547, 1548, 1549, 1550, 1558, 1559, 1560, 1564, 1565, 1566, 1567, 1568, 1569, 1570, 1643, 1644, 1645, 1646, 1647, 1648, 1649, 1650, 1813, 1814, 1815, 1816, 1817, 1818, 1819, 1820, 1948, 1949, 1950, 1992, 1993, 1994, 1995, 1996, 1997, 1998, 1999, 2015, 2016, 2017, 2018, 2019, 2020, 2072, 2073, 2074, 2075, 2076, 2077, 2078, 2079, 2080, 2342, 2343, 2344, 2345, 2346, 2347, 2348, 2349, 2350, 2511, 2512, 2513, 2514, 2515, 2516, 2517, 2518, 2519, 2520, 2577, 2578, 2579, 2580, 2630, 2631, 2632, 2633, 2634, 2635, 2636, 2637, 2638, 2639, 2640, 2661, 2662, 2663, 2664, 2665, 2666, 2667, 2668, 2669, 2670, 3036, 3037, 3038, 3039, 3040, 3118, 3119, 3120, 3204, 3205, 3206, 3207, 3208, 3209, 3210, 3249, 3250, 3385, 3386, 3387, 3388, 3389, 3390, 3546, 3547, 3548, 3549, 3550, 3601, 3602, 3603, 3604, 3605, 3606, 3607, 3608, 3609, 3610, 3677, 3678, 3679, 3680, 3761, 3762, 3763, 3764, 3765, 3766, 3767, 3768, 3769, 3770, 3816, 3817, 3818, 3819, 3820, 3869, 3870, 3964, 3965, 3966, 3967, 3968, 3969, 3970, 4067, 4068, 4069, 4070, 4115, 4116, 4117, 4118, 4119, 4120, 4257, 4258, 4259, 4260, 4313, 4314, 4315, 4316, 4317, 4318, 4319, 4320, 4403, 4404, 4405, 4406, 4407, 4408, 4409, 4410, 4473, 4474, 4475, 4476, 4477, 4478, 4479, 4480]\n",
      "; collisions  [150, 339, 533, 747, 925, 1009, 1068, 1314, 1382, 1465, 1509, 1543, 1558, 1564, 1643, 1813, 1948, 1992, 2015, 2072, 2342, 2511, 2577, 2630, 2631, 2661, 3036, 3118, 3204, 3249, 3385, 3546, 3601, 3677, 3761, 3816, 3869, 3964, 4067, 4115, 4257, 4313, 4403, 4473]\n"
     ]
    }
   ],
   "source": [
    "print(\"errors \", listOfAllErrors);      print(\"; collisions \", listOfCollisions)"
   ]
  },
  {
   "cell_type": "code",
   "execution_count": 23,
   "metadata": {},
   "outputs": [
    {
     "name": "stdout",
     "output_type": "stream",
     "text": [
      "num errors  258\n",
      "num collisions  44\n"
     ]
    }
   ],
   "source": [
    "print(\"num errors \", len(listOfAllErrors));      print(\"num collisions \", len(listOfCollisions))"
   ]
  },
  {
   "cell_type": "markdown",
   "metadata": {},
   "source": [
    "    In other words"
   ]
  },
  {
   "cell_type": "code",
   "execution_count": 29,
   "metadata": {},
   "outputs": [
    {
     "name": "stdout",
     "output_type": "stream",
     "text": [
      "Number of missing entries in DBeaver             :  444\n",
      "Number of entries not going through on this side :  258\n",
      "Number of NaN entries not going through          :  44\n"
     ]
    }
   ],
   "source": [
    "print(\"Number of missing entries in DBeaver             : \", (4591 - 4147))\n",
    "print(\"Number of entries not going through on this side : \", len(listOfAllErrors))\n",
    "print(\"Number of NaN entries not going through          : \", len(listOfCollisions))"
   ]
  },
  {
   "cell_type": "markdown",
   "metadata": {},
   "source": [
    "    Unfortunately this looks like multiple sources of error, in an attempt to keep the timeline moving I will obtain 1 last insight before accepting this error & attempting the DB tree in SQL"
   ]
  }
 ],
 "metadata": {
  "kernelspec": {
   "display_name": "Python 3",
   "language": "python",
   "name": "python3"
  },
  "language_info": {
   "codemirror_mode": {
    "name": "ipython",
    "version": 3
   },
   "file_extension": ".py",
   "mimetype": "text/x-python",
   "name": "python",
   "nbconvert_exporter": "python",
   "pygments_lexer": "ipython3",
   "version": "3.12.3"
  }
 },
 "nbformat": 4,
 "nbformat_minor": 2
}
