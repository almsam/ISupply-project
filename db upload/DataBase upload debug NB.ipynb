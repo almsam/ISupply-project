{
 "cells": [
  {
   "cell_type": "markdown",
   "metadata": {},
   "source": [
    "# Uploading our stuff, but without 10% loss\n",
    "\n",
    "    First, lets import our tools & ingredients again"
   ]
  },
  {
   "cell_type": "code",
   "execution_count": 1,
   "metadata": {},
   "outputs": [],
   "source": [
    "import pandas as pd\n",
    "import psycopg2"
   ]
  },
  {
   "cell_type": "code",
   "execution_count": 2,
   "metadata": {},
   "outputs": [
    {
     "name": "stdout",
     "output_type": "stream",
     "text": [
      "   Ser                  combined\n",
      "0    1               Agriculture\n",
      "1    2    Agricultural Equipment\n",
      "2    3  Agricultural Greenhouses\n",
      "3    4     Aquaculture Equipment\n",
      "4    5          Aquaculture Trap\n"
     ]
    }
   ],
   "source": [
    "df = pd.read_excel('map.xlsx')\n",
    "print(df.head())"
   ]
  },
  {
   "cell_type": "code",
   "execution_count": 3,
   "metadata": {},
   "outputs": [],
   "source": [
    "con = psycopg2.connect(database=\"iSupply\",\n",
    "                        host=\"38.180.117.52\",\n",
    "                        user=\"postgres\",\n",
    "                        password=\"deerRun\",\n",
    "                        port=\"5432\")\n",
    "cursor = con.cursor()"
   ]
  },
  {
   "cell_type": "code",
   "execution_count": 4,
   "metadata": {},
   "outputs": [],
   "source": [
    "def get_category_subcategory(df, index):\n",
    "    num = df.loc[index, 'Ser']\n",
    "    name = df.loc[index, 'combined']\n",
    "    return name, num\n",
    "\n",
    "def process_categories(df, cursor, con, start, end):\n",
    "    listOfCollisions = []; j = 0\n",
    "    \n",
    "    for i in range(start, end):\n",
    "        name, num = get_category_subcategory(df, i); num = str(num)\n",
    "\n",
    "        try:\n",
    "            cursor.execute(\"\"\"INSERT INTO \"Categories\" (category_id, category) VALUES (%s, %s)\"\"\", (num, name))\n",
    "        except psycopg2.errors.UniqueViolation as e:\n",
    "            listOfCollisions.append(i)\n",
    "        except Exception as e:\n",
    "            print(f\"Error occurred: {e}\")\n",
    "        \n",
    "        if(j==10):\n",
    "            con.commit(); j = 0 # this time we will commit for each 10th entry\n",
    "        j = j + 1\n",
    "\n",
    "    con.commit()\n",
    "\n",
    "    print(len(listOfCollisions)); return listOfCollisions"
   ]
  },
  {
   "cell_type": "code",
   "execution_count": null,
   "metadata": {},
   "outputs": [],
   "source": [
    "# wipe the db from DBeaver\n",
    "\n",
    "con = psycopg2.connect(database=\"iSupply\",\n",
    "                        host=\"38.180.117.52\",\n",
    "                        user=\"postgres\",\n",
    "                        password=\"deerRun\",\n",
    "                        port=\"5432\")\n",
    "cursor = con.cursor()\n",
    "\n",
    "for i in range(46): # first 46 hundreds - should do it, but 15 mins seems like an issue - but lets buckle up none the less\n",
    "    collisions = process_categories(df, cursor, con, (100*i), ((100*i)+100))\n",
    "    print(\"100 number \", (i+1) ,\" done\")"
   ]
  },
  {
   "cell_type": "code",
   "execution_count": 5,
   "metadata": {},
   "outputs": [],
   "source": [
    "cursor.close()\n",
    "con.close()"
   ]
  },
  {
   "cell_type": "markdown",
   "metadata": {},
   "source": [
    "    Now, lets run the first couple hundreds from the O(n) method, but lets make 1 key change"
   ]
  },
  {
   "cell_type": "code",
   "execution_count": null,
   "metadata": {},
   "outputs": [],
   "source": [
    "def get_category_subcategory(df, index):\n",
    "    num = df.loc[index, 'Ser']\n",
    "    name = df.loc[index, 'combined']\n",
    "    return name, num\n",
    "\n",
    "def process_categories(df, cursor, con, start, end):\n",
    "    listOfCollisions = []; listOfAllErrors = []; j = 0\n",
    "    \n",
    "    for i in range(start, end):\n",
    "        name, num = get_category_subcategory(df, i); num = str(num)\n",
    "\n",
    "        try:\n",
    "            cursor.execute(\"\"\"INSERT INTO \"Categories\" (category_id, category) VALUES (%s, %s)\"\"\", (num, name))\n",
    "        except psycopg2.errors.UniqueViolation as e:\n",
    "            listOfAllErrors.append(i); listOfCollisions.append(i)\n",
    "        except Exception as e:\n",
    "            print(f\"Error occurred: {e}\")\n",
    "            listOfAllErrors.append(i)\n",
    "        \n",
    "        if(j==10):\n",
    "            con.commit(); j = 0 # this time we will commit for each 10th entry\n",
    "        j = j + 1\n",
    "\n",
    "    con.commit()\n",
    "\n",
    "    print(len(listOfCollisions), len(listOfAllErrors)); return listOfCollisions, listOfAllErrors\n",
    "\n",
    "    # this should give us some details on where our data is going"
   ]
  },
  {
   "cell_type": "code",
   "execution_count": null,
   "metadata": {},
   "outputs": [],
   "source": [
    "listOfCollisions = []; listOfAllErrors = []\n",
    "\n",
    "# wipe the db from DBeaver\n",
    "\n",
    "con = psycopg2.connect(database=\"iSupply\", host=\"38.180.117.52\", user=\"postgres\", password=\"deerRun\", port=\"5432\"); cursor = con.cursor() # open\n",
    "\n",
    "for i in range(5): # first 5 hundreds for sake of inspection\n",
    "    collisions, errors = process_categories(df, cursor, con, (100*i), ((100*i)+100))\n",
    "    listOfCollisions.append(collisions); listOfAllErrors.append(errors)\n",
    "    print(\"100 number \", (i+1) ,\" done\")\n",
    "\n",
    "cursor.close(); con.close() # close"
   ]
  },
  {
   "cell_type": "markdown",
   "metadata": {},
   "source": [
    "    Upon realizing there is a better way to do this, its time to inspect the database for this instead"
   ]
  }
 ],
 "metadata": {
  "kernelspec": {
   "display_name": "Python 3",
   "language": "python",
   "name": "python3"
  },
  "language_info": {
   "codemirror_mode": {
    "name": "ipython",
    "version": 3
   },
   "file_extension": ".py",
   "mimetype": "text/x-python",
   "name": "python",
   "nbconvert_exporter": "python",
   "pygments_lexer": "ipython3",
   "version": "3.12.3"
  }
 },
 "nbformat": 4,
 "nbformat_minor": 2
}
