{
 "cells": [
  {
   "cell_type": "markdown",
   "metadata": {},
   "source": [
    "# Uploading our stuff, but without 10% loss\n",
    "\n",
    "    First, lets import our tools & ingredients again"
   ]
  },
  {
   "cell_type": "code",
   "execution_count": null,
   "metadata": {},
   "outputs": [],
   "source": [
    "import pandas as pd\n",
    "import psycopg2"
   ]
  },
  {
   "cell_type": "code",
   "execution_count": null,
   "metadata": {},
   "outputs": [],
   "source": [
    "df = pd.read_excel('map.xlsx')\n",
    "print(df.head())"
   ]
  },
  {
   "cell_type": "code",
   "execution_count": null,
   "metadata": {},
   "outputs": [],
   "source": [
    "con = psycopg2.connect(database=\"iSupply\",\n",
    "                        host=\"38.180.117.52\",\n",
    "                        user=\"postgres\",\n",
    "                        password=\"deerRun\",\n",
    "                        port=\"5432\")\n",
    "cursor = con.cursor()"
   ]
  },
  {
   "cell_type": "code",
   "execution_count": null,
   "metadata": {},
   "outputs": [],
   "source": [
    "def get_category_subcategory(df, index):\n",
    "    num = df.loc[index, 'Ser']\n",
    "    name = df.loc[index, 'combined']\n",
    "    return name, num\n",
    "\n",
    "def process_categories(df, cursor, con, start, end):\n",
    "    listOfCollisions = []; j = 0\n",
    "    \n",
    "    for i in range(start, end):\n",
    "        name, num = get_category_subcategory(df, i); num = str(num)\n",
    "\n",
    "        try:\n",
    "            cursor.execute(\"\"\"INSERT INTO \"Categories\" (category_id, category) VALUES (%s, %s)\"\"\", (num, name))\n",
    "        except psycopg2.errors.UniqueViolation as e:\n",
    "            listOfCollisions.append(i)\n",
    "        except Exception as e:\n",
    "            print(f\"Error occurred: {e}\")\n",
    "        \n",
    "        if(j==10):\n",
    "            con.commit(); j = 0 # this time we will commit for each 10th entry\n",
    "        j = j + 1\n",
    "\n",
    "    con.commit()\n",
    "\n",
    "    print(len(listOfCollisions)); return listOfCollisions"
   ]
  },
  {
   "cell_type": "code",
   "execution_count": null,
   "metadata": {},
   "outputs": [],
   "source": [
    "# wipe the db from DBeaver\n",
    "\n",
    "con = psycopg2.connect(database=\"iSupply\",\n",
    "                        host=\"38.180.117.52\",\n",
    "                        user=\"postgres\",\n",
    "                        password=\"deerRun\",\n",
    "                        port=\"5432\")\n",
    "cursor = con.cursor()\n",
    "\n",
    "for i in range(46): # first 46 hundreds - should do it, but 15 mins seems like an issue - but lets buckle up none the less\n",
    "    collisions = process_categories(df, cursor, con, (100*i), ((100*i)+100))\n",
    "    print(\"100 number \", (i+1) ,\" done\")"
   ]
  },
  {
   "cell_type": "code",
   "execution_count": null,
   "metadata": {},
   "outputs": [],
   "source": [
    "cursor.close()\n",
    "con.close()"
   ]
  }
 ],
 "metadata": {
  "language_info": {
   "name": "python"
  }
 },
 "nbformat": 4,
 "nbformat_minor": 2
}
