{
 "cells": [
  {
   "cell_type": "markdown",
   "metadata": {},
   "source": [
    "# Uploading our stuff\n",
    "\n",
    "    First, lets import our python toolbox and the data"
   ]
  },
  {
   "cell_type": "code",
   "execution_count": 2,
   "metadata": {},
   "outputs": [],
   "source": [
    "import pandas as pd\n",
    "import psycopg2"
   ]
  },
  {
   "cell_type": "code",
   "execution_count": 39,
   "metadata": {},
   "outputs": [
    {
     "name": "stdout",
     "output_type": "stream",
     "text": [
      "   Ser     Category             SubCategory         SubSubCategory  \\\n",
      "0    5  Agriculture  Agricultural Equipment  Aquaculture Equipment   \n",
      "1    6  Agriculture  Agricultural Equipment  Aquaculture Equipment   \n",
      "2    7  Agriculture  Agricultural Equipment  Aquaculture Equipment   \n",
      "3    8  Agriculture  Agricultural Equipment  Aquaculture Equipment   \n",
      "4    9  Agriculture  Agricultural Equipment  Aquaculture Equipment   \n",
      "\n",
      "             SubSubSubCategory  \n",
      "0             Aquaculture Trap  \n",
      "1                Fishing Float  \n",
      "2                  Fishing Net  \n",
      "3                 Fishing Rope  \n",
      "4  Other Aquaculture Equipment  \n"
     ]
    }
   ],
   "source": [
    "dfip = pd.read_excel('InPerfectOutput.xlsx')\n",
    "print(dfip.head())"
   ]
  },
  {
   "cell_type": "code",
   "execution_count": 40,
   "metadata": {},
   "outputs": [
    {
     "name": "stdout",
     "output_type": "stream",
     "text": [
      "   Ser     Category             SubCategory            SubSubCategory  \\\n",
      "0    3  Agriculture  Agricultural Equipment  Agricultural Greenhouses   \n",
      "1    4  Agriculture  Agricultural Equipment     Aquaculture Equipment   \n",
      "2    5  Agriculture  Agricultural Equipment     Aquaculture Equipment   \n",
      "3    6  Agriculture  Agricultural Equipment     Aquaculture Equipment   \n",
      "4    7  Agriculture  Agricultural Equipment     Aquaculture Equipment   \n",
      "\n",
      "  SubSubSubCategory  \n",
      "0               NaN  \n",
      "1               NaN  \n",
      "2  Aquaculture Trap  \n",
      "3     Fishing Float  \n",
      "4       Fishing Net  \n"
     ]
    }
   ],
   "source": [
    "dfp = pd.read_excel('PerfectOutput.xlsx')\n",
    "print(dfp.head())"
   ]
  },
  {
   "cell_type": "code",
   "execution_count": 42,
   "metadata": {},
   "outputs": [
    {
     "name": "stdout",
     "output_type": "stream",
     "text": [
      "                   category               subcategory\n",
      "0               Agriculture    Agricultural Equipment\n",
      "1    Agricultural Equipment  Agricultural Greenhouses\n",
      "2  Agricultural Greenhouses                       NaN\n",
      "3               Agriculture    Agricultural Equipment\n",
      "4    Agricultural Equipment     Aquaculture Equipment\n"
     ]
    }
   ],
   "source": [
    "dfSlim = pd.read_excel('slimTree.xlsx')\n",
    "print(dfSlim.head())"
   ]
  },
  {
   "cell_type": "code",
   "execution_count": 61,
   "metadata": {},
   "outputs": [],
   "source": [
    "con = psycopg2.connect(database=\"iSupply\",\n",
    "                        host=\"38.180.117.52\",\n",
    "                        user=\"postgres\",\n",
    "                        password=\"deerRun\",\n",
    "                        port=\"5432\")\n",
    "cursor = con.cursor()"
   ]
  },
  {
   "cell_type": "code",
   "execution_count": 55,
   "metadata": {},
   "outputs": [],
   "source": [
    "# select * from \"Categories\" c;\n",
    "# insert into \"Categories\" (category) values ('food');\n",
    "\n",
    "cursor.execute(\"\"\"select * from \"Categories\" c\"\"\")\n",
    "cursor.execute(\"\"\"insert into \"Categories\" (category) values ('food but with py again this time')\"\"\")\n"
   ]
  },
  {
   "cell_type": "markdown",
   "metadata": {},
   "source": [
    "    Read from DB to test"
   ]
  },
  {
   "cell_type": "code",
   "execution_count": 56,
   "metadata": {},
   "outputs": [
    {
     "name": "stdout",
     "output_type": "stream",
     "text": [
      "[(3, 'food2'), (4, 'food'), (6, 'food9'), (8, 'food99'), (27, 'food but with py again this time')]\n"
     ]
    }
   ],
   "source": [
    "cursor.execute(\"\"\"select * from \"Categories\" c\"\"\")\n",
    "\n",
    "print(cursor.fetchall())"
   ]
  },
  {
   "cell_type": "markdown",
   "metadata": {},
   "source": [
    "    Due to a few issues, lets unit test this again"
   ]
  },
  {
   "cell_type": "code",
   "execution_count": 57,
   "metadata": {},
   "outputs": [
    {
     "name": "stdout",
     "output_type": "stream",
     "text": [
      "[(3, 'food2'), (4, 'food'), (6, 'food9'), (8, 'food99'), (27, 'food but with py again this time'), (28, 'unique code which will be in table')]\n"
     ]
    }
   ],
   "source": [
    "cursor.execute(\"\"\"select * from \"Categories\" c\"\"\")\n",
    "cursor.execute(\"\"\"insert into \"Categories\" (category) values ('unique code which will be in table')\"\"\")\n",
    "\n",
    "cursor.execute(\"\"\"select * from \"Categories\" c\"\"\")\n",
    "print(cursor.fetchall())"
   ]
  },
  {
   "cell_type": "markdown",
   "metadata": {},
   "source": [
    "    Looks like reading & writing works, now lets try deleting"
   ]
  },
  {
   "cell_type": "code",
   "execution_count": 58,
   "metadata": {},
   "outputs": [
    {
     "name": "stdout",
     "output_type": "stream",
     "text": [
      "[(3, 'food2'), (4, 'food'), (6, 'food9'), (8, 'food99'), (27, 'food but with py again this time')]\n"
     ]
    }
   ],
   "source": [
    "cursor.execute(\"\"\"select * from \"Categories\" c\"\"\")\n",
    "category_id = \"28\"; category_name = 'unique code which will be in table'\n",
    "cursor.execute(\"\"\"DELETE FROM \"Categories\" WHERE category_id = \"\"\" + category_id)# + \"\"\" OR category = \"\"\" + category_name)# type: ignore #, (category_id, category_name))\n",
    "\n",
    "cursor.execute(\"\"\"select * from \"Categories\" c\"\"\")\n",
    "print(cursor.fetchall())"
   ]
  },
  {
   "cell_type": "markdown",
   "metadata": {},
   "source": [
    "\n",
    "\n",
    "    Now lets make a similar version for the categroy tree:"
   ]
  },
  {
   "cell_type": "code",
   "execution_count": 63,
   "metadata": {},
   "outputs": [],
   "source": [
    "# cursor.execute(\"\"\"select * from \"Category_Tree\" ct\"\"\")\n",
    "# cursor.execute(\"\"\"insert into \"Category_Tree\" (category_id, sub_category_id) values (\"catid\", \"subcatid\")\"\"\")\n",
    "\n",
    "# cursor.execute(\"\"\"select * from \"Categories\" c\"\"\")\n",
    "# print(cursor.fetchall())"
   ]
  },
  {
   "cell_type": "markdown",
   "metadata": {},
   "source": [
    "    this would work to pass a string, but Category_Tree's category & sub category parameters both take integers, so lets get encoding\n",
    "\n",
    "    First lets pass an old data set from pdf processing, the following cell is recycled code"
   ]
  },
  {
   "cell_type": "code",
   "execution_count": 65,
   "metadata": {},
   "outputs": [
    {
     "name": "stdout",
     "output_type": "stream",
     "text": [
      "       Ser     Category             SubCategory            SubSubCategory  \\\n",
      "0        1  Agriculture                     NaN                       NaN   \n",
      "1        2          NaN  Agricultural Equipment                       NaN   \n",
      "2        3          NaN                     NaN  Agricultural Greenhouses   \n",
      "3        4          NaN                     NaN     Aquaculture Equipment   \n",
      "4        5          NaN                     NaN                       NaN   \n",
      "...    ...          ...                     ...                       ...   \n",
      "4591  4592          NaN                     NaN            Truck Steering   \n",
      "4592  4593          NaN                     NaN          Truck Suspension   \n",
      "4593  4594          NaN                     NaN                Truck Tire   \n",
      "4594  4595          NaN                     NaN        Truck Transmission   \n",
      "4595  4596          NaN                     NaN               Truck Wheel   \n",
      "\n",
      "     SubSubSubCategory  \n",
      "0                  NaN  \n",
      "1                  NaN  \n",
      "2                  NaN  \n",
      "3                  NaN  \n",
      "4     Aquaculture Trap  \n",
      "...                ...  \n",
      "4591               NaN  \n",
      "4592               NaN  \n",
      "4593               NaN  \n",
      "4594               NaN  \n",
      "4595               NaN  \n",
      "\n",
      "[4596 rows x 5 columns]\n"
     ]
    }
   ],
   "source": [
    "df1 = pd.read_excel('document.xlsx')\n",
    "midpoint = len(df1) // 2\n",
    "df2a = df1.iloc[:midpoint].reset_index(drop=True)\n",
    "df2b = df1.iloc[midpoint:].reset_index(drop=True)\n",
    "df2b = df2b.drop(['Category', 'SubCategory'], axis=1) # drop na collumns\n",
    "df2b = df2b.iloc[1:] # remove unneccesary row with innacurate names\n",
    "df2b.columns = ['SubSubCategory', 'SubSubSubCategory']\n",
    "df2a = df2a.drop(['Unnamed: 3'], axis=1) # drop\n",
    "df2b['Ser'] = range(1, len(df2b) + 1)\n",
    "df3 = pd.merge(df2a, df2b, on='Ser', suffixes=('_a', '_b'))\n",
    "\n",
    "print(df3)"
   ]
  },
  {
   "cell_type": "markdown",
   "metadata": {},
   "source": [
    "    Now lets try making a map from this"
   ]
  },
  {
   "cell_type": "code",
   "execution_count": 75,
   "metadata": {},
   "outputs": [
    {
     "name": "stdout",
     "output_type": "stream",
     "text": [
      "       Ser                  combined\n",
      "0        1               Agriculture\n",
      "1        2    Agricultural Equipment\n",
      "2        3  Agricultural Greenhouses\n",
      "3        4     Aquaculture Equipment\n",
      "4        5          Aquaculture Trap\n",
      "...    ...                       ...\n",
      "4591  4592            Truck Steering\n",
      "4592  4593          Truck Suspension\n",
      "4593  4594                Truck Tire\n",
      "4594  4595        Truck Transmission\n",
      "4595  4596               Truck Wheel\n",
      "\n",
      "[4596 rows x 2 columns]\n"
     ]
    }
   ],
   "source": [
    "df = pd.DataFrame(df3)\n",
    "\n",
    "def combine_non_na(row):\n",
    "    return ' '.join([str(val) for val in row if val != 'na' and not isinstance(val, (int, float))])\n",
    "\n",
    "df['combined'] = df.apply(combine_non_na, axis=1)\n",
    "\n",
    "df = df[['Ser', 'combined']]\n",
    "\n",
    "\n",
    "print(df)"
   ]
  },
  {
   "cell_type": "markdown",
   "metadata": {},
   "source": [
    "\n",
    "    & the final step is to use this to commit our data to the DB"
   ]
  },
  {
   "cell_type": "code",
   "execution_count": 42,
   "metadata": {},
   "outputs": [
    {
     "name": "stdout",
     "output_type": "stream",
     "text": [
      "f\n",
      "f\n",
      "f\n",
      "f\n",
      "f\n"
     ]
    }
   ],
   "source": [
    "len = dfip.size\n",
    "\n",
    "for i in dfp:\n",
    "    print(\"f\")\n",
    "\n"
   ]
  },
  {
   "cell_type": "code",
   "execution_count": null,
   "metadata": {},
   "outputs": [],
   "source": [
    "# Ser = []; Cat = []; SCat = []; SSCat = []; SSSCat = []\n",
    "\n",
    "# for i in dfp:\n",
    "#     Ser.append(dfp['Ser'])\n",
    "#     Cat.append(dfp['Category'])\n",
    "#     SCat.append(dfp['SubCategory'])\n",
    "#     SSCat.append(dfp['SubSubCategory'])\n",
    "#     SSSCat.append(dfp['SubSubSubCategory'])\n",
    "\n",
    "# Ser; # Cat; # SCat; # SSCat; # SSSCat\n"
   ]
  }
 ],
 "metadata": {
  "kernelspec": {
   "display_name": "Python 3",
   "language": "python",
   "name": "python3"
  },
  "language_info": {
   "codemirror_mode": {
    "name": "ipython",
    "version": 3
   },
   "file_extension": ".py",
   "mimetype": "text/x-python",
   "name": "python",
   "nbconvert_exporter": "python",
   "pygments_lexer": "ipython3",
   "version": "3.12.3"
  }
 },
 "nbformat": 4,
 "nbformat_minor": 2
}
