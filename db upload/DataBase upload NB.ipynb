{
 "cells": [
  {
   "cell_type": "markdown",
   "metadata": {},
   "source": [
    "# Uploading our stuff\n",
    "\n",
    "    First, lets import our python toolbox and the data"
   ]
  },
  {
   "cell_type": "code",
   "execution_count": 1,
   "metadata": {},
   "outputs": [],
   "source": [
    "import pandas as pd\n",
    "import psycopg2"
   ]
  },
  {
   "cell_type": "code",
   "execution_count": 2,
   "metadata": {},
   "outputs": [
    {
     "name": "stdout",
     "output_type": "stream",
     "text": [
      "   Ser     Category             SubCategory         SubSubCategory  \\\n",
      "0    5  Agriculture  Agricultural Equipment  Aquaculture Equipment   \n",
      "1    6  Agriculture  Agricultural Equipment  Aquaculture Equipment   \n",
      "2    7  Agriculture  Agricultural Equipment  Aquaculture Equipment   \n",
      "3    8  Agriculture  Agricultural Equipment  Aquaculture Equipment   \n",
      "4    9  Agriculture  Agricultural Equipment  Aquaculture Equipment   \n",
      "\n",
      "             SubSubSubCategory  \n",
      "0             Aquaculture Trap  \n",
      "1                Fishing Float  \n",
      "2                  Fishing Net  \n",
      "3                 Fishing Rope  \n",
      "4  Other Aquaculture Equipment  \n"
     ]
    }
   ],
   "source": [
    "dfip = pd.read_excel('InPerfectOutput.xlsx')\n",
    "print(dfip.head())"
   ]
  },
  {
   "cell_type": "code",
   "execution_count": 3,
   "metadata": {},
   "outputs": [
    {
     "name": "stdout",
     "output_type": "stream",
     "text": [
      "   Ser     Category             SubCategory            SubSubCategory  \\\n",
      "0    3  Agriculture  Agricultural Equipment  Agricultural Greenhouses   \n",
      "1    4  Agriculture  Agricultural Equipment     Aquaculture Equipment   \n",
      "2    5  Agriculture  Agricultural Equipment     Aquaculture Equipment   \n",
      "3    6  Agriculture  Agricultural Equipment     Aquaculture Equipment   \n",
      "4    7  Agriculture  Agricultural Equipment     Aquaculture Equipment   \n",
      "\n",
      "  SubSubSubCategory  \n",
      "0               NaN  \n",
      "1               NaN  \n",
      "2  Aquaculture Trap  \n",
      "3     Fishing Float  \n",
      "4       Fishing Net  \n"
     ]
    }
   ],
   "source": [
    "dfp = pd.read_excel('PerfectOutput.xlsx')\n",
    "print(dfp.head())"
   ]
  },
  {
   "cell_type": "code",
   "execution_count": 4,
   "metadata": {},
   "outputs": [
    {
     "name": "stdout",
     "output_type": "stream",
     "text": [
      "                   category               subcategory\n",
      "0               Agriculture    Agricultural Equipment\n",
      "1    Agricultural Equipment  Agricultural Greenhouses\n",
      "2  Agricultural Greenhouses                       NaN\n",
      "3               Agriculture    Agricultural Equipment\n",
      "4    Agricultural Equipment     Aquaculture Equipment\n"
     ]
    }
   ],
   "source": [
    "dfSlim = pd.read_excel('slimTree.xlsx')\n",
    "print(dfSlim.head())"
   ]
  },
  {
   "cell_type": "code",
   "execution_count": 10,
   "metadata": {},
   "outputs": [],
   "source": [
    "con = psycopg2.connect(database=\"iSupply\",\n",
    "                        host=\"38.180.117.52\",\n",
    "                        user=\"postgres\",\n",
    "                        password=\"deerRun\",\n",
    "                        port=\"5432\")\n",
    "cursor = con.cursor()"
   ]
  },
  {
   "cell_type": "code",
   "execution_count": 11,
   "metadata": {},
   "outputs": [],
   "source": [
    "# select * from \"Categories\" c;\n",
    "# insert into \"Categories\" (category) values ('food');\n",
    "\n",
    "cursor.execute(\"\"\"select * from \"Categories\" c\"\"\")\n",
    "cursor.execute(\"\"\"insert into \"Categories\" (category) values ('food but with py again this time')\"\"\")\n"
   ]
  },
  {
   "cell_type": "markdown",
   "metadata": {},
   "source": [
    "    Read from DB to test"
   ]
  },
  {
   "cell_type": "code",
   "execution_count": 12,
   "metadata": {},
   "outputs": [
    {
     "name": "stdout",
     "output_type": "stream",
     "text": [
      "[(563, 'food99'), (564, 'food but with py again this time')]\n"
     ]
    }
   ],
   "source": [
    "cursor.execute(\"\"\"select * from \"Categories\" c\"\"\")\n",
    "\n",
    "print(cursor.fetchall())"
   ]
  },
  {
   "cell_type": "markdown",
   "metadata": {},
   "source": [
    "    Due to a few issues, lets unit test this again"
   ]
  },
  {
   "cell_type": "code",
   "execution_count": 13,
   "metadata": {},
   "outputs": [
    {
     "name": "stdout",
     "output_type": "stream",
     "text": [
      "[(563, 'food99'), (564, 'food but with py again this time'), (565, 'unique code which will be in table')]\n"
     ]
    }
   ],
   "source": [
    "cursor.execute(\"\"\"select * from \"Categories\" c\"\"\")\n",
    "cursor.execute(\"\"\"insert into \"Categories\" (category) values ('unique code which will be in table')\"\"\")\n",
    "\n",
    "cursor.execute(\"\"\"select * from \"Categories\" c\"\"\")\n",
    "print(cursor.fetchall())"
   ]
  },
  {
   "cell_type": "markdown",
   "metadata": {},
   "source": [
    "    Looks like reading & writing works, now lets try deleting"
   ]
  },
  {
   "cell_type": "code",
   "execution_count": 15,
   "metadata": {},
   "outputs": [
    {
     "name": "stdout",
     "output_type": "stream",
     "text": [
      "[(563, 'food99'), (564, 'food but with py again this time')]\n"
     ]
    }
   ],
   "source": [
    "cursor.execute(\"\"\"select * from \"Categories\" c\"\"\")\n",
    "category_id = \"565\"; category_name = 'unique code which will be in table'\n",
    "cursor.execute(\"\"\"DELETE FROM \"Categories\" WHERE category_id = \"\"\" + category_id)# + \"\"\" OR category = \"\"\" + category_name)# type: ignore #, (category_id, category_name))\n",
    "\n",
    "cursor.execute(\"\"\"select * from \"Categories\" c\"\"\")\n",
    "print(cursor.fetchall())"
   ]
  },
  {
   "cell_type": "markdown",
   "metadata": {},
   "source": [
    "\n",
    "\n",
    "    Now lets make a similar version for the categroy tree:"
   ]
  },
  {
   "cell_type": "code",
   "execution_count": 63,
   "metadata": {},
   "outputs": [],
   "source": [
    "# cursor.execute(\"\"\"select * from \"Category_Tree\" ct\"\"\")\n",
    "# cursor.execute(\"\"\"insert into \"Category_Tree\" (category_id, sub_category_id) values (\"catid\", \"subcatid\")\"\"\")\n",
    "\n",
    "# cursor.execute(\"\"\"select * from \"Categories\" c\"\"\")\n",
    "# print(cursor.fetchall())"
   ]
  },
  {
   "cell_type": "markdown",
   "metadata": {},
   "source": [
    "    this would work to pass a string, but Category_Tree's category & sub category parameters both take integers, so lets get encoding\n",
    "\n",
    "    First lets pass an old data set from pdf processing, the following cell is recycled code"
   ]
  },
  {
   "cell_type": "code",
   "execution_count": 16,
   "metadata": {},
   "outputs": [
    {
     "name": "stdout",
     "output_type": "stream",
     "text": [
      "       Ser     Category             SubCategory            SubSubCategory  \\\n",
      "0        1  Agriculture                     NaN                       NaN   \n",
      "1        2          NaN  Agricultural Equipment                       NaN   \n",
      "2        3          NaN                     NaN  Agricultural Greenhouses   \n",
      "3        4          NaN                     NaN     Aquaculture Equipment   \n",
      "4        5          NaN                     NaN                       NaN   \n",
      "...    ...          ...                     ...                       ...   \n",
      "4591  4592          NaN                     NaN            Truck Steering   \n",
      "4592  4593          NaN                     NaN          Truck Suspension   \n",
      "4593  4594          NaN                     NaN                Truck Tire   \n",
      "4594  4595          NaN                     NaN        Truck Transmission   \n",
      "4595  4596          NaN                     NaN               Truck Wheel   \n",
      "\n",
      "     SubSubSubCategory  \n",
      "0                  NaN  \n",
      "1                  NaN  \n",
      "2                  NaN  \n",
      "3                  NaN  \n",
      "4     Aquaculture Trap  \n",
      "...                ...  \n",
      "4591               NaN  \n",
      "4592               NaN  \n",
      "4593               NaN  \n",
      "4594               NaN  \n",
      "4595               NaN  \n",
      "\n",
      "[4596 rows x 5 columns]\n"
     ]
    }
   ],
   "source": [
    "df1 = pd.read_excel('document.xlsx')\n",
    "midpoint = len(df1) // 2 # type: ignore\n",
    "df2a = df1.iloc[:midpoint].reset_index(drop=True)\n",
    "df2b = df1.iloc[midpoint:].reset_index(drop=True)\n",
    "df2b = df2b.drop(['Category', 'SubCategory'], axis=1) # drop na collumns\n",
    "df2b = df2b.iloc[1:] # remove unneccesary row with innacurate names\n",
    "df2b.columns = ['SubSubCategory', 'SubSubSubCategory']\n",
    "df2a = df2a.drop(['Unnamed: 3'], axis=1) # drop\n",
    "df2b['Ser'] = range(1, len(df2b) + 1) # type: ignore\n",
    "df3 = pd.merge(df2a, df2b, on='Ser', suffixes=('_a', '_b'))\n",
    "\n",
    "print(df3)"
   ]
  },
  {
   "cell_type": "markdown",
   "metadata": {},
   "source": [
    "    Now lets try making a map from this"
   ]
  },
  {
   "cell_type": "code",
   "execution_count": 17,
   "metadata": {},
   "outputs": [
    {
     "name": "stdout",
     "output_type": "stream",
     "text": [
      "       Ser                  combined\n",
      "0        1               Agriculture\n",
      "1        2    Agricultural Equipment\n",
      "2        3  Agricultural Greenhouses\n",
      "3        4     Aquaculture Equipment\n",
      "4        5          Aquaculture Trap\n",
      "...    ...                       ...\n",
      "4591  4592            Truck Steering\n",
      "4592  4593          Truck Suspension\n",
      "4593  4594                Truck Tire\n",
      "4594  4595        Truck Transmission\n",
      "4595  4596               Truck Wheel\n",
      "\n",
      "[4596 rows x 2 columns]\n"
     ]
    }
   ],
   "source": [
    "df = pd.DataFrame(df3)\n",
    "\n",
    "def combine_non_na(row):\n",
    "    return ' '.join([str(val) for val in row if val != 'na' and not isinstance(val, (int, float))])\n",
    "\n",
    "df['combined'] = df.apply(combine_non_na, axis=1)\n",
    "\n",
    "df = df[['Ser', 'combined']]\n",
    "\n",
    "print(df)"
   ]
  },
  {
   "cell_type": "markdown",
   "metadata": {},
   "source": [
    "    Lets save this for safe keeping"
   ]
  },
  {
   "cell_type": "code",
   "execution_count": 18,
   "metadata": {},
   "outputs": [],
   "source": [
    "df.to_excel('map.xlsx', index=False)"
   ]
  },
  {
   "cell_type": "markdown",
   "metadata": {},
   "source": [
    "    Now its DB time, we need to put this map into 1 of our tables, & use the map for our other table\n",
    "\n",
    "    Lets start out by uploading the map we just made\n",
    "\n",
    "    First lets make sure the db is empty"
   ]
  },
  {
   "cell_type": "code",
   "execution_count": 23,
   "metadata": {},
   "outputs": [
    {
     "name": "stdout",
     "output_type": "stream",
     "text": [
      "[]\n"
     ]
    }
   ],
   "source": [
    "cursor.execute(\"\"\"select * from \"Categories\" c\"\"\")\n",
    "print(cursor.fetchall())\n",
    "\n",
    "# cursor.execute(\"\"\"select * from \"Categories\" c\"\"\")\n",
    "# cursor.execute(\"\"\"insert into \"Categories\" (category) values ('food but with py again this time')\"\"\")\n",
    "\n",
    "# cursor.execute(\"\"\"select * from \"Categories\" c\"\"\")\n",
    "# cursor.execute(\"\"\"drop table \"Categories\" \"\"\")"
   ]
  },
  {
   "cell_type": "code",
   "execution_count": 98,
   "metadata": {},
   "outputs": [],
   "source": [
    "\n",
    "# cursor.execute(\"\"\"select * from \"Categories\" c\"\"\")\n",
    "# cursor.execute(\"\"\"insert into \"Categories\" (category) values ('food but with py again this time')\"\"\")\n",
    "\n",
    "# cursor.execute(\"\"\"select * from \"Categories\" c\"\"\")\n",
    "# print(cursor.fetchall())"
   ]
  },
  {
   "cell_type": "markdown",
   "metadata": {},
   "source": [
    "    Now lets touch the DB"
   ]
  },
  {
   "cell_type": "code",
   "execution_count": 27,
   "metadata": {},
   "outputs": [],
   "source": [
    "con = psycopg2.connect(database=\"iSupply\",\n",
    "                        host=\"38.180.117.52\",\n",
    "                        user=\"postgres\",\n",
    "                        password=\"deerRun\",\n",
    "                        port=\"5432\")\n",
    "cursor = con.cursor()"
   ]
  },
  {
   "cell_type": "code",
   "execution_count": 28,
   "metadata": {},
   "outputs": [
    {
     "ename": "UniqueViolation",
     "evalue": "duplicate key value violates unique constraint \"accounts_category_key\"\nDETAIL:  Key (category)=() already exists.\n",
     "output_type": "error",
     "traceback": [
      "\u001b[1;31m---------------------------------------------------------------------------\u001b[0m",
      "\u001b[1;31mUniqueViolation\u001b[0m                           Traceback (most recent call last)",
      "Cell \u001b[1;32mIn[28], line 10\u001b[0m\n\u001b[0;32m      7\u001b[0m     num, name \u001b[38;5;241m=\u001b[39m get_category_subcategory(df, i); num \u001b[38;5;241m=\u001b[39m \u001b[38;5;28mstr\u001b[39m(num)\n\u001b[0;32m      9\u001b[0m     cursor\u001b[38;5;241m.\u001b[39mexecute(\u001b[38;5;124m\"\"\"\u001b[39m\u001b[38;5;124mselect * from \u001b[39m\u001b[38;5;124m\"\u001b[39m\u001b[38;5;124mCategories\u001b[39m\u001b[38;5;124m\"\u001b[39m\u001b[38;5;124m c\u001b[39m\u001b[38;5;124m\"\"\"\u001b[39m)\n\u001b[1;32m---> 10\u001b[0m     \u001b[43mcursor\u001b[49m\u001b[38;5;241;43m.\u001b[39;49m\u001b[43mexecute\u001b[49m\u001b[43m(\u001b[49m\u001b[38;5;124;43m\"\"\"\u001b[39;49m\u001b[38;5;124;43minsert into \u001b[39;49m\u001b[38;5;124;43m\"\u001b[39;49m\u001b[38;5;124;43mCategories\u001b[39;49m\u001b[38;5;124;43m\"\u001b[39;49m\u001b[38;5;124;43m (category_id, category) values (\u001b[39;49m\u001b[38;5;124;43m\"\"\"\u001b[39;49m\u001b[43m \u001b[49m\u001b[38;5;241;43m+\u001b[39;49m\u001b[43m \u001b[49m\u001b[43mnum\u001b[49m\u001b[43m \u001b[49m\u001b[38;5;241;43m+\u001b[39;49m\u001b[43m \u001b[49m\u001b[38;5;124;43m\"\"\"\u001b[39;49m\u001b[38;5;124;43m, \u001b[39;49m\u001b[38;5;124;43m'\u001b[39;49m\u001b[38;5;124;43m\"\"\"\u001b[39;49m\u001b[43m \u001b[49m\u001b[38;5;241;43m+\u001b[39;49m\u001b[43m \u001b[49m\u001b[43mname\u001b[49m\u001b[43m \u001b[49m\u001b[38;5;241;43m+\u001b[39;49m\u001b[43m \u001b[49m\u001b[38;5;124;43m\"\"\"\u001b[39;49m\u001b[38;5;124;43m'\u001b[39;49m\u001b[38;5;124;43m)\u001b[39;49m\u001b[38;5;124;43m\"\"\"\u001b[39;49m\u001b[43m)\u001b[49m \u001b[38;5;66;03m# type: ignore\u001b[39;00m\n\u001b[0;32m     12\u001b[0m \u001b[38;5;66;03m# con.commit()\u001b[39;00m\n",
      "\u001b[1;31mUniqueViolation\u001b[0m: duplicate key value violates unique constraint \"accounts_category_key\"\nDETAIL:  Key (category)=() already exists.\n"
     ]
    }
   ],
   "source": [
    "def get_category_subcategory(df, index):\n",
    "    num = df.loc[index, 'Ser']\n",
    "    name = df.loc[index, 'combined']\n",
    "    return num, name\n",
    "\n",
    "for i in range(1000): # first 1000\n",
    "    num, name = get_category_subcategory(df, i); num = str(num)\n",
    "    \n",
    "    cursor.execute(\"\"\"select * from \"Categories\" c\"\"\")\n",
    "    cursor.execute(\"\"\"insert into \"Categories\" (category_id, category) values (\"\"\" + num + \"\"\", '\"\"\" + name + \"\"\"')\"\"\") # type: ignore\n",
    "\n",
    "# con.commit()"
   ]
  },
  {
   "cell_type": "markdown",
   "metadata": {},
   "source": [
    "    A unique violation? Exception time"
   ]
  },
  {
   "cell_type": "code",
   "execution_count": 29,
   "metadata": {},
   "outputs": [
    {
     "ename": "InFailedSqlTransaction",
     "evalue": "current transaction is aborted, commands ignored until end of transaction block\n",
     "output_type": "error",
     "traceback": [
      "\u001b[1;31m---------------------------------------------------------------------------\u001b[0m",
      "\u001b[1;31mInFailedSqlTransaction\u001b[0m                    Traceback (most recent call last)",
      "Cell \u001b[1;32mIn[29], line 15\u001b[0m\n\u001b[0;32m     14\u001b[0m \u001b[38;5;28;01mtry\u001b[39;00m:    \n\u001b[1;32m---> 15\u001b[0m     \u001b[43mcursor\u001b[49m\u001b[38;5;241;43m.\u001b[39;49m\u001b[43mexecute\u001b[49m\u001b[43m(\u001b[49m\u001b[38;5;124;43m\"\"\"\u001b[39;49m\u001b[38;5;124;43mselect * from \u001b[39;49m\u001b[38;5;124;43m\"\u001b[39;49m\u001b[38;5;124;43mCategories\u001b[39;49m\u001b[38;5;124;43m\"\u001b[39;49m\u001b[38;5;124;43m c\u001b[39;49m\u001b[38;5;124;43m\"\"\"\u001b[39;49m\u001b[43m)\u001b[49m\n\u001b[0;32m     16\u001b[0m     cursor\u001b[38;5;241m.\u001b[39mexecute(\u001b[38;5;124m\"\"\"\u001b[39m\u001b[38;5;124minsert into \u001b[39m\u001b[38;5;124m\"\u001b[39m\u001b[38;5;124mCategories\u001b[39m\u001b[38;5;124m\"\u001b[39m\u001b[38;5;124m (category) values (\u001b[39m\u001b[38;5;124m'\u001b[39m\u001b[38;5;124m\"\"\"\u001b[39m \u001b[38;5;241m+\u001b[39m name \u001b[38;5;241m+\u001b[39m \u001b[38;5;124m\"\"\"\u001b[39m\u001b[38;5;124m'\u001b[39m\u001b[38;5;124m)\u001b[39m\u001b[38;5;124m\"\"\"\u001b[39m) \u001b[38;5;66;03m# type: ignore\u001b[39;00m\n",
      "\u001b[1;31mInFailedSqlTransaction\u001b[0m: current transaction is aborted, commands ignored until end of transaction block\n",
      "\nDuring handling of the above exception, another exception occurred:\n",
      "\u001b[1;31mInFailedSqlTransaction\u001b[0m                    Traceback (most recent call last)",
      "Cell \u001b[1;32mIn[29], line 18\u001b[0m\n\u001b[0;32m     16\u001b[0m         cursor\u001b[38;5;241m.\u001b[39mexecute(\u001b[38;5;124m\"\"\"\u001b[39m\u001b[38;5;124minsert into \u001b[39m\u001b[38;5;124m\"\u001b[39m\u001b[38;5;124mCategories\u001b[39m\u001b[38;5;124m\"\u001b[39m\u001b[38;5;124m (category) values (\u001b[39m\u001b[38;5;124m'\u001b[39m\u001b[38;5;124m\"\"\"\u001b[39m \u001b[38;5;241m+\u001b[39m name \u001b[38;5;241m+\u001b[39m \u001b[38;5;124m\"\"\"\u001b[39m\u001b[38;5;124m'\u001b[39m\u001b[38;5;124m)\u001b[39m\u001b[38;5;124m\"\"\"\u001b[39m) \u001b[38;5;66;03m# type: ignore\u001b[39;00m\n\u001b[0;32m     17\u001b[0m     \u001b[38;5;28;01mexcept\u001b[39;00m \u001b[38;5;167;01mException\u001b[39;00m \u001b[38;5;28;01mas\u001b[39;00m e:\n\u001b[1;32m---> 18\u001b[0m         \u001b[43mcursor\u001b[49m\u001b[38;5;241;43m.\u001b[39;49m\u001b[43mexecute\u001b[49m\u001b[43m(\u001b[49m\u001b[38;5;124;43m\"\"\"\u001b[39;49m\u001b[38;5;124;43minsert into \u001b[39;49m\u001b[38;5;124;43m\"\u001b[39;49m\u001b[38;5;124;43mCategories\u001b[39;49m\u001b[38;5;124;43m\"\u001b[39;49m\u001b[38;5;124;43m (category) values (\u001b[39;49m\u001b[38;5;124;43m'\u001b[39;49m\u001b[38;5;124;43m\"\"\"\u001b[39;49m\u001b[43m \u001b[49m\u001b[38;5;241;43m+\u001b[39;49m\u001b[43m \u001b[49m\u001b[43mname\u001b[49m\u001b[43m \u001b[49m\u001b[38;5;241;43m+\u001b[39;49m\u001b[43m \u001b[49m\u001b[38;5;124;43m\"\"\"\u001b[39;49m\u001b[38;5;124;43m'\u001b[39;49m\u001b[38;5;124;43m)\u001b[39;49m\u001b[38;5;124;43m\"\"\"\u001b[39;49m\u001b[43m)\u001b[49m \u001b[38;5;66;03m# type: ignore\u001b[39;00m\n\u001b[0;32m     21\u001b[0m \u001b[38;5;28;01mexcept\u001b[39;00m psycopg2\u001b[38;5;241m.\u001b[39merrors\u001b[38;5;241m.\u001b[39mUniqueViolation \u001b[38;5;28;01mas\u001b[39;00m e:\n\u001b[0;32m     22\u001b[0m     listOfCollisions\u001b[38;5;241m.\u001b[39mappend(i)\n",
      "\u001b[1;31mInFailedSqlTransaction\u001b[0m: current transaction is aborted, commands ignored until end of transaction block\n"
     ]
    }
   ],
   "source": [
    "listOfCollisions = []\n",
    "\n",
    "def get_category_subcategory(df, index):\n",
    "    num = df.loc[index, 'Ser']\n",
    "    name = df.loc[index, 'combined']\n",
    "    return num, name\n",
    "\n",
    "for i in range(len(df)): # type: ignore\n",
    "# for i in range(10): # type: ignore\n",
    "    num, name = get_category_subcategory(df, i); num = str(num)\n",
    "    \n",
    "    try:\n",
    "        \n",
    "        try:    \n",
    "            cursor.execute(\"\"\"select * from \"Categories\" c\"\"\")\n",
    "            cursor.execute(\"\"\"insert into \"Categories\" (category) values ('\"\"\" + name + \"\"\"')\"\"\") # type: ignore\n",
    "        except Exception as e:\n",
    "            cursor.execute(\"\"\"insert into \"Categories\" (category) values ('\"\"\" + name + \"\"\"')\"\"\") # type: ignore\n",
    "        \n",
    "        \n",
    "    except psycopg2.errors.UniqueViolation as e:\n",
    "        listOfCollisions.append(i)\n",
    "\n",
    "con.commit() # add this to make it the real thing\n",
    "\n",
    "print(listOfCollisions.__sizeof__())"
   ]
  },
  {
   "cell_type": "markdown",
   "metadata": {},
   "source": [
    "    Another issue? Lets try going a couple hundred terms at a time, & Im gonna clean up the code while we're at it"
   ]
  },
  {
   "cell_type": "code",
   "execution_count": 30,
   "metadata": {},
   "outputs": [],
   "source": [
    "\n",
    "def process_categories(df, cursor, con, start, end):\n",
    "    listOfCollisions = []\n",
    "\n",
    "    def get_category_subcategory(df, index):\n",
    "        num = df.loc[index, 'Ser']\n",
    "        name = df.loc[index, 'combined']\n",
    "        return num, name\n",
    "\n",
    "    for i in range(start, end):\n",
    "        num, name = get_category_subcategory(df, i)\n",
    "        num = str(num)\n",
    "\n",
    "        try:\n",
    "            cursor.execute(\"\"\"INSERT INTO \"Categories\" (category_id, category) VALUES (%s, %s)\"\"\", (num, name))\n",
    "        except psycopg2.errors.UniqueViolation as e:\n",
    "            listOfCollisions.append(i)\n",
    "        except Exception as e:\n",
    "            print(f\"An unexpected error occurred: {e}\")\n",
    "\n",
    "    con.commit()\n",
    "\n",
    "    print(len(listOfCollisions)); return listOfCollisions"
   ]
  },
  {
   "cell_type": "code",
   "execution_count": 70,
   "metadata": {},
   "outputs": [
    {
     "name": "stdout",
     "output_type": "stream",
     "text": [
      "0\n"
     ]
    }
   ],
   "source": [
    "collisions = process_categories(df, cursor, con, 0, 100)\n"
   ]
  },
  {
   "cell_type": "markdown",
   "metadata": {},
   "source": [
    "    16 seconds for the first 100 entries? No collisions? Not bad\n",
    "    Now this should take ~33 seconds"
   ]
  },
  {
   "cell_type": "code",
   "execution_count": 71,
   "metadata": {},
   "outputs": [
    {
     "name": "stdout",
     "output_type": "stream",
     "text": [
      "An unexpected error occurred: current transaction is aborted, commands ignored until end of transaction block\n",
      "\n",
      "An unexpected error occurred: current transaction is aborted, commands ignored until end of transaction block\n",
      "\n",
      "An unexpected error occurred: current transaction is aborted, commands ignored until end of transaction block\n",
      "\n",
      "An unexpected error occurred: current transaction is aborted, commands ignored until end of transaction block\n",
      "\n",
      "An unexpected error occurred: current transaction is aborted, commands ignored until end of transaction block\n",
      "\n",
      "An unexpected error occurred: current transaction is aborted, commands ignored until end of transaction block\n",
      "\n",
      "An unexpected error occurred: current transaction is aborted, commands ignored until end of transaction block\n",
      "\n",
      "An unexpected error occurred: current transaction is aborted, commands ignored until end of transaction block\n",
      "\n",
      "An unexpected error occurred: current transaction is aborted, commands ignored until end of transaction block\n",
      "\n",
      "An unexpected error occurred: current transaction is aborted, commands ignored until end of transaction block\n",
      "\n",
      "An unexpected error occurred: current transaction is aborted, commands ignored until end of transaction block\n",
      "\n",
      "An unexpected error occurred: current transaction is aborted, commands ignored until end of transaction block\n",
      "\n",
      "An unexpected error occurred: current transaction is aborted, commands ignored until end of transaction block\n",
      "\n",
      "An unexpected error occurred: current transaction is aborted, commands ignored until end of transaction block\n",
      "\n",
      "An unexpected error occurred: current transaction is aborted, commands ignored until end of transaction block\n",
      "\n",
      "An unexpected error occurred: current transaction is aborted, commands ignored until end of transaction block\n",
      "\n",
      "An unexpected error occurred: current transaction is aborted, commands ignored until end of transaction block\n",
      "\n",
      "An unexpected error occurred: current transaction is aborted, commands ignored until end of transaction block\n",
      "\n",
      "An unexpected error occurred: current transaction is aborted, commands ignored until end of transaction block\n",
      "\n",
      "An unexpected error occurred: current transaction is aborted, commands ignored until end of transaction block\n",
      "\n",
      "An unexpected error occurred: current transaction is aborted, commands ignored until end of transaction block\n",
      "\n",
      "An unexpected error occurred: current transaction is aborted, commands ignored until end of transaction block\n",
      "\n",
      "An unexpected error occurred: current transaction is aborted, commands ignored until end of transaction block\n",
      "\n",
      "An unexpected error occurred: current transaction is aborted, commands ignored until end of transaction block\n",
      "\n",
      "An unexpected error occurred: current transaction is aborted, commands ignored until end of transaction block\n",
      "\n",
      "An unexpected error occurred: current transaction is aborted, commands ignored until end of transaction block\n",
      "\n",
      "An unexpected error occurred: current transaction is aborted, commands ignored until end of transaction block\n",
      "\n",
      "An unexpected error occurred: current transaction is aborted, commands ignored until end of transaction block\n",
      "\n",
      "An unexpected error occurred: current transaction is aborted, commands ignored until end of transaction block\n",
      "\n",
      "An unexpected error occurred: current transaction is aborted, commands ignored until end of transaction block\n",
      "\n",
      "An unexpected error occurred: current transaction is aborted, commands ignored until end of transaction block\n",
      "\n",
      "An unexpected error occurred: current transaction is aborted, commands ignored until end of transaction block\n",
      "\n",
      "An unexpected error occurred: current transaction is aborted, commands ignored until end of transaction block\n",
      "\n",
      "An unexpected error occurred: current transaction is aborted, commands ignored until end of transaction block\n",
      "\n",
      "An unexpected error occurred: current transaction is aborted, commands ignored until end of transaction block\n",
      "\n",
      "An unexpected error occurred: current transaction is aborted, commands ignored until end of transaction block\n",
      "\n",
      "An unexpected error occurred: current transaction is aborted, commands ignored until end of transaction block\n",
      "\n",
      "An unexpected error occurred: current transaction is aborted, commands ignored until end of transaction block\n",
      "\n",
      "An unexpected error occurred: current transaction is aborted, commands ignored until end of transaction block\n",
      "\n",
      "An unexpected error occurred: current transaction is aborted, commands ignored until end of transaction block\n",
      "\n",
      "An unexpected error occurred: current transaction is aborted, commands ignored until end of transaction block\n",
      "\n",
      "An unexpected error occurred: current transaction is aborted, commands ignored until end of transaction block\n",
      "\n",
      "An unexpected error occurred: current transaction is aborted, commands ignored until end of transaction block\n",
      "\n",
      "An unexpected error occurred: current transaction is aborted, commands ignored until end of transaction block\n",
      "\n",
      "An unexpected error occurred: current transaction is aborted, commands ignored until end of transaction block\n",
      "\n",
      "An unexpected error occurred: current transaction is aborted, commands ignored until end of transaction block\n",
      "\n",
      "An unexpected error occurred: current transaction is aborted, commands ignored until end of transaction block\n",
      "\n",
      "An unexpected error occurred: current transaction is aborted, commands ignored until end of transaction block\n",
      "\n",
      "An unexpected error occurred: current transaction is aborted, commands ignored until end of transaction block\n",
      "\n",
      "An unexpected error occurred: current transaction is aborted, commands ignored until end of transaction block\n",
      "\n",
      "An unexpected error occurred: current transaction is aborted, commands ignored until end of transaction block\n",
      "\n",
      "An unexpected error occurred: current transaction is aborted, commands ignored until end of transaction block\n",
      "\n",
      "An unexpected error occurred: current transaction is aborted, commands ignored until end of transaction block\n",
      "\n",
      "An unexpected error occurred: current transaction is aborted, commands ignored until end of transaction block\n",
      "\n",
      "An unexpected error occurred: current transaction is aborted, commands ignored until end of transaction block\n",
      "\n",
      "An unexpected error occurred: current transaction is aborted, commands ignored until end of transaction block\n",
      "\n",
      "An unexpected error occurred: current transaction is aborted, commands ignored until end of transaction block\n",
      "\n",
      "An unexpected error occurred: current transaction is aborted, commands ignored until end of transaction block\n",
      "\n",
      "An unexpected error occurred: current transaction is aborted, commands ignored until end of transaction block\n",
      "\n",
      "An unexpected error occurred: current transaction is aborted, commands ignored until end of transaction block\n",
      "\n",
      "An unexpected error occurred: current transaction is aborted, commands ignored until end of transaction block\n",
      "\n",
      "An unexpected error occurred: current transaction is aborted, commands ignored until end of transaction block\n",
      "\n",
      "An unexpected error occurred: current transaction is aborted, commands ignored until end of transaction block\n",
      "\n",
      "An unexpected error occurred: current transaction is aborted, commands ignored until end of transaction block\n",
      "\n",
      "An unexpected error occurred: current transaction is aborted, commands ignored until end of transaction block\n",
      "\n",
      "An unexpected error occurred: current transaction is aborted, commands ignored until end of transaction block\n",
      "\n",
      "An unexpected error occurred: current transaction is aborted, commands ignored until end of transaction block\n",
      "\n",
      "An unexpected error occurred: current transaction is aborted, commands ignored until end of transaction block\n",
      "\n",
      "An unexpected error occurred: current transaction is aborted, commands ignored until end of transaction block\n",
      "\n",
      "An unexpected error occurred: current transaction is aborted, commands ignored until end of transaction block\n",
      "\n",
      "An unexpected error occurred: current transaction is aborted, commands ignored until end of transaction block\n",
      "\n",
      "An unexpected error occurred: current transaction is aborted, commands ignored until end of transaction block\n",
      "\n",
      "An unexpected error occurred: current transaction is aborted, commands ignored until end of transaction block\n",
      "\n",
      "An unexpected error occurred: current transaction is aborted, commands ignored until end of transaction block\n",
      "\n",
      "An unexpected error occurred: current transaction is aborted, commands ignored until end of transaction block\n",
      "\n",
      "An unexpected error occurred: current transaction is aborted, commands ignored until end of transaction block\n",
      "\n",
      "An unexpected error occurred: current transaction is aborted, commands ignored until end of transaction block\n",
      "\n",
      "An unexpected error occurred: current transaction is aborted, commands ignored until end of transaction block\n",
      "\n",
      "An unexpected error occurred: current transaction is aborted, commands ignored until end of transaction block\n",
      "\n",
      "An unexpected error occurred: current transaction is aborted, commands ignored until end of transaction block\n",
      "\n",
      "An unexpected error occurred: current transaction is aborted, commands ignored until end of transaction block\n",
      "\n",
      "An unexpected error occurred: current transaction is aborted, commands ignored until end of transaction block\n",
      "\n",
      "An unexpected error occurred: current transaction is aborted, commands ignored until end of transaction block\n",
      "\n",
      "An unexpected error occurred: current transaction is aborted, commands ignored until end of transaction block\n",
      "\n",
      "An unexpected error occurred: current transaction is aborted, commands ignored until end of transaction block\n",
      "\n",
      "An unexpected error occurred: current transaction is aborted, commands ignored until end of transaction block\n",
      "\n",
      "An unexpected error occurred: current transaction is aborted, commands ignored until end of transaction block\n",
      "\n",
      "An unexpected error occurred: current transaction is aborted, commands ignored until end of transaction block\n",
      "\n",
      "An unexpected error occurred: current transaction is aborted, commands ignored until end of transaction block\n",
      "\n",
      "An unexpected error occurred: current transaction is aborted, commands ignored until end of transaction block\n",
      "\n",
      "An unexpected error occurred: current transaction is aborted, commands ignored until end of transaction block\n",
      "\n",
      "An unexpected error occurred: current transaction is aborted, commands ignored until end of transaction block\n",
      "\n",
      "An unexpected error occurred: current transaction is aborted, commands ignored until end of transaction block\n",
      "\n",
      "An unexpected error occurred: current transaction is aborted, commands ignored until end of transaction block\n",
      "\n",
      "An unexpected error occurred: current transaction is aborted, commands ignored until end of transaction block\n",
      "\n",
      "An unexpected error occurred: current transaction is aborted, commands ignored until end of transaction block\n",
      "\n",
      "An unexpected error occurred: current transaction is aborted, commands ignored until end of transaction block\n",
      "\n",
      "An unexpected error occurred: current transaction is aborted, commands ignored until end of transaction block\n",
      "\n",
      "An unexpected error occurred: current transaction is aborted, commands ignored until end of transaction block\n",
      "\n",
      "An unexpected error occurred: current transaction is aborted, commands ignored until end of transaction block\n",
      "\n",
      "An unexpected error occurred: current transaction is aborted, commands ignored until end of transaction block\n",
      "\n",
      "An unexpected error occurred: current transaction is aborted, commands ignored until end of transaction block\n",
      "\n",
      "An unexpected error occurred: current transaction is aborted, commands ignored until end of transaction block\n",
      "\n",
      "An unexpected error occurred: current transaction is aborted, commands ignored until end of transaction block\n",
      "\n",
      "An unexpected error occurred: current transaction is aborted, commands ignored until end of transaction block\n",
      "\n",
      "An unexpected error occurred: current transaction is aborted, commands ignored until end of transaction block\n",
      "\n",
      "An unexpected error occurred: current transaction is aborted, commands ignored until end of transaction block\n",
      "\n",
      "An unexpected error occurred: current transaction is aborted, commands ignored until end of transaction block\n",
      "\n",
      "An unexpected error occurred: current transaction is aborted, commands ignored until end of transaction block\n",
      "\n",
      "An unexpected error occurred: current transaction is aborted, commands ignored until end of transaction block\n",
      "\n",
      "An unexpected error occurred: current transaction is aborted, commands ignored until end of transaction block\n",
      "\n",
      "An unexpected error occurred: current transaction is aborted, commands ignored until end of transaction block\n",
      "\n",
      "An unexpected error occurred: current transaction is aborted, commands ignored until end of transaction block\n",
      "\n",
      "An unexpected error occurred: current transaction is aborted, commands ignored until end of transaction block\n",
      "\n",
      "An unexpected error occurred: current transaction is aborted, commands ignored until end of transaction block\n",
      "\n",
      "An unexpected error occurred: current transaction is aborted, commands ignored until end of transaction block\n",
      "\n",
      "An unexpected error occurred: current transaction is aborted, commands ignored until end of transaction block\n",
      "\n",
      "An unexpected error occurred: current transaction is aborted, commands ignored until end of transaction block\n",
      "\n",
      "An unexpected error occurred: current transaction is aborted, commands ignored until end of transaction block\n",
      "\n",
      "An unexpected error occurred: current transaction is aborted, commands ignored until end of transaction block\n",
      "\n",
      "An unexpected error occurred: current transaction is aborted, commands ignored until end of transaction block\n",
      "\n",
      "An unexpected error occurred: current transaction is aborted, commands ignored until end of transaction block\n",
      "\n",
      "An unexpected error occurred: current transaction is aborted, commands ignored until end of transaction block\n",
      "\n",
      "An unexpected error occurred: current transaction is aborted, commands ignored until end of transaction block\n",
      "\n",
      "An unexpected error occurred: current transaction is aborted, commands ignored until end of transaction block\n",
      "\n",
      "An unexpected error occurred: current transaction is aborted, commands ignored until end of transaction block\n",
      "\n",
      "An unexpected error occurred: current transaction is aborted, commands ignored until end of transaction block\n",
      "\n",
      "An unexpected error occurred: current transaction is aborted, commands ignored until end of transaction block\n",
      "\n",
      "An unexpected error occurred: current transaction is aborted, commands ignored until end of transaction block\n",
      "\n",
      "An unexpected error occurred: current transaction is aborted, commands ignored until end of transaction block\n",
      "\n",
      "An unexpected error occurred: current transaction is aborted, commands ignored until end of transaction block\n",
      "\n",
      "An unexpected error occurred: current transaction is aborted, commands ignored until end of transaction block\n",
      "\n",
      "An unexpected error occurred: current transaction is aborted, commands ignored until end of transaction block\n",
      "\n",
      "An unexpected error occurred: current transaction is aborted, commands ignored until end of transaction block\n",
      "\n",
      "An unexpected error occurred: current transaction is aborted, commands ignored until end of transaction block\n",
      "\n",
      "An unexpected error occurred: current transaction is aborted, commands ignored until end of transaction block\n",
      "\n",
      "An unexpected error occurred: current transaction is aborted, commands ignored until end of transaction block\n",
      "\n",
      "An unexpected error occurred: current transaction is aborted, commands ignored until end of transaction block\n",
      "\n",
      "An unexpected error occurred: current transaction is aborted, commands ignored until end of transaction block\n",
      "\n",
      "An unexpected error occurred: current transaction is aborted, commands ignored until end of transaction block\n",
      "\n",
      "An unexpected error occurred: current transaction is aborted, commands ignored until end of transaction block\n",
      "\n",
      "An unexpected error occurred: current transaction is aborted, commands ignored until end of transaction block\n",
      "\n",
      "An unexpected error occurred: current transaction is aborted, commands ignored until end of transaction block\n",
      "\n",
      "An unexpected error occurred: current transaction is aborted, commands ignored until end of transaction block\n",
      "\n",
      "An unexpected error occurred: current transaction is aborted, commands ignored until end of transaction block\n",
      "\n",
      "An unexpected error occurred: current transaction is aborted, commands ignored until end of transaction block\n",
      "\n",
      "An unexpected error occurred: current transaction is aborted, commands ignored until end of transaction block\n",
      "\n",
      "An unexpected error occurred: current transaction is aborted, commands ignored until end of transaction block\n",
      "\n",
      "An unexpected error occurred: current transaction is aborted, commands ignored until end of transaction block\n",
      "\n",
      "1\n"
     ]
    }
   ],
   "source": [
    "collisions = process_categories(df, cursor, con, 101, 300)"
   ]
  },
  {
   "cell_type": "markdown",
   "metadata": {},
   "source": [
    "    Hm, weird output there - but worst of all no new data appeared on DBeaver - lets try:"
   ]
  },
  {
   "cell_type": "code",
   "execution_count": 72,
   "metadata": {},
   "outputs": [
    {
     "name": "stdout",
     "output_type": "stream",
     "text": [
      "0\n"
     ]
    }
   ],
   "source": [
    "collisions = process_categories(df, cursor, con, 101, 150)"
   ]
  },
  {
   "cell_type": "markdown",
   "metadata": {},
   "source": [
    "    Success! lets try:"
   ]
  },
  {
   "cell_type": "code",
   "execution_count": 73,
   "metadata": {},
   "outputs": [
    {
     "name": "stdout",
     "output_type": "stream",
     "text": [
      "0\n"
     ]
    }
   ],
   "source": [
    "collisions = process_categories(df, cursor, con, 151, 200)"
   ]
  },
  {
   "cell_type": "markdown",
   "metadata": {},
   "source": [
    "    Now lets:"
   ]
  },
  {
   "cell_type": "code",
   "execution_count": 74,
   "metadata": {},
   "outputs": [
    {
     "name": "stdout",
     "output_type": "stream",
     "text": [
      "0\n"
     ]
    }
   ],
   "source": [
    "collisions = process_categories(df, cursor, con, 201, 250)"
   ]
  },
  {
   "cell_type": "code",
   "execution_count": 75,
   "metadata": {},
   "outputs": [
    {
     "name": "stdout",
     "output_type": "stream",
     "text": [
      "0\n"
     ]
    }
   ],
   "source": [
    "collisions = process_categories(df, cursor, con, 251, 300)"
   ]
  },
  {
   "cell_type": "code",
   "execution_count": 76,
   "metadata": {},
   "outputs": [
    {
     "name": "stdout",
     "output_type": "stream",
     "text": [
      "An unexpected error occurred: current transaction is aborted, commands ignored until end of transaction block\n",
      "\n",
      "An unexpected error occurred: current transaction is aborted, commands ignored until end of transaction block\n",
      "\n",
      "An unexpected error occurred: current transaction is aborted, commands ignored until end of transaction block\n",
      "\n",
      "An unexpected error occurred: current transaction is aborted, commands ignored until end of transaction block\n",
      "\n",
      "An unexpected error occurred: current transaction is aborted, commands ignored until end of transaction block\n",
      "\n",
      "An unexpected error occurred: current transaction is aborted, commands ignored until end of transaction block\n",
      "\n",
      "An unexpected error occurred: current transaction is aborted, commands ignored until end of transaction block\n",
      "\n",
      "An unexpected error occurred: current transaction is aborted, commands ignored until end of transaction block\n",
      "\n",
      "An unexpected error occurred: current transaction is aborted, commands ignored until end of transaction block\n",
      "\n",
      "An unexpected error occurred: current transaction is aborted, commands ignored until end of transaction block\n",
      "\n",
      "An unexpected error occurred: current transaction is aborted, commands ignored until end of transaction block\n",
      "\n",
      "1\n"
     ]
    }
   ],
   "source": [
    "collisions = process_categories(df, cursor, con, 301, 350)"
   ]
  },
  {
   "cell_type": "markdown",
   "metadata": {},
   "source": [
    "    Theres the issue, one of the early 300's is messing this up, lets take a look at the data"
   ]
  },
  {
   "cell_type": "code",
   "execution_count": 77,
   "metadata": {},
   "outputs": [
    {
     "name": "stdout",
     "output_type": "stream",
     "text": [
      "     Ser                       combined\n",
      "300  301                       Tag Guns\n",
      "301  302                      Tank Tops\n",
      "302  303                      Underwear\n",
      "303  304               Bra & Brief Sets\n",
      "304  305                           Bras\n",
      "305  306                      Camisoles\n",
      "306  307                   Garters Belt\n",
      "307  308                     Long Johns\n",
      "308  309         Men\\'s Briefs & Boxers\n",
      "309  310                Other Underwear\n",
      "310  311                 Sexy Underwear\n",
      "311  312                        Shapers\n",
      "312  313               Women\\'s Panties\n",
      "313  314                       Uniforms\n",
      "314  315               Airline Uniforms\n",
      "315  316                  Bank Uniforms\n",
      "316  317               Fireman Uniforms\n",
      "317  318                 Guard Uniforms\n",
      "318  319              Hospital Uniforms\n",
      "319  320                 Hotel Uniforms\n",
      "320  321              Military Uniforms\n",
      "321  322                 Other Uniforms\n",
      "322  323             Promotion Uniforms\n",
      "323  324      Restaurant & Bar Uniforms\n",
      "324  325                School Uniforms\n",
      "325  326                   Used Clothes\n",
      "326  327             Vests & Waistcoats\n",
      "327  328  Wedding Apparel & Accessories\n",
      "328  329             Bridesmaid Dresses\n",
      "329  330         Flower Girls\\' Dresses\n",
      "330  331          Other Wedding Apparel\n",
      "331  332            Wedding Accessories\n",
      "332  333                  Bridal Gloves\n",
      "333  334                   Bridal Veils\n",
      "334  335                     Petticoats\n",
      "335  336                Wedding Dresses\n",
      "336  337        Wedding Jackets \\/ Wrap\n",
      "337  338                       Workwear\n",
      "338  339                               \n",
      "339  340                               \n",
      "340  341     Automobiles & Motorcycle s\n",
      "341  342                            ATV\n",
      "342  343                      ATV Parts\n",
      "343  344                Auto Drivetrain\n",
      "344  345                    Auto Clutch\n",
      "345  346                          Axles\n",
      "346  347                   Brake System\n",
      "347  348                      Car Tires\n",
      "348  349                     Car Wheels\n",
      "349  350                   Drive Shafts\n",
      "350  351          Other Auto Drivetrain\n"
     ]
    }
   ],
   "source": [
    "print(df.iloc[300:351])"
   ]
  },
  {
   "cell_type": "code",
   "execution_count": 57,
   "metadata": {},
   "outputs": [
    {
     "name": "stdout",
     "output_type": "stream",
     "text": [
      "[(3, 'food2'), (4, 'food'), (6, 'food9'), (8, 'food99'), (22, 'food999'), (398, 'Agriculture'), (399, 'Agricultural Equipment'), (400, 'Agricultural Greenhouses'), (401, 'Aquaculture Equipment'), (402, 'Aquaculture Trap'), (403, 'Fishing Float'), (404, 'Fishing Net'), (405, 'Fishing Rope'), (406, 'Other Aquaculture Equipment'), (407, 'Ear Tag')]\n"
     ]
    }
   ],
   "source": [
    "cursor.execute(\"\"\"select * from \"Categories\" c\"\"\")\n",
    "print(cursor.fetchall())"
   ]
  },
  {
   "cell_type": "code",
   "execution_count": 78,
   "metadata": {},
   "outputs": [],
   "source": [
    "cursor.close()\n",
    "con.close()"
   ]
  },
  {
   "cell_type": "markdown",
   "metadata": {},
   "source": [
    "\n",
    "    & the final step is to use this to commit our data to the DB"
   ]
  },
  {
   "cell_type": "code",
   "execution_count": null,
   "metadata": {},
   "outputs": [],
   "source": []
  },
  {
   "cell_type": "code",
   "execution_count": null,
   "metadata": {},
   "outputs": [],
   "source": [
    "# Ser = []; Cat = []; SCat = []; SSCat = []; SSSCat = []\n",
    "\n",
    "# for i in dfp:\n",
    "#     Ser.append(dfp['Ser'])\n",
    "#     Cat.append(dfp['Category'])\n",
    "#     SCat.append(dfp['SubCategory'])\n",
    "#     SSCat.append(dfp['SubSubCategory'])\n",
    "#     SSSCat.append(dfp['SubSubSubCategory'])\n",
    "\n",
    "# Ser; # Cat; # SCat; # SSCat; # SSSCat\n"
   ]
  }
 ],
 "metadata": {
  "kernelspec": {
   "display_name": "Python 3",
   "language": "python",
   "name": "python3"
  },
  "language_info": {
   "codemirror_mode": {
    "name": "ipython",
    "version": 3
   },
   "file_extension": ".py",
   "mimetype": "text/x-python",
   "name": "python",
   "nbconvert_exporter": "python",
   "pygments_lexer": "ipython3",
   "version": "3.12.3"
  }
 },
 "nbformat": 4,
 "nbformat_minor": 2
}
