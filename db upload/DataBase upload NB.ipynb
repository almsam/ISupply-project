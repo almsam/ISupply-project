{
 "cells": [
  {
   "cell_type": "markdown",
   "metadata": {},
   "source": [
    "# Uploading our stuff\n",
    "\n",
    "    First, lets import our python toolbox and the data"
   ]
  },
  {
   "cell_type": "code",
   "execution_count": 1,
   "metadata": {},
   "outputs": [],
   "source": [
    "import pandas as pd\n",
    "import psycopg2"
   ]
  },
  {
   "cell_type": "code",
   "execution_count": 2,
   "metadata": {},
   "outputs": [
    {
     "name": "stdout",
     "output_type": "stream",
     "text": [
      "   Ser     Category             SubCategory         SubSubCategory  \\\n",
      "0    5  Agriculture  Agricultural Equipment  Aquaculture Equipment   \n",
      "1    6  Agriculture  Agricultural Equipment  Aquaculture Equipment   \n",
      "2    7  Agriculture  Agricultural Equipment  Aquaculture Equipment   \n",
      "3    8  Agriculture  Agricultural Equipment  Aquaculture Equipment   \n",
      "4    9  Agriculture  Agricultural Equipment  Aquaculture Equipment   \n",
      "\n",
      "             SubSubSubCategory  \n",
      "0             Aquaculture Trap  \n",
      "1                Fishing Float  \n",
      "2                  Fishing Net  \n",
      "3                 Fishing Rope  \n",
      "4  Other Aquaculture Equipment  \n"
     ]
    }
   ],
   "source": [
    "dfip = pd.read_excel('InPerfectOutput.xlsx')\n",
    "print(dfip.head())"
   ]
  },
  {
   "cell_type": "code",
   "execution_count": 3,
   "metadata": {},
   "outputs": [
    {
     "name": "stdout",
     "output_type": "stream",
     "text": [
      "   Ser     Category             SubCategory            SubSubCategory  \\\n",
      "0    3  Agriculture  Agricultural Equipment  Agricultural Greenhouses   \n",
      "1    4  Agriculture  Agricultural Equipment     Aquaculture Equipment   \n",
      "2    5  Agriculture  Agricultural Equipment     Aquaculture Equipment   \n",
      "3    6  Agriculture  Agricultural Equipment     Aquaculture Equipment   \n",
      "4    7  Agriculture  Agricultural Equipment     Aquaculture Equipment   \n",
      "\n",
      "  SubSubSubCategory  \n",
      "0               NaN  \n",
      "1               NaN  \n",
      "2  Aquaculture Trap  \n",
      "3     Fishing Float  \n",
      "4       Fishing Net  \n"
     ]
    }
   ],
   "source": [
    "dfp = pd.read_excel('PerfectOutput.xlsx')\n",
    "print(dfp.head())"
   ]
  },
  {
   "cell_type": "code",
   "execution_count": 4,
   "metadata": {},
   "outputs": [
    {
     "name": "stdout",
     "output_type": "stream",
     "text": [
      "                   category               subcategory\n",
      "0               Agriculture    Agricultural Equipment\n",
      "1    Agricultural Equipment  Agricultural Greenhouses\n",
      "2  Agricultural Greenhouses                       NaN\n",
      "3               Agriculture    Agricultural Equipment\n",
      "4    Agricultural Equipment     Aquaculture Equipment\n"
     ]
    }
   ],
   "source": [
    "dfSlim = pd.read_excel('slimTree.xlsx')\n",
    "print(dfSlim.head())"
   ]
  },
  {
   "cell_type": "code",
   "execution_count": 10,
   "metadata": {},
   "outputs": [],
   "source": [
    "con = psycopg2.connect(database=\"iSupply\",\n",
    "                        host=\"38.180.117.52\",\n",
    "                        user=\"postgres\",\n",
    "                        password=\"deerRun\",\n",
    "                        port=\"5432\")\n",
    "cursor = con.cursor()"
   ]
  },
  {
   "cell_type": "code",
   "execution_count": 11,
   "metadata": {},
   "outputs": [],
   "source": [
    "# select * from \"Categories\" c;\n",
    "# insert into \"Categories\" (category) values ('food');\n",
    "\n",
    "cursor.execute(\"\"\"select * from \"Categories\" c\"\"\")\n",
    "cursor.execute(\"\"\"insert into \"Categories\" (category) values ('food but with py again this time')\"\"\")\n"
   ]
  },
  {
   "cell_type": "markdown",
   "metadata": {},
   "source": [
    "    Read from DB to test"
   ]
  },
  {
   "cell_type": "code",
   "execution_count": 12,
   "metadata": {},
   "outputs": [
    {
     "name": "stdout",
     "output_type": "stream",
     "text": [
      "[(563, 'food99'), (564, 'food but with py again this time')]\n"
     ]
    }
   ],
   "source": [
    "cursor.execute(\"\"\"select * from \"Categories\" c\"\"\")\n",
    "\n",
    "print(cursor.fetchall())"
   ]
  },
  {
   "cell_type": "markdown",
   "metadata": {},
   "source": [
    "    Due to a few issues, lets unit test this again"
   ]
  },
  {
   "cell_type": "code",
   "execution_count": 13,
   "metadata": {},
   "outputs": [
    {
     "name": "stdout",
     "output_type": "stream",
     "text": [
      "[(563, 'food99'), (564, 'food but with py again this time'), (565, 'unique code which will be in table')]\n"
     ]
    }
   ],
   "source": [
    "cursor.execute(\"\"\"select * from \"Categories\" c\"\"\")\n",
    "cursor.execute(\"\"\"insert into \"Categories\" (category) values ('unique code which will be in table')\"\"\")\n",
    "\n",
    "cursor.execute(\"\"\"select * from \"Categories\" c\"\"\")\n",
    "print(cursor.fetchall())"
   ]
  },
  {
   "cell_type": "markdown",
   "metadata": {},
   "source": [
    "    Looks like reading & writing works, now lets try deleting"
   ]
  },
  {
   "cell_type": "code",
   "execution_count": 15,
   "metadata": {},
   "outputs": [
    {
     "name": "stdout",
     "output_type": "stream",
     "text": [
      "[(563, 'food99'), (564, 'food but with py again this time')]\n"
     ]
    }
   ],
   "source": [
    "cursor.execute(\"\"\"select * from \"Categories\" c\"\"\")\n",
    "category_id = \"565\"; category_name = 'unique code which will be in table'\n",
    "cursor.execute(\"\"\"DELETE FROM \"Categories\" WHERE category_id = \"\"\" + category_id)# + \"\"\" OR category = \"\"\" + category_name)# type: ignore #, (category_id, category_name))\n",
    "\n",
    "cursor.execute(\"\"\"select * from \"Categories\" c\"\"\")\n",
    "print(cursor.fetchall())"
   ]
  },
  {
   "cell_type": "markdown",
   "metadata": {},
   "source": [
    "\n",
    "\n",
    "    Now lets make a similar version for the categroy tree:"
   ]
  },
  {
   "cell_type": "code",
   "execution_count": 63,
   "metadata": {},
   "outputs": [],
   "source": [
    "# cursor.execute(\"\"\"select * from \"Category_Tree\" ct\"\"\")\n",
    "# cursor.execute(\"\"\"insert into \"Category_Tree\" (category_id, sub_category_id) values (\"catid\", \"subcatid\")\"\"\")\n",
    "\n",
    "# cursor.execute(\"\"\"select * from \"Categories\" c\"\"\")\n",
    "# print(cursor.fetchall())"
   ]
  },
  {
   "cell_type": "markdown",
   "metadata": {},
   "source": [
    "    this would work to pass a string, but Category_Tree's category & sub category parameters both take integers, so lets get encoding\n",
    "\n",
    "    First lets pass an old data set from pdf processing, the following cell is recycled code"
   ]
  },
  {
   "cell_type": "code",
   "execution_count": 5,
   "metadata": {},
   "outputs": [
    {
     "name": "stdout",
     "output_type": "stream",
     "text": [
      "       Ser     Category             SubCategory            SubSubCategory  \\\n",
      "0        1  Agriculture                     NaN                       NaN   \n",
      "1        2          NaN  Agricultural Equipment                       NaN   \n",
      "2        3          NaN                     NaN  Agricultural Greenhouses   \n",
      "3        4          NaN                     NaN     Aquaculture Equipment   \n",
      "4        5          NaN                     NaN                       NaN   \n",
      "...    ...          ...                     ...                       ...   \n",
      "4591  4592          NaN                     NaN            Truck Steering   \n",
      "4592  4593          NaN                     NaN          Truck Suspension   \n",
      "4593  4594          NaN                     NaN                Truck Tire   \n",
      "4594  4595          NaN                     NaN        Truck Transmission   \n",
      "4595  4596          NaN                     NaN               Truck Wheel   \n",
      "\n",
      "     SubSubSubCategory  \n",
      "0                  NaN  \n",
      "1                  NaN  \n",
      "2                  NaN  \n",
      "3                  NaN  \n",
      "4     Aquaculture Trap  \n",
      "...                ...  \n",
      "4591               NaN  \n",
      "4592               NaN  \n",
      "4593               NaN  \n",
      "4594               NaN  \n",
      "4595               NaN  \n",
      "\n",
      "[4596 rows x 5 columns]\n"
     ]
    }
   ],
   "source": [
    "df1 = pd.read_excel('document.xlsx')\n",
    "midpoint = len(df1) // 2 # type: ignore\n",
    "df2a = df1.iloc[:midpoint].reset_index(drop=True)\n",
    "df2b = df1.iloc[midpoint:].reset_index(drop=True)\n",
    "df2b = df2b.drop(['Category', 'SubCategory'], axis=1) # drop na collumns\n",
    "df2b = df2b.iloc[1:] # remove unneccesary row with innacurate names\n",
    "df2b.columns = ['SubSubCategory', 'SubSubSubCategory']\n",
    "df2a = df2a.drop(['Unnamed: 3'], axis=1) # drop\n",
    "df2b['Ser'] = range(1, len(df2b) + 1) # type: ignore\n",
    "df3 = pd.merge(df2a, df2b, on='Ser', suffixes=('_a', '_b'))\n",
    "\n",
    "print(df3)"
   ]
  },
  {
   "cell_type": "markdown",
   "metadata": {},
   "source": [
    "    Now lets try making a map from this"
   ]
  },
  {
   "cell_type": "code",
   "execution_count": 6,
   "metadata": {},
   "outputs": [
    {
     "name": "stdout",
     "output_type": "stream",
     "text": [
      "       Ser                  combined\n",
      "0        1               Agriculture\n",
      "1        2    Agricultural Equipment\n",
      "2        3  Agricultural Greenhouses\n",
      "3        4     Aquaculture Equipment\n",
      "4        5          Aquaculture Trap\n",
      "...    ...                       ...\n",
      "4591  4592            Truck Steering\n",
      "4592  4593          Truck Suspension\n",
      "4593  4594                Truck Tire\n",
      "4594  4595        Truck Transmission\n",
      "4595  4596               Truck Wheel\n",
      "\n",
      "[4596 rows x 2 columns]\n"
     ]
    }
   ],
   "source": [
    "df = pd.DataFrame(df3)\n",
    "\n",
    "def combine_non_na(row):\n",
    "    return ' '.join([str(val) for val in row if val != 'na' and not isinstance(val, (int, float))])\n",
    "\n",
    "df['combined'] = df.apply(combine_non_na, axis=1)\n",
    "\n",
    "df = df[['Ser', 'combined']]\n",
    "\n",
    "print(df)"
   ]
  },
  {
   "cell_type": "markdown",
   "metadata": {},
   "source": [
    "    Lets save this for safe keeping"
   ]
  },
  {
   "cell_type": "code",
   "execution_count": 18,
   "metadata": {},
   "outputs": [],
   "source": [
    "df.to_excel('map.xlsx', index=False)"
   ]
  },
  {
   "cell_type": "markdown",
   "metadata": {},
   "source": [
    "    Now its DB time, we need to put this map into 1 of our tables, & use the map for our other table\n",
    "\n",
    "    Lets start out by uploading the map we just made\n",
    "\n",
    "    First lets make sure the db is empty"
   ]
  },
  {
   "cell_type": "code",
   "execution_count": 9,
   "metadata": {},
   "outputs": [
    {
     "name": "stdout",
     "output_type": "stream",
     "text": [
      "[]\n"
     ]
    }
   ],
   "source": [
    "cursor.execute(\"\"\"select * from \"Categories\" c\"\"\")\n",
    "print(cursor.fetchall())\n",
    "\n",
    "# cursor.execute(\"\"\"select * from \"Categories\" c\"\"\")\n",
    "# cursor.execute(\"\"\"insert into \"Categories\" (category) values ('food but with py again this time')\"\"\")\n",
    "\n",
    "# cursor.execute(\"\"\"select * from \"Categories\" c\"\"\")\n",
    "# cursor.execute(\"\"\"drop table \"Categories\" \"\"\")"
   ]
  },
  {
   "cell_type": "code",
   "execution_count": 98,
   "metadata": {},
   "outputs": [],
   "source": [
    "\n",
    "# cursor.execute(\"\"\"select * from \"Categories\" c\"\"\")\n",
    "# cursor.execute(\"\"\"insert into \"Categories\" (category) values ('food but with py again this time')\"\"\")\n",
    "\n",
    "# cursor.execute(\"\"\"select * from \"Categories\" c\"\"\")\n",
    "# print(cursor.fetchall())"
   ]
  },
  {
   "cell_type": "markdown",
   "metadata": {},
   "source": [
    "    Now lets touch the DB"
   ]
  },
  {
   "cell_type": "code",
   "execution_count": 8,
   "metadata": {},
   "outputs": [],
   "source": [
    "con = psycopg2.connect(database=\"iSupply\",\n",
    "                        host=\"38.180.117.52\",\n",
    "                        user=\"postgres\",\n",
    "                        password=\"deerRun\",\n",
    "                        port=\"5432\")\n",
    "cursor = con.cursor()"
   ]
  },
  {
   "cell_type": "code",
   "execution_count": 28,
   "metadata": {},
   "outputs": [
    {
     "ename": "UniqueViolation",
     "evalue": "duplicate key value violates unique constraint \"accounts_category_key\"\nDETAIL:  Key (category)=() already exists.\n",
     "output_type": "error",
     "traceback": [
      "\u001b[1;31m---------------------------------------------------------------------------\u001b[0m",
      "\u001b[1;31mUniqueViolation\u001b[0m                           Traceback (most recent call last)",
      "Cell \u001b[1;32mIn[28], line 10\u001b[0m\n\u001b[0;32m      7\u001b[0m     num, name \u001b[38;5;241m=\u001b[39m get_category_subcategory(df, i); num \u001b[38;5;241m=\u001b[39m \u001b[38;5;28mstr\u001b[39m(num)\n\u001b[0;32m      9\u001b[0m     cursor\u001b[38;5;241m.\u001b[39mexecute(\u001b[38;5;124m\"\"\"\u001b[39m\u001b[38;5;124mselect * from \u001b[39m\u001b[38;5;124m\"\u001b[39m\u001b[38;5;124mCategories\u001b[39m\u001b[38;5;124m\"\u001b[39m\u001b[38;5;124m c\u001b[39m\u001b[38;5;124m\"\"\"\u001b[39m)\n\u001b[1;32m---> 10\u001b[0m     \u001b[43mcursor\u001b[49m\u001b[38;5;241;43m.\u001b[39;49m\u001b[43mexecute\u001b[49m\u001b[43m(\u001b[49m\u001b[38;5;124;43m\"\"\"\u001b[39;49m\u001b[38;5;124;43minsert into \u001b[39;49m\u001b[38;5;124;43m\"\u001b[39;49m\u001b[38;5;124;43mCategories\u001b[39;49m\u001b[38;5;124;43m\"\u001b[39;49m\u001b[38;5;124;43m (category_id, category) values (\u001b[39;49m\u001b[38;5;124;43m\"\"\"\u001b[39;49m\u001b[43m \u001b[49m\u001b[38;5;241;43m+\u001b[39;49m\u001b[43m \u001b[49m\u001b[43mnum\u001b[49m\u001b[43m \u001b[49m\u001b[38;5;241;43m+\u001b[39;49m\u001b[43m \u001b[49m\u001b[38;5;124;43m\"\"\"\u001b[39;49m\u001b[38;5;124;43m, \u001b[39;49m\u001b[38;5;124;43m'\u001b[39;49m\u001b[38;5;124;43m\"\"\"\u001b[39;49m\u001b[43m \u001b[49m\u001b[38;5;241;43m+\u001b[39;49m\u001b[43m \u001b[49m\u001b[43mname\u001b[49m\u001b[43m \u001b[49m\u001b[38;5;241;43m+\u001b[39;49m\u001b[43m \u001b[49m\u001b[38;5;124;43m\"\"\"\u001b[39;49m\u001b[38;5;124;43m'\u001b[39;49m\u001b[38;5;124;43m)\u001b[39;49m\u001b[38;5;124;43m\"\"\"\u001b[39;49m\u001b[43m)\u001b[49m \u001b[38;5;66;03m# type: ignore\u001b[39;00m\n\u001b[0;32m     12\u001b[0m \u001b[38;5;66;03m# con.commit()\u001b[39;00m\n",
      "\u001b[1;31mUniqueViolation\u001b[0m: duplicate key value violates unique constraint \"accounts_category_key\"\nDETAIL:  Key (category)=() already exists.\n"
     ]
    }
   ],
   "source": [
    "def get_category_subcategory(df, index):\n",
    "    num = df.loc[index, 'Ser']\n",
    "    name = df.loc[index, 'combined']\n",
    "    return num, name\n",
    "\n",
    "for i in range(1000): # first 1000\n",
    "    num, name = get_category_subcategory(df, i); num = str(num)\n",
    "    \n",
    "    cursor.execute(\"\"\"select * from \"Categories\" c\"\"\")\n",
    "    cursor.execute(\"\"\"insert into \"Categories\" (category_id, category) values (\"\"\" + num + \"\"\", '\"\"\" + name + \"\"\"')\"\"\") # type: ignore\n",
    "\n",
    "# con.commit()"
   ]
  },
  {
   "cell_type": "markdown",
   "metadata": {},
   "source": [
    "    A unique violation? Exception time"
   ]
  },
  {
   "cell_type": "code",
   "execution_count": 29,
   "metadata": {},
   "outputs": [
    {
     "ename": "InFailedSqlTransaction",
     "evalue": "current transaction is aborted, commands ignored until end of transaction block\n",
     "output_type": "error",
     "traceback": [
      "\u001b[1;31m---------------------------------------------------------------------------\u001b[0m",
      "\u001b[1;31mInFailedSqlTransaction\u001b[0m                    Traceback (most recent call last)",
      "Cell \u001b[1;32mIn[29], line 15\u001b[0m\n\u001b[0;32m     14\u001b[0m \u001b[38;5;28;01mtry\u001b[39;00m:    \n\u001b[1;32m---> 15\u001b[0m     \u001b[43mcursor\u001b[49m\u001b[38;5;241;43m.\u001b[39;49m\u001b[43mexecute\u001b[49m\u001b[43m(\u001b[49m\u001b[38;5;124;43m\"\"\"\u001b[39;49m\u001b[38;5;124;43mselect * from \u001b[39;49m\u001b[38;5;124;43m\"\u001b[39;49m\u001b[38;5;124;43mCategories\u001b[39;49m\u001b[38;5;124;43m\"\u001b[39;49m\u001b[38;5;124;43m c\u001b[39;49m\u001b[38;5;124;43m\"\"\"\u001b[39;49m\u001b[43m)\u001b[49m\n\u001b[0;32m     16\u001b[0m     cursor\u001b[38;5;241m.\u001b[39mexecute(\u001b[38;5;124m\"\"\"\u001b[39m\u001b[38;5;124minsert into \u001b[39m\u001b[38;5;124m\"\u001b[39m\u001b[38;5;124mCategories\u001b[39m\u001b[38;5;124m\"\u001b[39m\u001b[38;5;124m (category) values (\u001b[39m\u001b[38;5;124m'\u001b[39m\u001b[38;5;124m\"\"\"\u001b[39m \u001b[38;5;241m+\u001b[39m name \u001b[38;5;241m+\u001b[39m \u001b[38;5;124m\"\"\"\u001b[39m\u001b[38;5;124m'\u001b[39m\u001b[38;5;124m)\u001b[39m\u001b[38;5;124m\"\"\"\u001b[39m) \u001b[38;5;66;03m# type: ignore\u001b[39;00m\n",
      "\u001b[1;31mInFailedSqlTransaction\u001b[0m: current transaction is aborted, commands ignored until end of transaction block\n",
      "\nDuring handling of the above exception, another exception occurred:\n",
      "\u001b[1;31mInFailedSqlTransaction\u001b[0m                    Traceback (most recent call last)",
      "Cell \u001b[1;32mIn[29], line 18\u001b[0m\n\u001b[0;32m     16\u001b[0m         cursor\u001b[38;5;241m.\u001b[39mexecute(\u001b[38;5;124m\"\"\"\u001b[39m\u001b[38;5;124minsert into \u001b[39m\u001b[38;5;124m\"\u001b[39m\u001b[38;5;124mCategories\u001b[39m\u001b[38;5;124m\"\u001b[39m\u001b[38;5;124m (category) values (\u001b[39m\u001b[38;5;124m'\u001b[39m\u001b[38;5;124m\"\"\"\u001b[39m \u001b[38;5;241m+\u001b[39m name \u001b[38;5;241m+\u001b[39m \u001b[38;5;124m\"\"\"\u001b[39m\u001b[38;5;124m'\u001b[39m\u001b[38;5;124m)\u001b[39m\u001b[38;5;124m\"\"\"\u001b[39m) \u001b[38;5;66;03m# type: ignore\u001b[39;00m\n\u001b[0;32m     17\u001b[0m     \u001b[38;5;28;01mexcept\u001b[39;00m \u001b[38;5;167;01mException\u001b[39;00m \u001b[38;5;28;01mas\u001b[39;00m e:\n\u001b[1;32m---> 18\u001b[0m         \u001b[43mcursor\u001b[49m\u001b[38;5;241;43m.\u001b[39;49m\u001b[43mexecute\u001b[49m\u001b[43m(\u001b[49m\u001b[38;5;124;43m\"\"\"\u001b[39;49m\u001b[38;5;124;43minsert into \u001b[39;49m\u001b[38;5;124;43m\"\u001b[39;49m\u001b[38;5;124;43mCategories\u001b[39;49m\u001b[38;5;124;43m\"\u001b[39;49m\u001b[38;5;124;43m (category) values (\u001b[39;49m\u001b[38;5;124;43m'\u001b[39;49m\u001b[38;5;124;43m\"\"\"\u001b[39;49m\u001b[43m \u001b[49m\u001b[38;5;241;43m+\u001b[39;49m\u001b[43m \u001b[49m\u001b[43mname\u001b[49m\u001b[43m \u001b[49m\u001b[38;5;241;43m+\u001b[39;49m\u001b[43m \u001b[49m\u001b[38;5;124;43m\"\"\"\u001b[39;49m\u001b[38;5;124;43m'\u001b[39;49m\u001b[38;5;124;43m)\u001b[39;49m\u001b[38;5;124;43m\"\"\"\u001b[39;49m\u001b[43m)\u001b[49m \u001b[38;5;66;03m# type: ignore\u001b[39;00m\n\u001b[0;32m     21\u001b[0m \u001b[38;5;28;01mexcept\u001b[39;00m psycopg2\u001b[38;5;241m.\u001b[39merrors\u001b[38;5;241m.\u001b[39mUniqueViolation \u001b[38;5;28;01mas\u001b[39;00m e:\n\u001b[0;32m     22\u001b[0m     listOfCollisions\u001b[38;5;241m.\u001b[39mappend(i)\n",
      "\u001b[1;31mInFailedSqlTransaction\u001b[0m: current transaction is aborted, commands ignored until end of transaction block\n"
     ]
    }
   ],
   "source": [
    "listOfCollisions = []\n",
    "\n",
    "def get_category_subcategory(df, index):\n",
    "    num = df.loc[index, 'Ser']\n",
    "    name = df.loc[index, 'combined']\n",
    "    return num, name\n",
    "\n",
    "for i in range(len(df)): # type: ignore\n",
    "# for i in range(10): # type: ignore\n",
    "    num, name = get_category_subcategory(df, i); num = str(num)\n",
    "    \n",
    "    try:\n",
    "        \n",
    "        try:    \n",
    "            cursor.execute(\"\"\"select * from \"Categories\" c\"\"\")\n",
    "            cursor.execute(\"\"\"insert into \"Categories\" (category) values ('\"\"\" + name + \"\"\"')\"\"\") # type: ignore\n",
    "        except Exception as e:\n",
    "            cursor.execute(\"\"\"insert into \"Categories\" (category) values ('\"\"\" + name + \"\"\"')\"\"\") # type: ignore\n",
    "        \n",
    "        \n",
    "    except psycopg2.errors.UniqueViolation as e:\n",
    "        listOfCollisions.append(i)\n",
    "\n",
    "con.commit() # add this to make it the real thing\n",
    "\n",
    "print(listOfCollisions.__sizeof__())"
   ]
  },
  {
   "cell_type": "markdown",
   "metadata": {},
   "source": [
    "    Another issue? Lets try going a couple hundred terms at a time, & Im gonna clean up the code while we're at it"
   ]
  },
  {
   "cell_type": "code",
   "execution_count": 30,
   "metadata": {},
   "outputs": [],
   "source": [
    "\n",
    "def process_categories(df, cursor, con, start, end):\n",
    "    listOfCollisions = []\n",
    "\n",
    "    def get_category_subcategory(df, index):\n",
    "        num = df.loc[index, 'Ser']\n",
    "        name = df.loc[index, 'combined']\n",
    "        return num, name\n",
    "\n",
    "    for i in range(start, end):\n",
    "        num, name = get_category_subcategory(df, i)\n",
    "        num = str(num)\n",
    "\n",
    "        try:\n",
    "            cursor.execute(\"\"\"INSERT INTO \"Categories\" (category_id, category) VALUES (%s, %s)\"\"\", (num, name))\n",
    "        except psycopg2.errors.UniqueViolation as e:\n",
    "            listOfCollisions.append(i)\n",
    "        except Exception as e:\n",
    "            print(f\"An unexpected error occurred: {e}\")\n",
    "\n",
    "    con.commit()\n",
    "\n",
    "    print(len(listOfCollisions)); return listOfCollisions"
   ]
  },
  {
   "cell_type": "code",
   "execution_count": 34,
   "metadata": {},
   "outputs": [
    {
     "name": "stdout",
     "output_type": "stream",
     "text": [
      "0\n"
     ]
    }
   ],
   "source": [
    "collisions = process_categories(df, cursor, con, 0, 100)\n"
   ]
  },
  {
   "cell_type": "markdown",
   "metadata": {},
   "source": [
    "    16 seconds for the first 100 entries? No collisions? Not bad\n",
    "    Now this should take ~33 seconds"
   ]
  },
  {
   "cell_type": "code",
   "execution_count": 71,
   "metadata": {},
   "outputs": [
    {
     "name": "stdout",
     "output_type": "stream",
     "text": [
      "An unexpected error occurred: current transaction is aborted, commands ignored until end of transaction block\n",
      "\n",
      "An unexpected error occurred: current transaction is aborted, commands ignored until end of transaction block\n",
      "\n",
      "An unexpected error occurred: current transaction is aborted, commands ignored until end of transaction block\n",
      "\n",
      "An unexpected error occurred: current transaction is aborted, commands ignored until end of transaction block\n",
      "\n",
      "An unexpected error occurred: current transaction is aborted, commands ignored until end of transaction block\n",
      "\n",
      "An unexpected error occurred: current transaction is aborted, commands ignored until end of transaction block\n",
      "\n",
      "An unexpected error occurred: current transaction is aborted, commands ignored until end of transaction block\n",
      "\n",
      "An unexpected error occurred: current transaction is aborted, commands ignored until end of transaction block\n",
      "\n",
      "An unexpected error occurred: current transaction is aborted, commands ignored until end of transaction block\n",
      "\n",
      "An unexpected error occurred: current transaction is aborted, commands ignored until end of transaction block\n",
      "\n",
      "An unexpected error occurred: current transaction is aborted, commands ignored until end of transaction block\n",
      "\n",
      "An unexpected error occurred: current transaction is aborted, commands ignored until end of transaction block\n",
      "\n",
      "An unexpected error occurred: current transaction is aborted, commands ignored until end of transaction block\n",
      "\n",
      "An unexpected error occurred: current transaction is aborted, commands ignored until end of transaction block\n",
      "\n",
      "An unexpected error occurred: current transaction is aborted, commands ignored until end of transaction block\n",
      "\n",
      "An unexpected error occurred: current transaction is aborted, commands ignored until end of transaction block\n",
      "\n",
      "An unexpected error occurred: current transaction is aborted, commands ignored until end of transaction block\n",
      "\n",
      "An unexpected error occurred: current transaction is aborted, commands ignored until end of transaction block\n",
      "\n",
      "An unexpected error occurred: current transaction is aborted, commands ignored until end of transaction block\n",
      "\n",
      "An unexpected error occurred: current transaction is aborted, commands ignored until end of transaction block\n",
      "\n",
      "An unexpected error occurred: current transaction is aborted, commands ignored until end of transaction block\n",
      "\n",
      "An unexpected error occurred: current transaction is aborted, commands ignored until end of transaction block\n",
      "\n",
      "An unexpected error occurred: current transaction is aborted, commands ignored until end of transaction block\n",
      "\n",
      "An unexpected error occurred: current transaction is aborted, commands ignored until end of transaction block\n",
      "\n",
      "An unexpected error occurred: current transaction is aborted, commands ignored until end of transaction block\n",
      "\n",
      "An unexpected error occurred: current transaction is aborted, commands ignored until end of transaction block\n",
      "\n",
      "An unexpected error occurred: current transaction is aborted, commands ignored until end of transaction block\n",
      "\n",
      "An unexpected error occurred: current transaction is aborted, commands ignored until end of transaction block\n",
      "\n",
      "An unexpected error occurred: current transaction is aborted, commands ignored until end of transaction block\n",
      "\n",
      "An unexpected error occurred: current transaction is aborted, commands ignored until end of transaction block\n",
      "\n",
      "An unexpected error occurred: current transaction is aborted, commands ignored until end of transaction block\n",
      "\n",
      "An unexpected error occurred: current transaction is aborted, commands ignored until end of transaction block\n",
      "\n",
      "An unexpected error occurred: current transaction is aborted, commands ignored until end of transaction block\n",
      "\n",
      "An unexpected error occurred: current transaction is aborted, commands ignored until end of transaction block\n",
      "\n",
      "An unexpected error occurred: current transaction is aborted, commands ignored until end of transaction block\n",
      "\n",
      "An unexpected error occurred: current transaction is aborted, commands ignored until end of transaction block\n",
      "\n",
      "An unexpected error occurred: current transaction is aborted, commands ignored until end of transaction block\n",
      "\n",
      "An unexpected error occurred: current transaction is aborted, commands ignored until end of transaction block\n",
      "\n",
      "An unexpected error occurred: current transaction is aborted, commands ignored until end of transaction block\n",
      "\n",
      "An unexpected error occurred: current transaction is aborted, commands ignored until end of transaction block\n",
      "\n",
      "An unexpected error occurred: current transaction is aborted, commands ignored until end of transaction block\n",
      "\n",
      "An unexpected error occurred: current transaction is aborted, commands ignored until end of transaction block\n",
      "\n",
      "An unexpected error occurred: current transaction is aborted, commands ignored until end of transaction block\n",
      "\n",
      "An unexpected error occurred: current transaction is aborted, commands ignored until end of transaction block\n",
      "\n",
      "An unexpected error occurred: current transaction is aborted, commands ignored until end of transaction block\n",
      "\n",
      "An unexpected error occurred: current transaction is aborted, commands ignored until end of transaction block\n",
      "\n",
      "An unexpected error occurred: current transaction is aborted, commands ignored until end of transaction block\n",
      "\n",
      "An unexpected error occurred: current transaction is aborted, commands ignored until end of transaction block\n",
      "\n",
      "An unexpected error occurred: current transaction is aborted, commands ignored until end of transaction block\n",
      "\n",
      "An unexpected error occurred: current transaction is aborted, commands ignored until end of transaction block\n",
      "\n",
      "An unexpected error occurred: current transaction is aborted, commands ignored until end of transaction block\n",
      "\n",
      "An unexpected error occurred: current transaction is aborted, commands ignored until end of transaction block\n",
      "\n",
      "An unexpected error occurred: current transaction is aborted, commands ignored until end of transaction block\n",
      "\n",
      "An unexpected error occurred: current transaction is aborted, commands ignored until end of transaction block\n",
      "\n",
      "An unexpected error occurred: current transaction is aborted, commands ignored until end of transaction block\n",
      "\n",
      "An unexpected error occurred: current transaction is aborted, commands ignored until end of transaction block\n",
      "\n",
      "An unexpected error occurred: current transaction is aborted, commands ignored until end of transaction block\n",
      "\n",
      "An unexpected error occurred: current transaction is aborted, commands ignored until end of transaction block\n",
      "\n",
      "An unexpected error occurred: current transaction is aborted, commands ignored until end of transaction block\n",
      "\n",
      "An unexpected error occurred: current transaction is aborted, commands ignored until end of transaction block\n",
      "\n",
      "An unexpected error occurred: current transaction is aborted, commands ignored until end of transaction block\n",
      "\n",
      "An unexpected error occurred: current transaction is aborted, commands ignored until end of transaction block\n",
      "\n",
      "An unexpected error occurred: current transaction is aborted, commands ignored until end of transaction block\n",
      "\n",
      "An unexpected error occurred: current transaction is aborted, commands ignored until end of transaction block\n",
      "\n",
      "An unexpected error occurred: current transaction is aborted, commands ignored until end of transaction block\n",
      "\n",
      "An unexpected error occurred: current transaction is aborted, commands ignored until end of transaction block\n",
      "\n",
      "An unexpected error occurred: current transaction is aborted, commands ignored until end of transaction block\n",
      "\n",
      "An unexpected error occurred: current transaction is aborted, commands ignored until end of transaction block\n",
      "\n",
      "An unexpected error occurred: current transaction is aborted, commands ignored until end of transaction block\n",
      "\n",
      "An unexpected error occurred: current transaction is aborted, commands ignored until end of transaction block\n",
      "\n",
      "An unexpected error occurred: current transaction is aborted, commands ignored until end of transaction block\n",
      "\n",
      "An unexpected error occurred: current transaction is aborted, commands ignored until end of transaction block\n",
      "\n",
      "An unexpected error occurred: current transaction is aborted, commands ignored until end of transaction block\n",
      "\n",
      "An unexpected error occurred: current transaction is aborted, commands ignored until end of transaction block\n",
      "\n",
      "An unexpected error occurred: current transaction is aborted, commands ignored until end of transaction block\n",
      "\n",
      "An unexpected error occurred: current transaction is aborted, commands ignored until end of transaction block\n",
      "\n",
      "An unexpected error occurred: current transaction is aborted, commands ignored until end of transaction block\n",
      "\n",
      "An unexpected error occurred: current transaction is aborted, commands ignored until end of transaction block\n",
      "\n",
      "An unexpected error occurred: current transaction is aborted, commands ignored until end of transaction block\n",
      "\n",
      "An unexpected error occurred: current transaction is aborted, commands ignored until end of transaction block\n",
      "\n",
      "An unexpected error occurred: current transaction is aborted, commands ignored until end of transaction block\n",
      "\n",
      "An unexpected error occurred: current transaction is aborted, commands ignored until end of transaction block\n",
      "\n",
      "An unexpected error occurred: current transaction is aborted, commands ignored until end of transaction block\n",
      "\n",
      "An unexpected error occurred: current transaction is aborted, commands ignored until end of transaction block\n",
      "\n",
      "An unexpected error occurred: current transaction is aborted, commands ignored until end of transaction block\n",
      "\n",
      "An unexpected error occurred: current transaction is aborted, commands ignored until end of transaction block\n",
      "\n",
      "An unexpected error occurred: current transaction is aborted, commands ignored until end of transaction block\n",
      "\n",
      "An unexpected error occurred: current transaction is aborted, commands ignored until end of transaction block\n",
      "\n",
      "An unexpected error occurred: current transaction is aborted, commands ignored until end of transaction block\n",
      "\n",
      "An unexpected error occurred: current transaction is aborted, commands ignored until end of transaction block\n",
      "\n",
      "An unexpected error occurred: current transaction is aborted, commands ignored until end of transaction block\n",
      "\n",
      "An unexpected error occurred: current transaction is aborted, commands ignored until end of transaction block\n",
      "\n",
      "An unexpected error occurred: current transaction is aborted, commands ignored until end of transaction block\n",
      "\n",
      "An unexpected error occurred: current transaction is aborted, commands ignored until end of transaction block\n",
      "\n",
      "An unexpected error occurred: current transaction is aborted, commands ignored until end of transaction block\n",
      "\n",
      "An unexpected error occurred: current transaction is aborted, commands ignored until end of transaction block\n",
      "\n",
      "An unexpected error occurred: current transaction is aborted, commands ignored until end of transaction block\n",
      "\n",
      "An unexpected error occurred: current transaction is aborted, commands ignored until end of transaction block\n",
      "\n",
      "An unexpected error occurred: current transaction is aborted, commands ignored until end of transaction block\n",
      "\n",
      "An unexpected error occurred: current transaction is aborted, commands ignored until end of transaction block\n",
      "\n",
      "An unexpected error occurred: current transaction is aborted, commands ignored until end of transaction block\n",
      "\n",
      "An unexpected error occurred: current transaction is aborted, commands ignored until end of transaction block\n",
      "\n",
      "An unexpected error occurred: current transaction is aborted, commands ignored until end of transaction block\n",
      "\n",
      "An unexpected error occurred: current transaction is aborted, commands ignored until end of transaction block\n",
      "\n",
      "An unexpected error occurred: current transaction is aborted, commands ignored until end of transaction block\n",
      "\n",
      "An unexpected error occurred: current transaction is aborted, commands ignored until end of transaction block\n",
      "\n",
      "An unexpected error occurred: current transaction is aborted, commands ignored until end of transaction block\n",
      "\n",
      "An unexpected error occurred: current transaction is aborted, commands ignored until end of transaction block\n",
      "\n",
      "An unexpected error occurred: current transaction is aborted, commands ignored until end of transaction block\n",
      "\n",
      "An unexpected error occurred: current transaction is aborted, commands ignored until end of transaction block\n",
      "\n",
      "An unexpected error occurred: current transaction is aborted, commands ignored until end of transaction block\n",
      "\n",
      "An unexpected error occurred: current transaction is aborted, commands ignored until end of transaction block\n",
      "\n",
      "An unexpected error occurred: current transaction is aborted, commands ignored until end of transaction block\n",
      "\n",
      "An unexpected error occurred: current transaction is aborted, commands ignored until end of transaction block\n",
      "\n",
      "An unexpected error occurred: current transaction is aborted, commands ignored until end of transaction block\n",
      "\n",
      "An unexpected error occurred: current transaction is aborted, commands ignored until end of transaction block\n",
      "\n",
      "An unexpected error occurred: current transaction is aborted, commands ignored until end of transaction block\n",
      "\n",
      "An unexpected error occurred: current transaction is aborted, commands ignored until end of transaction block\n",
      "\n",
      "An unexpected error occurred: current transaction is aborted, commands ignored until end of transaction block\n",
      "\n",
      "An unexpected error occurred: current transaction is aborted, commands ignored until end of transaction block\n",
      "\n",
      "An unexpected error occurred: current transaction is aborted, commands ignored until end of transaction block\n",
      "\n",
      "An unexpected error occurred: current transaction is aborted, commands ignored until end of transaction block\n",
      "\n",
      "An unexpected error occurred: current transaction is aborted, commands ignored until end of transaction block\n",
      "\n",
      "An unexpected error occurred: current transaction is aborted, commands ignored until end of transaction block\n",
      "\n",
      "An unexpected error occurred: current transaction is aborted, commands ignored until end of transaction block\n",
      "\n",
      "An unexpected error occurred: current transaction is aborted, commands ignored until end of transaction block\n",
      "\n",
      "An unexpected error occurred: current transaction is aborted, commands ignored until end of transaction block\n",
      "\n",
      "An unexpected error occurred: current transaction is aborted, commands ignored until end of transaction block\n",
      "\n",
      "An unexpected error occurred: current transaction is aborted, commands ignored until end of transaction block\n",
      "\n",
      "An unexpected error occurred: current transaction is aborted, commands ignored until end of transaction block\n",
      "\n",
      "An unexpected error occurred: current transaction is aborted, commands ignored until end of transaction block\n",
      "\n",
      "An unexpected error occurred: current transaction is aborted, commands ignored until end of transaction block\n",
      "\n",
      "An unexpected error occurred: current transaction is aborted, commands ignored until end of transaction block\n",
      "\n",
      "An unexpected error occurred: current transaction is aborted, commands ignored until end of transaction block\n",
      "\n",
      "An unexpected error occurred: current transaction is aborted, commands ignored until end of transaction block\n",
      "\n",
      "An unexpected error occurred: current transaction is aborted, commands ignored until end of transaction block\n",
      "\n",
      "An unexpected error occurred: current transaction is aborted, commands ignored until end of transaction block\n",
      "\n",
      "An unexpected error occurred: current transaction is aborted, commands ignored until end of transaction block\n",
      "\n",
      "An unexpected error occurred: current transaction is aborted, commands ignored until end of transaction block\n",
      "\n",
      "An unexpected error occurred: current transaction is aborted, commands ignored until end of transaction block\n",
      "\n",
      "An unexpected error occurred: current transaction is aborted, commands ignored until end of transaction block\n",
      "\n",
      "An unexpected error occurred: current transaction is aborted, commands ignored until end of transaction block\n",
      "\n",
      "An unexpected error occurred: current transaction is aborted, commands ignored until end of transaction block\n",
      "\n",
      "An unexpected error occurred: current transaction is aborted, commands ignored until end of transaction block\n",
      "\n",
      "An unexpected error occurred: current transaction is aborted, commands ignored until end of transaction block\n",
      "\n",
      "An unexpected error occurred: current transaction is aborted, commands ignored until end of transaction block\n",
      "\n",
      "An unexpected error occurred: current transaction is aborted, commands ignored until end of transaction block\n",
      "\n",
      "An unexpected error occurred: current transaction is aborted, commands ignored until end of transaction block\n",
      "\n",
      "An unexpected error occurred: current transaction is aborted, commands ignored until end of transaction block\n",
      "\n",
      "1\n"
     ]
    }
   ],
   "source": [
    "collisions = process_categories(df, cursor, con, 101, 300)"
   ]
  },
  {
   "cell_type": "markdown",
   "metadata": {},
   "source": [
    "    Hm, weird output there - but worst of all no new data appeared on DBeaver - lets try:"
   ]
  },
  {
   "cell_type": "code",
   "execution_count": 35,
   "metadata": {},
   "outputs": [
    {
     "name": "stdout",
     "output_type": "stream",
     "text": [
      "0\n"
     ]
    }
   ],
   "source": [
    "collisions = process_categories(df, cursor, con, 101, 150)"
   ]
  },
  {
   "cell_type": "markdown",
   "metadata": {},
   "source": [
    "    Success! lets try:"
   ]
  },
  {
   "cell_type": "code",
   "execution_count": 36,
   "metadata": {},
   "outputs": [
    {
     "name": "stdout",
     "output_type": "stream",
     "text": [
      "0\n"
     ]
    }
   ],
   "source": [
    "collisions = process_categories(df, cursor, con, 151, 200)"
   ]
  },
  {
   "cell_type": "markdown",
   "metadata": {},
   "source": [
    "    Now lets:"
   ]
  },
  {
   "cell_type": "code",
   "execution_count": 37,
   "metadata": {},
   "outputs": [
    {
     "name": "stdout",
     "output_type": "stream",
     "text": [
      "0\n"
     ]
    }
   ],
   "source": [
    "collisions = process_categories(df, cursor, con, 201, 250)"
   ]
  },
  {
   "cell_type": "code",
   "execution_count": 38,
   "metadata": {},
   "outputs": [
    {
     "name": "stdout",
     "output_type": "stream",
     "text": [
      "0\n"
     ]
    }
   ],
   "source": [
    "collisions = process_categories(df, cursor, con, 251, 300)"
   ]
  },
  {
   "cell_type": "code",
   "execution_count": 39,
   "metadata": {},
   "outputs": [
    {
     "name": "stdout",
     "output_type": "stream",
     "text": [
      "An unexpected error occurred: current transaction is aborted, commands ignored until end of transaction block\n",
      "\n",
      "An unexpected error occurred: current transaction is aborted, commands ignored until end of transaction block\n",
      "\n",
      "An unexpected error occurred: current transaction is aborted, commands ignored until end of transaction block\n",
      "\n",
      "An unexpected error occurred: current transaction is aborted, commands ignored until end of transaction block\n",
      "\n",
      "An unexpected error occurred: current transaction is aborted, commands ignored until end of transaction block\n",
      "\n",
      "An unexpected error occurred: current transaction is aborted, commands ignored until end of transaction block\n",
      "\n",
      "An unexpected error occurred: current transaction is aborted, commands ignored until end of transaction block\n",
      "\n",
      "An unexpected error occurred: current transaction is aborted, commands ignored until end of transaction block\n",
      "\n",
      "An unexpected error occurred: current transaction is aborted, commands ignored until end of transaction block\n",
      "\n",
      "An unexpected error occurred: current transaction is aborted, commands ignored until end of transaction block\n",
      "\n",
      "An unexpected error occurred: current transaction is aborted, commands ignored until end of transaction block\n",
      "\n",
      "1\n"
     ]
    }
   ],
   "source": [
    "collisions = process_categories(df, cursor, con, 301, 350)"
   ]
  },
  {
   "cell_type": "markdown",
   "metadata": {},
   "source": [
    "    Theres the issue, one of the early 300's is messing this up, lets wipe the db & try a smaller interval"
   ]
  },
  {
   "cell_type": "code",
   "execution_count": 42,
   "metadata": {},
   "outputs": [
    {
     "name": "stdout",
     "output_type": "stream",
     "text": [
      "An unexpected error occurred: current transaction is aborted, commands ignored until end of transaction block\n",
      "\n",
      "An unexpected error occurred: current transaction is aborted, commands ignored until end of transaction block\n",
      "\n",
      "An unexpected error occurred: current transaction is aborted, commands ignored until end of transaction block\n",
      "\n",
      "An unexpected error occurred: current transaction is aborted, commands ignored until end of transaction block\n",
      "\n",
      "An unexpected error occurred: current transaction is aborted, commands ignored until end of transaction block\n",
      "\n",
      "An unexpected error occurred: current transaction is aborted, commands ignored until end of transaction block\n",
      "\n"
     ]
    },
    {
     "ename": "KeyboardInterrupt",
     "evalue": "",
     "output_type": "error",
     "traceback": [
      "\u001b[1;31m---------------------------------------------------------------------------\u001b[0m",
      "\u001b[1;31mKeyboardInterrupt\u001b[0m                         Traceback (most recent call last)",
      "Cell \u001b[1;32mIn[42], line 10\u001b[0m\n\u001b[0;32m      3\u001b[0m con \u001b[38;5;241m=\u001b[39m psycopg2\u001b[38;5;241m.\u001b[39mconnect(database\u001b[38;5;241m=\u001b[39m\u001b[38;5;124m\"\u001b[39m\u001b[38;5;124miSupply\u001b[39m\u001b[38;5;124m\"\u001b[39m,\n\u001b[0;32m      4\u001b[0m                         host\u001b[38;5;241m=\u001b[39m\u001b[38;5;124m\"\u001b[39m\u001b[38;5;124m38.180.117.52\u001b[39m\u001b[38;5;124m\"\u001b[39m,\n\u001b[0;32m      5\u001b[0m                         user\u001b[38;5;241m=\u001b[39m\u001b[38;5;124m\"\u001b[39m\u001b[38;5;124mpostgres\u001b[39m\u001b[38;5;124m\"\u001b[39m,\n\u001b[0;32m      6\u001b[0m                         password\u001b[38;5;241m=\u001b[39m\u001b[38;5;124m\"\u001b[39m\u001b[38;5;124mdeerRun\u001b[39m\u001b[38;5;124m\"\u001b[39m,\n\u001b[0;32m      7\u001b[0m                         port\u001b[38;5;241m=\u001b[39m\u001b[38;5;124m\"\u001b[39m\u001b[38;5;124m5432\u001b[39m\u001b[38;5;124m\"\u001b[39m)\n\u001b[0;32m      8\u001b[0m cursor \u001b[38;5;241m=\u001b[39m con\u001b[38;5;241m.\u001b[39mcursor()\n\u001b[1;32m---> 10\u001b[0m collisions \u001b[38;5;241m=\u001b[39m \u001b[43mprocess_categories\u001b[49m\u001b[43m(\u001b[49m\u001b[43mdf\u001b[49m\u001b[43m,\u001b[49m\u001b[43m \u001b[49m\u001b[43mcursor\u001b[49m\u001b[43m,\u001b[49m\u001b[43m \u001b[49m\u001b[43mcon\u001b[49m\u001b[43m,\u001b[49m\u001b[43m \u001b[49m\u001b[38;5;241;43m0\u001b[39;49m\u001b[43m,\u001b[49m\u001b[43m \u001b[49m\u001b[38;5;241;43m300\u001b[39;49m\u001b[43m)\u001b[49m\n",
      "Cell \u001b[1;32mIn[30], line 14\u001b[0m, in \u001b[0;36mprocess_categories\u001b[1;34m(df, cursor, con, start, end)\u001b[0m\n\u001b[0;32m     11\u001b[0m num \u001b[38;5;241m=\u001b[39m \u001b[38;5;28mstr\u001b[39m(num)\n\u001b[0;32m     13\u001b[0m \u001b[38;5;28;01mtry\u001b[39;00m:\n\u001b[1;32m---> 14\u001b[0m     \u001b[43mcursor\u001b[49m\u001b[38;5;241;43m.\u001b[39;49m\u001b[43mexecute\u001b[49m\u001b[43m(\u001b[49m\u001b[38;5;124;43m\"\"\"\u001b[39;49m\u001b[38;5;124;43mINSERT INTO \u001b[39;49m\u001b[38;5;124;43m\"\u001b[39;49m\u001b[38;5;124;43mCategories\u001b[39;49m\u001b[38;5;124;43m\"\u001b[39;49m\u001b[38;5;124;43m (category_id, category) VALUES (\u001b[39;49m\u001b[38;5;132;43;01m%s\u001b[39;49;00m\u001b[38;5;124;43m, \u001b[39;49m\u001b[38;5;132;43;01m%s\u001b[39;49;00m\u001b[38;5;124;43m)\u001b[39;49m\u001b[38;5;124;43m\"\"\"\u001b[39;49m\u001b[43m,\u001b[49m\u001b[43m \u001b[49m\u001b[43m(\u001b[49m\u001b[43mnum\u001b[49m\u001b[43m,\u001b[49m\u001b[43m \u001b[49m\u001b[43mname\u001b[49m\u001b[43m)\u001b[49m\u001b[43m)\u001b[49m\n\u001b[0;32m     15\u001b[0m \u001b[38;5;28;01mexcept\u001b[39;00m psycopg2\u001b[38;5;241m.\u001b[39merrors\u001b[38;5;241m.\u001b[39mUniqueViolation \u001b[38;5;28;01mas\u001b[39;00m e:\n\u001b[0;32m     16\u001b[0m     listOfCollisions\u001b[38;5;241m.\u001b[39mappend(i)\n",
      "File \u001b[1;32mC:\\Program Files\\WindowsApps\\PythonSoftwareFoundation.Python.3.12_3.12.1008.0_x64__qbz5n2kfra8p0\\Lib\\encodings\\utf_8.py:15\u001b[0m, in \u001b[0;36mdecode\u001b[1;34m(input, errors)\u001b[0m\n\u001b[0;32m     11\u001b[0m \u001b[38;5;66;03m### Codec APIs\u001b[39;00m\n\u001b[0;32m     13\u001b[0m encode \u001b[38;5;241m=\u001b[39m codecs\u001b[38;5;241m.\u001b[39mutf_8_encode\n\u001b[1;32m---> 15\u001b[0m \u001b[38;5;28;01mdef\u001b[39;00m \u001b[38;5;21mdecode\u001b[39m(\u001b[38;5;28minput\u001b[39m, errors\u001b[38;5;241m=\u001b[39m\u001b[38;5;124m'\u001b[39m\u001b[38;5;124mstrict\u001b[39m\u001b[38;5;124m'\u001b[39m):\n\u001b[0;32m     16\u001b[0m     \u001b[38;5;28;01mreturn\u001b[39;00m codecs\u001b[38;5;241m.\u001b[39mutf_8_decode(\u001b[38;5;28minput\u001b[39m, errors, \u001b[38;5;28;01mTrue\u001b[39;00m)\n\u001b[0;32m     18\u001b[0m \u001b[38;5;28;01mclass\u001b[39;00m \u001b[38;5;21;01mIncrementalEncoder\u001b[39;00m(codecs\u001b[38;5;241m.\u001b[39mIncrementalEncoder):\n",
      "\u001b[1;31mKeyboardInterrupt\u001b[0m: "
     ]
    }
   ],
   "source": [
    "# wipe the db from DBeaver\n",
    "\n",
    "con = psycopg2.connect(database=\"iSupply\",\n",
    "                        host=\"38.180.117.52\",\n",
    "                        user=\"postgres\",\n",
    "                        password=\"deerRun\",\n",
    "                        port=\"5432\")\n",
    "cursor = con.cursor()\n",
    "\n",
    "collisions = process_categories(df, cursor, con, 0, 300)"
   ]
  },
  {
   "cell_type": "markdown",
   "metadata": {},
   "source": [
    "    // Cell aborted\n",
    "\n",
    "    One possible explanation: lets move around the commit command, & while here optimize the code"
   ]
  },
  {
   "cell_type": "code",
   "execution_count": 52,
   "metadata": {},
   "outputs": [],
   "source": [
    "\n",
    "def get_category_subcategory(df, index): # define this once cause micro optimizing is fun\n",
    "    num = df.loc[index, 'Ser']\n",
    "    name = df.loc[index, 'combined']\n",
    "    return name, num\n",
    "\n",
    "def process_categories(df, cursor, con, start, end):\n",
    "    listOfCollisions = []\n",
    "\n",
    "    for i in range(start, end):\n",
    "        name, num = get_category_subcategory(df, i); num = str(num)\n",
    "\n",
    "        try:\n",
    "            cursor.execute(\"\"\"INSERT INTO \"Categories\" (category_id, category) VALUES (%s, %s)\"\"\", (num, name))\n",
    "        except psycopg2.errors.UniqueViolation as e:\n",
    "            listOfCollisions.append(i)\n",
    "        except Exception as e:\n",
    "            print(f\"Error occurred: {e}\")\n",
    "        \n",
    "        con.commit() # we moved this\n",
    "\n",
    "    print(len(listOfCollisions)); return listOfCollisions"
   ]
  },
  {
   "cell_type": "code",
   "execution_count": 53,
   "metadata": {},
   "outputs": [],
   "source": [
    "# wipe the db from DBeaver\n",
    "\n",
    "con = psycopg2.connect(database=\"iSupply\",\n",
    "                        host=\"38.180.117.52\",\n",
    "                        user=\"postgres\",\n",
    "                        password=\"deerRun\",\n",
    "                        port=\"5432\")\n",
    "cursor = con.cursor()\n",
    "\n",
    "collisions = process_categories(df, cursor, con, 0, 100)\n",
    "print(\"1st 100 done\")\n",
    "collisions = process_categories(df, cursor, con, 100, 200)\n",
    "print(\"2nd 100 done\")\n",
    "collisions = process_categories(df, cursor, con, 200, 300)\n",
    "print(\"3rd 100 done\")"
   ]
  },
  {
   "cell_type": "markdown",
   "metadata": {},
   "source": [
    "    You can't see it but it took 12 minutes with no change, so lets try something else"
   ]
  },
  {
   "cell_type": "code",
   "execution_count": 14,
   "metadata": {},
   "outputs": [],
   "source": [
    "def get_category_subcategory(df, index):\n",
    "    num = df.loc[index, 'Ser']\n",
    "    name = df.loc[index, 'combined']\n",
    "    return name, num\n",
    "\n",
    "def process_categories(df, cursor, con, start, end):\n",
    "    listOfCollisions = []; j = 0\n",
    "    \n",
    "    for i in range(start, end):\n",
    "        name, num = get_category_subcategory(df, i); num = str(num)\n",
    "\n",
    "        try:\n",
    "            cursor.execute(\"\"\"INSERT INTO \"Categories\" (category_id, category) VALUES (%s, %s)\"\"\", (num, name))\n",
    "        except psycopg2.errors.UniqueViolation as e:\n",
    "            listOfCollisions.append(i)\n",
    "        except Exception as e:\n",
    "            print(f\"Error occurred: {e}\")\n",
    "        \n",
    "        if(j==10):\n",
    "            con.commit(); j = 0 # this time we will commit for each 10th entry\n",
    "        j = j + 1\n",
    "\n",
    "    con.commit()\n",
    "\n",
    "    print(len(listOfCollisions)); return listOfCollisions"
   ]
  },
  {
   "cell_type": "code",
   "execution_count": 16,
   "metadata": {},
   "outputs": [
    {
     "name": "stdout",
     "output_type": "stream",
     "text": [
      "0\n",
      "1st 100 done\n"
     ]
    }
   ],
   "source": [
    "# wipe the db from DBeaver\n",
    "\n",
    "con = psycopg2.connect(database=\"iSupply\",\n",
    "                        host=\"38.180.117.52\",\n",
    "                        user=\"postgres\",\n",
    "                        password=\"deerRun\",\n",
    "                        port=\"5432\")\n",
    "cursor = con.cursor()\n",
    "\n",
    "collisions = process_categories(df, cursor, con, 0, 100)\n",
    "print(\"1st 100 done\")"
   ]
  },
  {
   "cell_type": "markdown",
   "metadata": {},
   "source": [
    "    1st 100 in < 21 seconds - time to get cautiously optimistic"
   ]
  },
  {
   "cell_type": "code",
   "execution_count": 17,
   "metadata": {},
   "outputs": [
    {
     "name": "stdout",
     "output_type": "stream",
     "text": [
      "1\n",
      "2nd 100 done\n",
      "0\n",
      "3rd 100 done\n"
     ]
    }
   ],
   "source": [
    "collisions = process_categories(df, cursor, con, 100, 200)\n",
    "print(\"2nd 100 done\")\n",
    "collisions = process_categories(df, cursor, con, 200, 300)\n",
    "print(\"3rd 100 done\")"
   ]
  },
  {
   "cell_type": "markdown",
   "metadata": {},
   "source": [
    "    Looking good, lets build something bigger\n",
    "\n",
    "    By channeling the for loop, lets try the 1st 1000,\n",
    "    Which by prospect of 100 entries in under 20 seconds (after pre processing), will take 200s or 3 min 20 s"
   ]
  },
  {
   "cell_type": "code",
   "execution_count": 25,
   "metadata": {},
   "outputs": [
    {
     "name": "stdout",
     "output_type": "stream",
     "text": [
      "0\n",
      "100 number  1  done\n",
      "1\n",
      "100 number  2  done\n",
      "0\n",
      "100 number  3  done\n",
      "Error occurred: current transaction is aborted, commands ignored until end of transaction block\n",
      "\n",
      "1\n",
      "100 number  4  done\n",
      "0\n",
      "100 number  5  done\n",
      "Error occurred: current transaction is aborted, commands ignored until end of transaction block\n",
      "\n",
      "Error occurred: current transaction is aborted, commands ignored until end of transaction block\n",
      "\n",
      "Error occurred: current transaction is aborted, commands ignored until end of transaction block\n",
      "\n",
      "Error occurred: current transaction is aborted, commands ignored until end of transaction block\n",
      "\n",
      "Error occurred: current transaction is aborted, commands ignored until end of transaction block\n",
      "\n",
      "Error occurred: current transaction is aborted, commands ignored until end of transaction block\n",
      "\n",
      "Error occurred: current transaction is aborted, commands ignored until end of transaction block\n",
      "\n",
      "1\n",
      "100 number  6  done\n",
      "0\n",
      "100 number  7  done\n",
      "Error occurred: current transaction is aborted, commands ignored until end of transaction block\n",
      "\n",
      "Error occurred: current transaction is aborted, commands ignored until end of transaction block\n",
      "\n",
      "Error occurred: current transaction is aborted, commands ignored until end of transaction block\n",
      "\n",
      "1\n",
      "100 number  8  done\n",
      "0\n",
      "100 number  9  done\n",
      "Error occurred: current transaction is aborted, commands ignored until end of transaction block\n",
      "\n",
      "Error occurred: current transaction is aborted, commands ignored until end of transaction block\n",
      "\n",
      "Error occurred: current transaction is aborted, commands ignored until end of transaction block\n",
      "\n",
      "Error occurred: current transaction is aborted, commands ignored until end of transaction block\n",
      "\n",
      "Error occurred: current transaction is aborted, commands ignored until end of transaction block\n",
      "\n",
      "1\n",
      "100 number  10  done\n"
     ]
    }
   ],
   "source": [
    "# wipe the db from DBeaver\n",
    "\n",
    "con = psycopg2.connect(database=\"iSupply\",\n",
    "                        host=\"38.180.117.52\",\n",
    "                        user=\"postgres\",\n",
    "                        password=\"deerRun\",\n",
    "                        port=\"5432\")\n",
    "cursor = con.cursor()\n",
    "\n",
    "for i in range(10): # first 10 hundreds\n",
    "    collisions = process_categories(df, cursor, con, (100*i), ((100*i)+100))\n",
    "    print(\"100 number \", (i+1) ,\" done\")\n",
    "    # print((100*i), ((100*i)+100))"
   ]
  },
  {
   "cell_type": "markdown",
   "metadata": {},
   "source": [
    "    Hm - a number of hiccups, but we have precisely 1000 entries, the last 10 being\n",
    "\n",
    "| Index | Item                           |\n",
    "|-------|--------------------------------|\n",
    "| 990   | Laboratory Bottle              |\n",
    "| 991   | Laboratory Centrifuge          |\n",
    "| 992   | Laboratory Clamp               |\n",
    "| 993   | Laboratory Cylinder            |\n",
    "| 994   | Laboratory Heating Equipments  |\n",
    "| 995   | Laboratory Refrigeration Equipments |\n",
    "| 996   | Laboratory Thermostatic Devices |\n",
    "| 997   | Other Lab Supplies             |\n",
    "| 998   | Petri Dish                     |\n",
    "| 999   | Pipette                        |\n",
    "| 1000  | Test Tube                      |\n",
    "\n",
    "now if we run the last 10 in Python:\n"
   ]
  },
  {
   "cell_type": "code",
   "execution_count": 27,
   "metadata": {},
   "outputs": [
    {
     "name": "stdout",
     "output_type": "stream",
     "text": [
      "      Ser                             combined\n",
      "989   990                    Laboratory Bottle\n",
      "990   991                Laboratory Centrifuge\n",
      "991   992                     Laboratory Clamp\n",
      "992   993                  Laboratory Cylinder\n",
      "993   994        Laboratory Heating Equipments\n",
      "994   995  Laboratory Refrigeration Equipments\n",
      "995   996      Laboratory Thermostatic Devices\n",
      "996   997                   Other Lab Supplies\n",
      "997   998                           Petri Dish\n",
      "998   999                              Pipette\n",
      "999  1000                            Test Tube\n"
     ]
    }
   ],
   "source": [
    "print(df.iloc[989:1000])"
   ]
  },
  {
   "cell_type": "markdown",
   "metadata": {},
   "source": [
    "    **Victory sound effect**\n",
    "\n",
    "    Could it be more smooth? of course - nobody likes error messages, but it works, lets try committing all before we begin the cleanup phase\n",
    "\n",
    "    So therefore: the final step now is to use this to commit our whole data to the DB"
   ]
  },
  {
   "cell_type": "code",
   "execution_count": 29,
   "metadata": {},
   "outputs": [
    {
     "name": "stdout",
     "output_type": "stream",
     "text": [
      "0\n",
      "100 number  1  done\n",
      "1\n",
      "100 number  2  done\n",
      "0\n",
      "100 number  3  done\n",
      "Error occurred: current transaction is aborted, commands ignored until end of transaction block\n",
      "\n",
      "1\n",
      "100 number  4  done\n",
      "0\n",
      "100 number  5  done\n",
      "Error occurred: current transaction is aborted, commands ignored until end of transaction block\n",
      "\n",
      "Error occurred: current transaction is aborted, commands ignored until end of transaction block\n",
      "\n",
      "Error occurred: current transaction is aborted, commands ignored until end of transaction block\n",
      "\n",
      "Error occurred: current transaction is aborted, commands ignored until end of transaction block\n",
      "\n",
      "Error occurred: current transaction is aborted, commands ignored until end of transaction block\n",
      "\n",
      "Error occurred: current transaction is aborted, commands ignored until end of transaction block\n",
      "\n",
      "Error occurred: current transaction is aborted, commands ignored until end of transaction block\n",
      "\n",
      "1\n",
      "100 number  6  done\n",
      "0\n",
      "100 number  7  done\n",
      "Error occurred: current transaction is aborted, commands ignored until end of transaction block\n",
      "\n",
      "Error occurred: current transaction is aborted, commands ignored until end of transaction block\n",
      "\n",
      "Error occurred: current transaction is aborted, commands ignored until end of transaction block\n",
      "\n",
      "1\n",
      "100 number  8  done\n",
      "0\n",
      "100 number  9  done\n",
      "Error occurred: current transaction is aborted, commands ignored until end of transaction block\n",
      "\n",
      "Error occurred: current transaction is aborted, commands ignored until end of transaction block\n",
      "\n",
      "Error occurred: current transaction is aborted, commands ignored until end of transaction block\n",
      "\n",
      "Error occurred: current transaction is aborted, commands ignored until end of transaction block\n",
      "\n",
      "Error occurred: current transaction is aborted, commands ignored until end of transaction block\n",
      "\n",
      "1\n",
      "100 number  10  done\n",
      "Error occurred: current transaction is aborted, commands ignored until end of transaction block\n",
      "\n",
      "Error occurred: current transaction is aborted, commands ignored until end of transaction block\n",
      "\n",
      "Error occurred: current transaction is aborted, commands ignored until end of transaction block\n",
      "\n",
      "2\n",
      "100 number  11  done\n",
      "0\n",
      "100 number  12  done\n",
      "0\n",
      "100 number  13  done\n",
      "Error occurred: current transaction is aborted, commands ignored until end of transaction block\n",
      "\n",
      "Error occurred: current transaction is aborted, commands ignored until end of transaction block\n",
      "\n",
      "Error occurred: current transaction is aborted, commands ignored until end of transaction block\n",
      "\n",
      "Error occurred: current transaction is aborted, commands ignored until end of transaction block\n",
      "\n",
      "Error occurred: current transaction is aborted, commands ignored until end of transaction block\n",
      "\n",
      "Error occurred: current transaction is aborted, commands ignored until end of transaction block\n",
      "\n",
      "Error occurred: current transaction is aborted, commands ignored until end of transaction block\n",
      "\n",
      "Error occurred: current transaction is aborted, commands ignored until end of transaction block\n",
      "\n",
      "Error occurred: current transaction is aborted, commands ignored until end of transaction block\n",
      "\n",
      "Error occurred: current transaction is aborted, commands ignored until end of transaction block\n",
      "\n",
      "Error occurred: current transaction is aborted, commands ignored until end of transaction block\n",
      "\n",
      "Error occurred: current transaction is aborted, commands ignored until end of transaction block\n",
      "\n",
      "Error occurred: current transaction is aborted, commands ignored until end of transaction block\n",
      "\n",
      "Error occurred: current transaction is aborted, commands ignored until end of transaction block\n",
      "\n",
      "2\n",
      "100 number  14  done\n",
      "Error occurred: current transaction is aborted, commands ignored until end of transaction block\n",
      "\n",
      "Error occurred: current transaction is aborted, commands ignored until end of transaction block\n",
      "\n",
      "Error occurred: current transaction is aborted, commands ignored until end of transaction block\n",
      "\n",
      "Error occurred: current transaction is aborted, commands ignored until end of transaction block\n",
      "\n",
      "Error occurred: current transaction is aborted, commands ignored until end of transaction block\n",
      "\n",
      "1\n",
      "100 number  15  done\n",
      "Error occurred: current transaction is aborted, commands ignored until end of transaction block\n",
      "\n",
      "Error occurred: current transaction is aborted, commands ignored until end of transaction block\n",
      "\n",
      "Error occurred: current transaction is aborted, commands ignored until end of transaction block\n",
      "\n",
      "Error occurred: current transaction is aborted, commands ignored until end of transaction block\n",
      "\n",
      "Error occurred: current transaction is aborted, commands ignored until end of transaction block\n",
      "\n",
      "Error occurred: current transaction is aborted, commands ignored until end of transaction block\n",
      "\n",
      "Error occurred: current transaction is aborted, commands ignored until end of transaction block\n",
      "\n",
      "Error occurred: current transaction is aborted, commands ignored until end of transaction block\n",
      "\n",
      "Error occurred: current transaction is aborted, commands ignored until end of transaction block\n",
      "\n",
      "Error occurred: current transaction is aborted, commands ignored until end of transaction block\n",
      "\n",
      "Error occurred: current transaction is aborted, commands ignored until end of transaction block\n",
      "\n",
      "Error occurred: current transaction is aborted, commands ignored until end of transaction block\n",
      "\n",
      "Error occurred: current transaction is aborted, commands ignored until end of transaction block\n",
      "\n",
      "Error occurred: current transaction is aborted, commands ignored until end of transaction block\n",
      "\n",
      "Error occurred: current transaction is aborted, commands ignored until end of transaction block\n",
      "\n",
      "Error occurred: current transaction is aborted, commands ignored until end of transaction block\n",
      "\n",
      "4\n",
      "100 number  16  done\n",
      "Error occurred: current transaction is aborted, commands ignored until end of transaction block\n",
      "\n",
      "Error occurred: current transaction is aborted, commands ignored until end of transaction block\n",
      "\n",
      "Error occurred: current transaction is aborted, commands ignored until end of transaction block\n",
      "\n",
      "Error occurred: current transaction is aborted, commands ignored until end of transaction block\n",
      "\n",
      "Error occurred: current transaction is aborted, commands ignored until end of transaction block\n",
      "\n",
      "Error occurred: current transaction is aborted, commands ignored until end of transaction block\n",
      "\n",
      "Error occurred: current transaction is aborted, commands ignored until end of transaction block\n",
      "\n",
      "1\n",
      "100 number  17  done\n",
      "0\n",
      "100 number  18  done\n",
      "Error occurred: current transaction is aborted, commands ignored until end of transaction block\n",
      "\n",
      "Error occurred: current transaction is aborted, commands ignored until end of transaction block\n",
      "\n",
      "Error occurred: current transaction is aborted, commands ignored until end of transaction block\n",
      "\n",
      "Error occurred: current transaction is aborted, commands ignored until end of transaction block\n",
      "\n",
      "Error occurred: current transaction is aborted, commands ignored until end of transaction block\n",
      "\n",
      "Error occurred: current transaction is aborted, commands ignored until end of transaction block\n",
      "\n",
      "Error occurred: current transaction is aborted, commands ignored until end of transaction block\n",
      "\n",
      "1\n",
      "100 number  19  done\n",
      "Error occurred: current transaction is aborted, commands ignored until end of transaction block\n",
      "\n",
      "Error occurred: current transaction is aborted, commands ignored until end of transaction block\n",
      "\n",
      "Error occurred: current transaction is aborted, commands ignored until end of transaction block\n",
      "\n",
      "Error occurred: current transaction is aborted, commands ignored until end of transaction block\n",
      "\n",
      "Error occurred: current transaction is aborted, commands ignored until end of transaction block\n",
      "\n",
      "Error occurred: current transaction is aborted, commands ignored until end of transaction block\n",
      "\n",
      "Error occurred: current transaction is aborted, commands ignored until end of transaction block\n",
      "\n",
      "Error occurred: current transaction is aborted, commands ignored until end of transaction block\n",
      "\n",
      "Error occurred: current transaction is aborted, commands ignored until end of transaction block\n",
      "\n",
      "2\n",
      "100 number  20  done\n",
      "Error occurred: current transaction is aborted, commands ignored until end of transaction block\n",
      "\n",
      "Error occurred: current transaction is aborted, commands ignored until end of transaction block\n",
      "\n",
      "Error occurred: current transaction is aborted, commands ignored until end of transaction block\n",
      "\n",
      "Error occurred: current transaction is aborted, commands ignored until end of transaction block\n",
      "\n",
      "Error occurred: current transaction is aborted, commands ignored until end of transaction block\n",
      "\n",
      "Error occurred: current transaction is aborted, commands ignored until end of transaction block\n",
      "\n",
      "Error occurred: current transaction is aborted, commands ignored until end of transaction block\n",
      "\n",
      "Error occurred: current transaction is aborted, commands ignored until end of transaction block\n",
      "\n",
      "Error occurred: current transaction is aborted, commands ignored until end of transaction block\n",
      "\n",
      "Error occurred: current transaction is aborted, commands ignored until end of transaction block\n",
      "\n",
      "Error occurred: current transaction is aborted, commands ignored until end of transaction block\n",
      "\n",
      "Error occurred: current transaction is aborted, commands ignored until end of transaction block\n",
      "\n",
      "Error occurred: current transaction is aborted, commands ignored until end of transaction block\n",
      "\n",
      "2\n",
      "100 number  21  done\n",
      "0\n",
      "100 number  22  done\n",
      "0\n",
      "100 number  23  done\n",
      "Error occurred: current transaction is aborted, commands ignored until end of transaction block\n",
      "\n",
      "Error occurred: current transaction is aborted, commands ignored until end of transaction block\n",
      "\n",
      "Error occurred: current transaction is aborted, commands ignored until end of transaction block\n",
      "\n",
      "Error occurred: current transaction is aborted, commands ignored until end of transaction block\n",
      "\n",
      "Error occurred: current transaction is aborted, commands ignored until end of transaction block\n",
      "\n",
      "Error occurred: current transaction is aborted, commands ignored until end of transaction block\n",
      "\n",
      "Error occurred: current transaction is aborted, commands ignored until end of transaction block\n",
      "\n",
      "Error occurred: current transaction is aborted, commands ignored until end of transaction block\n",
      "\n",
      "1\n",
      "100 number  24  done\n",
      "0\n",
      "100 number  25  done\n",
      "Error occurred: current transaction is aborted, commands ignored until end of transaction block\n",
      "\n",
      "Error occurred: current transaction is aborted, commands ignored until end of transaction block\n",
      "\n",
      "Error occurred: current transaction is aborted, commands ignored until end of transaction block\n",
      "\n",
      "Error occurred: current transaction is aborted, commands ignored until end of transaction block\n",
      "\n",
      "Error occurred: current transaction is aborted, commands ignored until end of transaction block\n",
      "\n",
      "Error occurred: current transaction is aborted, commands ignored until end of transaction block\n",
      "\n",
      "Error occurred: current transaction is aborted, commands ignored until end of transaction block\n",
      "\n",
      "Error occurred: current transaction is aborted, commands ignored until end of transaction block\n",
      "\n",
      "Error occurred: current transaction is aborted, commands ignored until end of transaction block\n",
      "\n",
      "Error occurred: current transaction is aborted, commands ignored until end of transaction block\n",
      "\n",
      "Error occurred: current transaction is aborted, commands ignored until end of transaction block\n",
      "\n",
      "Error occurred: current transaction is aborted, commands ignored until end of transaction block\n",
      "\n",
      "2\n",
      "100 number  26  done\n",
      "Error occurred: current transaction is aborted, commands ignored until end of transaction block\n",
      "\n",
      "Error occurred: current transaction is aborted, commands ignored until end of transaction block\n",
      "\n",
      "Error occurred: current transaction is aborted, commands ignored until end of transaction block\n",
      "\n",
      "Error occurred: current transaction is aborted, commands ignored until end of transaction block\n",
      "\n",
      "Error occurred: current transaction is aborted, commands ignored until end of transaction block\n",
      "\n",
      "Error occurred: current transaction is aborted, commands ignored until end of transaction block\n",
      "\n",
      "Error occurred: current transaction is aborted, commands ignored until end of transaction block\n",
      "\n",
      "Error occurred: current transaction is aborted, commands ignored until end of transaction block\n",
      "\n",
      "Error occurred: current transaction is aborted, commands ignored until end of transaction block\n",
      "\n",
      "Error occurred: current transaction is aborted, commands ignored until end of transaction block\n",
      "\n",
      "Error occurred: current transaction is aborted, commands ignored until end of transaction block\n",
      "\n",
      "Error occurred: current transaction is aborted, commands ignored until end of transaction block\n",
      "\n",
      "Error occurred: current transaction is aborted, commands ignored until end of transaction block\n",
      "\n",
      "Error occurred: current transaction is aborted, commands ignored until end of transaction block\n",
      "\n",
      "Error occurred: current transaction is aborted, commands ignored until end of transaction block\n",
      "\n",
      "Error occurred: current transaction is aborted, commands ignored until end of transaction block\n",
      "\n",
      "Error occurred: current transaction is aborted, commands ignored until end of transaction block\n",
      "\n",
      "Error occurred: current transaction is aborted, commands ignored until end of transaction block\n",
      "\n",
      "3\n",
      "100 number  27  done\n",
      "0\n",
      "100 number  28  done\n",
      "0\n",
      "100 number  29  done\n",
      "0\n",
      "100 number  30  done\n",
      "Error occurred: current transaction is aborted, commands ignored until end of transaction block\n",
      "\n",
      "Error occurred: current transaction is aborted, commands ignored until end of transaction block\n",
      "\n",
      "Error occurred: current transaction is aborted, commands ignored until end of transaction block\n",
      "\n",
      "Error occurred: current transaction is aborted, commands ignored until end of transaction block\n",
      "\n",
      "1\n",
      "100 number  31  done\n",
      "Error occurred: current transaction is aborted, commands ignored until end of transaction block\n",
      "\n",
      "Error occurred: current transaction is aborted, commands ignored until end of transaction block\n",
      "\n",
      "1\n",
      "100 number  32  done\n",
      "Error occurred: current transaction is aborted, commands ignored until end of transaction block\n",
      "\n",
      "Error occurred: current transaction is aborted, commands ignored until end of transaction block\n",
      "\n",
      "Error occurred: current transaction is aborted, commands ignored until end of transaction block\n",
      "\n",
      "Error occurred: current transaction is aborted, commands ignored until end of transaction block\n",
      "\n",
      "Error occurred: current transaction is aborted, commands ignored until end of transaction block\n",
      "\n",
      "Error occurred: current transaction is aborted, commands ignored until end of transaction block\n",
      "\n",
      "Error occurred: current transaction is aborted, commands ignored until end of transaction block\n",
      "\n",
      "2\n",
      "100 number  33  done\n",
      "Error occurred: current transaction is aborted, commands ignored until end of transaction block\n",
      "\n",
      "Error occurred: current transaction is aborted, commands ignored until end of transaction block\n",
      "\n",
      "Error occurred: current transaction is aborted, commands ignored until end of transaction block\n",
      "\n",
      "Error occurred: current transaction is aborted, commands ignored until end of transaction block\n",
      "\n",
      "Error occurred: current transaction is aborted, commands ignored until end of transaction block\n",
      "\n",
      "1\n",
      "100 number  34  done\n",
      "0\n",
      "100 number  35  done\n",
      "Error occurred: current transaction is aborted, commands ignored until end of transaction block\n",
      "\n",
      "Error occurred: current transaction is aborted, commands ignored until end of transaction block\n",
      "\n",
      "Error occurred: current transaction is aborted, commands ignored until end of transaction block\n",
      "\n",
      "Error occurred: current transaction is aborted, commands ignored until end of transaction block\n",
      "\n",
      "1\n",
      "100 number  36  done\n",
      "Error occurred: current transaction is aborted, commands ignored until end of transaction block\n",
      "\n",
      "Error occurred: current transaction is aborted, commands ignored until end of transaction block\n",
      "\n",
      "Error occurred: current transaction is aborted, commands ignored until end of transaction block\n",
      "\n",
      "Error occurred: current transaction is aborted, commands ignored until end of transaction block\n",
      "\n",
      "Error occurred: current transaction is aborted, commands ignored until end of transaction block\n",
      "\n",
      "Error occurred: current transaction is aborted, commands ignored until end of transaction block\n",
      "\n",
      "Error occurred: current transaction is aborted, commands ignored until end of transaction block\n",
      "\n",
      "Error occurred: current transaction is aborted, commands ignored until end of transaction block\n",
      "\n",
      "Error occurred: current transaction is aborted, commands ignored until end of transaction block\n",
      "\n",
      "Error occurred: current transaction is aborted, commands ignored until end of transaction block\n",
      "\n",
      "Error occurred: current transaction is aborted, commands ignored until end of transaction block\n",
      "\n",
      "Error occurred: current transaction is aborted, commands ignored until end of transaction block\n",
      "\n",
      "2\n",
      "100 number  37  done\n",
      "Error occurred: current transaction is aborted, commands ignored until end of transaction block\n",
      "\n",
      "Error occurred: current transaction is aborted, commands ignored until end of transaction block\n",
      "\n",
      "Error occurred: current transaction is aborted, commands ignored until end of transaction block\n",
      "\n",
      "Error occurred: current transaction is aborted, commands ignored until end of transaction block\n",
      "\n",
      "Error occurred: current transaction is aborted, commands ignored until end of transaction block\n",
      "\n",
      "Error occurred: current transaction is aborted, commands ignored until end of transaction block\n",
      "\n",
      "Error occurred: current transaction is aborted, commands ignored until end of transaction block\n",
      "\n",
      "Error occurred: current transaction is aborted, commands ignored until end of transaction block\n",
      "\n",
      "Error occurred: current transaction is aborted, commands ignored until end of transaction block\n",
      "\n",
      "1\n",
      "100 number  38  done\n",
      "Error occurred: current transaction is aborted, commands ignored until end of transaction block\n",
      "\n",
      "Error occurred: current transaction is aborted, commands ignored until end of transaction block\n",
      "\n",
      "Error occurred: current transaction is aborted, commands ignored until end of transaction block\n",
      "\n",
      "Error occurred: current transaction is aborted, commands ignored until end of transaction block\n",
      "\n",
      "Error occurred: current transaction is aborted, commands ignored until end of transaction block\n",
      "\n",
      "2\n",
      "100 number  39  done\n",
      "Error occurred: current transaction is aborted, commands ignored until end of transaction block\n",
      "\n",
      "Error occurred: current transaction is aborted, commands ignored until end of transaction block\n",
      "\n",
      "Error occurred: current transaction is aborted, commands ignored until end of transaction block\n",
      "\n",
      "Error occurred: current transaction is aborted, commands ignored until end of transaction block\n",
      "\n",
      "Error occurred: current transaction is aborted, commands ignored until end of transaction block\n",
      "\n",
      "Error occurred: current transaction is aborted, commands ignored until end of transaction block\n",
      "\n",
      "1\n",
      "100 number  40  done\n",
      "Error occurred: current transaction is aborted, commands ignored until end of transaction block\n",
      "\n",
      "Error occurred: current transaction is aborted, commands ignored until end of transaction block\n",
      "\n",
      "Error occurred: current transaction is aborted, commands ignored until end of transaction block\n",
      "\n",
      "1\n",
      "100 number  41  done\n",
      "Error occurred: current transaction is aborted, commands ignored until end of transaction block\n",
      "\n",
      "Error occurred: current transaction is aborted, commands ignored until end of transaction block\n",
      "\n",
      "Error occurred: current transaction is aborted, commands ignored until end of transaction block\n",
      "\n",
      "Error occurred: current transaction is aborted, commands ignored until end of transaction block\n",
      "\n",
      "Error occurred: current transaction is aborted, commands ignored until end of transaction block\n",
      "\n",
      "1\n",
      "100 number  42  done\n",
      "Error occurred: current transaction is aborted, commands ignored until end of transaction block\n",
      "\n",
      "Error occurred: current transaction is aborted, commands ignored until end of transaction block\n",
      "\n",
      "Error occurred: current transaction is aborted, commands ignored until end of transaction block\n",
      "\n",
      "1\n",
      "100 number  43  done\n",
      "Error occurred: current transaction is aborted, commands ignored until end of transaction block\n",
      "\n",
      "Error occurred: current transaction is aborted, commands ignored until end of transaction block\n",
      "\n",
      "Error occurred: current transaction is aborted, commands ignored until end of transaction block\n",
      "\n",
      "Error occurred: current transaction is aborted, commands ignored until end of transaction block\n",
      "\n",
      "Error occurred: current transaction is aborted, commands ignored until end of transaction block\n",
      "\n",
      "Error occurred: current transaction is aborted, commands ignored until end of transaction block\n",
      "\n",
      "Error occurred: current transaction is aborted, commands ignored until end of transaction block\n",
      "\n",
      "1\n",
      "100 number  44  done\n",
      "Error occurred: current transaction is aborted, commands ignored until end of transaction block\n",
      "\n",
      "Error occurred: current transaction is aborted, commands ignored until end of transaction block\n",
      "\n",
      "Error occurred: current transaction is aborted, commands ignored until end of transaction block\n",
      "\n",
      "Error occurred: current transaction is aborted, commands ignored until end of transaction block\n",
      "\n",
      "Error occurred: current transaction is aborted, commands ignored until end of transaction block\n",
      "\n",
      "Error occurred: current transaction is aborted, commands ignored until end of transaction block\n",
      "\n",
      "Error occurred: current transaction is aborted, commands ignored until end of transaction block\n",
      "\n",
      "Error occurred: current transaction is aborted, commands ignored until end of transaction block\n",
      "\n",
      "Error occurred: current transaction is aborted, commands ignored until end of transaction block\n",
      "\n",
      "Error occurred: current transaction is aborted, commands ignored until end of transaction block\n",
      "\n",
      "Error occurred: current transaction is aborted, commands ignored until end of transaction block\n",
      "\n",
      "Error occurred: current transaction is aborted, commands ignored until end of transaction block\n",
      "\n",
      "Error occurred: current transaction is aborted, commands ignored until end of transaction block\n",
      "\n",
      "Error occurred: current transaction is aborted, commands ignored until end of transaction block\n",
      "\n",
      "2\n",
      "100 number  45  done\n"
     ]
    },
    {
     "ename": "KeyError",
     "evalue": "4596",
     "output_type": "error",
     "traceback": [
      "\u001b[1;31m---------------------------------------------------------------------------\u001b[0m",
      "\u001b[1;31mValueError\u001b[0m                                Traceback (most recent call last)",
      "File \u001b[1;32m~\\AppData\\Local\\Packages\\PythonSoftwareFoundation.Python.3.12_qbz5n2kfra8p0\\LocalCache\\local-packages\\Python312\\site-packages\\pandas\\core\\indexes\\range.py:414\u001b[0m, in \u001b[0;36mRangeIndex.get_loc\u001b[1;34m(self, key)\u001b[0m\n\u001b[0;32m    413\u001b[0m \u001b[38;5;28;01mtry\u001b[39;00m:\n\u001b[1;32m--> 414\u001b[0m     \u001b[38;5;28;01mreturn\u001b[39;00m \u001b[38;5;28;43mself\u001b[39;49m\u001b[38;5;241;43m.\u001b[39;49m\u001b[43m_range\u001b[49m\u001b[38;5;241;43m.\u001b[39;49m\u001b[43mindex\u001b[49m\u001b[43m(\u001b[49m\u001b[43mnew_key\u001b[49m\u001b[43m)\u001b[49m\n\u001b[0;32m    415\u001b[0m \u001b[38;5;28;01mexcept\u001b[39;00m \u001b[38;5;167;01mValueError\u001b[39;00m \u001b[38;5;28;01mas\u001b[39;00m err:\n",
      "\u001b[1;31mValueError\u001b[0m: 4596 is not in range",
      "\nThe above exception was the direct cause of the following exception:\n",
      "\u001b[1;31mKeyError\u001b[0m                                  Traceback (most recent call last)",
      "Cell \u001b[1;32mIn[29], line 11\u001b[0m\n\u001b[0;32m      8\u001b[0m cursor \u001b[38;5;241m=\u001b[39m con\u001b[38;5;241m.\u001b[39mcursor()\n\u001b[0;32m     10\u001b[0m \u001b[38;5;28;01mfor\u001b[39;00m i \u001b[38;5;129;01min\u001b[39;00m \u001b[38;5;28mrange\u001b[39m(\u001b[38;5;241m46\u001b[39m): \u001b[38;5;66;03m# first 46 hundreds - should do it, but 15 mins seems like an issue - but lets buckle up none the less\u001b[39;00m\n\u001b[1;32m---> 11\u001b[0m     collisions \u001b[38;5;241m=\u001b[39m \u001b[43mprocess_categories\u001b[49m\u001b[43m(\u001b[49m\u001b[43mdf\u001b[49m\u001b[43m,\u001b[49m\u001b[43m \u001b[49m\u001b[43mcursor\u001b[49m\u001b[43m,\u001b[49m\u001b[43m \u001b[49m\u001b[43mcon\u001b[49m\u001b[43m,\u001b[49m\u001b[43m \u001b[49m\u001b[43m(\u001b[49m\u001b[38;5;241;43m100\u001b[39;49m\u001b[38;5;241;43m*\u001b[39;49m\u001b[43mi\u001b[49m\u001b[43m)\u001b[49m\u001b[43m,\u001b[49m\u001b[43m \u001b[49m\u001b[43m(\u001b[49m\u001b[43m(\u001b[49m\u001b[38;5;241;43m100\u001b[39;49m\u001b[38;5;241;43m*\u001b[39;49m\u001b[43mi\u001b[49m\u001b[43m)\u001b[49m\u001b[38;5;241;43m+\u001b[39;49m\u001b[38;5;241;43m100\u001b[39;49m\u001b[43m)\u001b[49m\u001b[43m)\u001b[49m\n\u001b[0;32m     12\u001b[0m     \u001b[38;5;28mprint\u001b[39m(\u001b[38;5;124m\"\u001b[39m\u001b[38;5;124m100 number \u001b[39m\u001b[38;5;124m\"\u001b[39m, (i\u001b[38;5;241m+\u001b[39m\u001b[38;5;241m1\u001b[39m) ,\u001b[38;5;124m\"\u001b[39m\u001b[38;5;124m done\u001b[39m\u001b[38;5;124m\"\u001b[39m)\n\u001b[0;32m     13\u001b[0m     \u001b[38;5;66;03m# print((100*i), ((100*i)+100))\u001b[39;00m\n",
      "Cell \u001b[1;32mIn[14], line 10\u001b[0m, in \u001b[0;36mprocess_categories\u001b[1;34m(df, cursor, con, start, end)\u001b[0m\n\u001b[0;32m      7\u001b[0m listOfCollisions \u001b[38;5;241m=\u001b[39m []; j \u001b[38;5;241m=\u001b[39m \u001b[38;5;241m0\u001b[39m\n\u001b[0;32m      9\u001b[0m \u001b[38;5;28;01mfor\u001b[39;00m i \u001b[38;5;129;01min\u001b[39;00m \u001b[38;5;28mrange\u001b[39m(start, end):\n\u001b[1;32m---> 10\u001b[0m     name, num \u001b[38;5;241m=\u001b[39m \u001b[43mget_category_subcategory\u001b[49m\u001b[43m(\u001b[49m\u001b[43mdf\u001b[49m\u001b[43m,\u001b[49m\u001b[43m \u001b[49m\u001b[43mi\u001b[49m\u001b[43m)\u001b[49m; num \u001b[38;5;241m=\u001b[39m \u001b[38;5;28mstr\u001b[39m(num)\n\u001b[0;32m     12\u001b[0m     \u001b[38;5;28;01mtry\u001b[39;00m:\n\u001b[0;32m     13\u001b[0m         cursor\u001b[38;5;241m.\u001b[39mexecute(\u001b[38;5;124m\"\"\"\u001b[39m\u001b[38;5;124mINSERT INTO \u001b[39m\u001b[38;5;124m\"\u001b[39m\u001b[38;5;124mCategories\u001b[39m\u001b[38;5;124m\"\u001b[39m\u001b[38;5;124m (category_id, category) VALUES (\u001b[39m\u001b[38;5;132;01m%s\u001b[39;00m\u001b[38;5;124m, \u001b[39m\u001b[38;5;132;01m%s\u001b[39;00m\u001b[38;5;124m)\u001b[39m\u001b[38;5;124m\"\"\"\u001b[39m, (num, name))\n",
      "Cell \u001b[1;32mIn[14], line 2\u001b[0m, in \u001b[0;36mget_category_subcategory\u001b[1;34m(df, index)\u001b[0m\n\u001b[0;32m      1\u001b[0m \u001b[38;5;28;01mdef\u001b[39;00m \u001b[38;5;21mget_category_subcategory\u001b[39m(df, index):\n\u001b[1;32m----> 2\u001b[0m     num \u001b[38;5;241m=\u001b[39m \u001b[43mdf\u001b[49m\u001b[38;5;241;43m.\u001b[39;49m\u001b[43mloc\u001b[49m\u001b[43m[\u001b[49m\u001b[43mindex\u001b[49m\u001b[43m,\u001b[49m\u001b[43m \u001b[49m\u001b[38;5;124;43m'\u001b[39;49m\u001b[38;5;124;43mSer\u001b[39;49m\u001b[38;5;124;43m'\u001b[39;49m\u001b[43m]\u001b[49m\n\u001b[0;32m      3\u001b[0m     name \u001b[38;5;241m=\u001b[39m df\u001b[38;5;241m.\u001b[39mloc[index, \u001b[38;5;124m'\u001b[39m\u001b[38;5;124mcombined\u001b[39m\u001b[38;5;124m'\u001b[39m]\n\u001b[0;32m      4\u001b[0m     \u001b[38;5;28;01mreturn\u001b[39;00m name, num\n",
      "File \u001b[1;32m~\\AppData\\Local\\Packages\\PythonSoftwareFoundation.Python.3.12_qbz5n2kfra8p0\\LocalCache\\local-packages\\Python312\\site-packages\\pandas\\core\\indexing.py:1146\u001b[0m, in \u001b[0;36m_LocationIndexer.__getitem__\u001b[1;34m(self, key)\u001b[0m\n\u001b[0;32m   1144\u001b[0m     key \u001b[38;5;241m=\u001b[39m \u001b[38;5;28mtuple\u001b[39m(com\u001b[38;5;241m.\u001b[39mapply_if_callable(x, \u001b[38;5;28mself\u001b[39m\u001b[38;5;241m.\u001b[39mobj) \u001b[38;5;28;01mfor\u001b[39;00m x \u001b[38;5;129;01min\u001b[39;00m key)\n\u001b[0;32m   1145\u001b[0m     \u001b[38;5;28;01mif\u001b[39;00m \u001b[38;5;28mself\u001b[39m\u001b[38;5;241m.\u001b[39m_is_scalar_access(key):\n\u001b[1;32m-> 1146\u001b[0m         \u001b[38;5;28;01mreturn\u001b[39;00m \u001b[38;5;28;43mself\u001b[39;49m\u001b[38;5;241;43m.\u001b[39;49m\u001b[43mobj\u001b[49m\u001b[38;5;241;43m.\u001b[39;49m\u001b[43m_get_value\u001b[49m\u001b[43m(\u001b[49m\u001b[38;5;241;43m*\u001b[39;49m\u001b[43mkey\u001b[49m\u001b[43m,\u001b[49m\u001b[43m \u001b[49m\u001b[43mtakeable\u001b[49m\u001b[38;5;241;43m=\u001b[39;49m\u001b[38;5;28;43mself\u001b[39;49m\u001b[38;5;241;43m.\u001b[39;49m\u001b[43m_takeable\u001b[49m\u001b[43m)\u001b[49m\n\u001b[0;32m   1147\u001b[0m     \u001b[38;5;28;01mreturn\u001b[39;00m \u001b[38;5;28mself\u001b[39m\u001b[38;5;241m.\u001b[39m_getitem_tuple(key)\n\u001b[0;32m   1148\u001b[0m \u001b[38;5;28;01melse\u001b[39;00m:\n\u001b[0;32m   1149\u001b[0m     \u001b[38;5;66;03m# we by definition only have the 0th axis\u001b[39;00m\n",
      "File \u001b[1;32m~\\AppData\\Local\\Packages\\PythonSoftwareFoundation.Python.3.12_qbz5n2kfra8p0\\LocalCache\\local-packages\\Python312\\site-packages\\pandas\\core\\frame.py:4012\u001b[0m, in \u001b[0;36mDataFrame._get_value\u001b[1;34m(self, index, col, takeable)\u001b[0m\n\u001b[0;32m   4006\u001b[0m engine \u001b[38;5;241m=\u001b[39m \u001b[38;5;28mself\u001b[39m\u001b[38;5;241m.\u001b[39mindex\u001b[38;5;241m.\u001b[39m_engine\n\u001b[0;32m   4008\u001b[0m \u001b[38;5;28;01mif\u001b[39;00m \u001b[38;5;129;01mnot\u001b[39;00m \u001b[38;5;28misinstance\u001b[39m(\u001b[38;5;28mself\u001b[39m\u001b[38;5;241m.\u001b[39mindex, MultiIndex):\n\u001b[0;32m   4009\u001b[0m     \u001b[38;5;66;03m# CategoricalIndex: Trying to use the engine fastpath may give incorrect\u001b[39;00m\n\u001b[0;32m   4010\u001b[0m     \u001b[38;5;66;03m#  results if our categories are integers that dont match our codes\u001b[39;00m\n\u001b[0;32m   4011\u001b[0m     \u001b[38;5;66;03m# IntervalIndex: IntervalTree has no get_loc\u001b[39;00m\n\u001b[1;32m-> 4012\u001b[0m     row \u001b[38;5;241m=\u001b[39m \u001b[38;5;28;43mself\u001b[39;49m\u001b[38;5;241;43m.\u001b[39;49m\u001b[43mindex\u001b[49m\u001b[38;5;241;43m.\u001b[39;49m\u001b[43mget_loc\u001b[49m\u001b[43m(\u001b[49m\u001b[43mindex\u001b[49m\u001b[43m)\u001b[49m\n\u001b[0;32m   4013\u001b[0m     \u001b[38;5;28;01mreturn\u001b[39;00m series\u001b[38;5;241m.\u001b[39m_values[row]\n\u001b[0;32m   4015\u001b[0m \u001b[38;5;66;03m# For MultiIndex going through engine effectively restricts us to\u001b[39;00m\n\u001b[0;32m   4016\u001b[0m \u001b[38;5;66;03m#  same-length tuples; see test_get_set_value_no_partial_indexing\u001b[39;00m\n",
      "File \u001b[1;32m~\\AppData\\Local\\Packages\\PythonSoftwareFoundation.Python.3.12_qbz5n2kfra8p0\\LocalCache\\local-packages\\Python312\\site-packages\\pandas\\core\\indexes\\range.py:416\u001b[0m, in \u001b[0;36mRangeIndex.get_loc\u001b[1;34m(self, key)\u001b[0m\n\u001b[0;32m    414\u001b[0m         \u001b[38;5;28;01mreturn\u001b[39;00m \u001b[38;5;28mself\u001b[39m\u001b[38;5;241m.\u001b[39m_range\u001b[38;5;241m.\u001b[39mindex(new_key)\n\u001b[0;32m    415\u001b[0m     \u001b[38;5;28;01mexcept\u001b[39;00m \u001b[38;5;167;01mValueError\u001b[39;00m \u001b[38;5;28;01mas\u001b[39;00m err:\n\u001b[1;32m--> 416\u001b[0m         \u001b[38;5;28;01mraise\u001b[39;00m \u001b[38;5;167;01mKeyError\u001b[39;00m(key) \u001b[38;5;28;01mfrom\u001b[39;00m \u001b[38;5;21;01merr\u001b[39;00m\n\u001b[0;32m    417\u001b[0m \u001b[38;5;28;01mif\u001b[39;00m \u001b[38;5;28misinstance\u001b[39m(key, Hashable):\n\u001b[0;32m    418\u001b[0m     \u001b[38;5;28;01mraise\u001b[39;00m \u001b[38;5;167;01mKeyError\u001b[39;00m(key)\n",
      "\u001b[1;31mKeyError\u001b[0m: 4596"
     ]
    }
   ],
   "source": [
    "# wipe the db from DBeaver\n",
    "\n",
    "con = psycopg2.connect(database=\"iSupply\",\n",
    "                        host=\"38.180.117.52\",\n",
    "                        user=\"postgres\",\n",
    "                        password=\"deerRun\",\n",
    "                        port=\"5432\")\n",
    "cursor = con.cursor()\n",
    "\n",
    "for i in range(46): # first 46 hundreds - should do it, but 15 mins seems like an issue - but lets buckle up none the less\n",
    "    collisions = process_categories(df, cursor, con, (100*i), ((100*i)+100))\n",
    "    print(\"100 number \", (i+1) ,\" done\")\n",
    "    # print((100*i), ((100*i)+100))"
   ]
  },
  {
   "cell_type": "markdown",
   "metadata": {},
   "source": [
    "    "
   ]
  },
  {
   "cell_type": "code",
   "execution_count": 78,
   "metadata": {},
   "outputs": [],
   "source": [
    "cursor.close()\n",
    "con.close()"
   ]
  },
  {
   "cell_type": "code",
   "execution_count": 57,
   "metadata": {},
   "outputs": [
    {
     "name": "stdout",
     "output_type": "stream",
     "text": [
      "[(3, 'food2'), (4, 'food'), (6, 'food9'), (8, 'food99'), (22, 'food999'), (398, 'Agriculture'), (399, 'Agricultural Equipment'), (400, 'Agricultural Greenhouses'), (401, 'Aquaculture Equipment'), (402, 'Aquaculture Trap'), (403, 'Fishing Float'), (404, 'Fishing Net'), (405, 'Fishing Rope'), (406, 'Other Aquaculture Equipment'), (407, 'Ear Tag')]\n"
     ]
    }
   ],
   "source": [
    "# cursor.execute(\"\"\"select * from \"Categories\" c\"\"\")\n",
    "# print(cursor.fetchall())"
   ]
  },
  {
   "cell_type": "code",
   "execution_count": 18,
   "metadata": {},
   "outputs": [],
   "source": [
    "# print(df.iloc[300:351]) # I thought the issue was in the dataset, this piece of code was to inspect"
   ]
  },
  {
   "cell_type": "code",
   "execution_count": null,
   "metadata": {},
   "outputs": [],
   "source": [
    "# Ser = []; Cat = []; SCat = []; SSCat = []; SSSCat = []\n",
    "\n",
    "# for i in dfp:\n",
    "#     Ser.append(dfp['Ser'])\n",
    "#     Cat.append(dfp['Category'])\n",
    "#     SCat.append(dfp['SubCategory'])\n",
    "#     SSCat.append(dfp['SubSubCategory'])\n",
    "#     SSSCat.append(dfp['SubSubSubCategory'])\n",
    "\n",
    "# Ser; # Cat; # SCat; # SSCat; # SSSCat\n"
   ]
  }
 ],
 "metadata": {
  "kernelspec": {
   "display_name": "Python 3",
   "language": "python",
   "name": "python3"
  },
  "language_info": {
   "codemirror_mode": {
    "name": "ipython",
    "version": 3
   },
   "file_extension": ".py",
   "mimetype": "text/x-python",
   "name": "python",
   "nbconvert_exporter": "python",
   "pygments_lexer": "ipython3",
   "version": "3.12.3"
  }
 },
 "nbformat": 4,
 "nbformat_minor": 2
}
