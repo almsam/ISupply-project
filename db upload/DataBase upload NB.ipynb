{
 "cells": [
  {
   "cell_type": "markdown",
   "metadata": {},
   "source": [
    "# Uploading our stuff\n",
    "\n",
    "    First, lets import our python toolbox and the data"
   ]
  },
  {
   "cell_type": "code",
   "execution_count": 1,
   "metadata": {},
   "outputs": [],
   "source": [
    "import pandas as pd\n",
    "import psycopg2"
   ]
  },
  {
   "cell_type": "code",
   "execution_count": 2,
   "metadata": {},
   "outputs": [
    {
     "name": "stdout",
     "output_type": "stream",
     "text": [
      "   Ser     Category             SubCategory         SubSubCategory  \\\n",
      "0    5  Agriculture  Agricultural Equipment  Aquaculture Equipment   \n",
      "1    6  Agriculture  Agricultural Equipment  Aquaculture Equipment   \n",
      "2    7  Agriculture  Agricultural Equipment  Aquaculture Equipment   \n",
      "3    8  Agriculture  Agricultural Equipment  Aquaculture Equipment   \n",
      "4    9  Agriculture  Agricultural Equipment  Aquaculture Equipment   \n",
      "\n",
      "             SubSubSubCategory  \n",
      "0             Aquaculture Trap  \n",
      "1                Fishing Float  \n",
      "2                  Fishing Net  \n",
      "3                 Fishing Rope  \n",
      "4  Other Aquaculture Equipment  \n"
     ]
    }
   ],
   "source": [
    "dfip = pd.read_excel('InPerfectOutput.xlsx')\n",
    "print(dfip.head())"
   ]
  },
  {
   "cell_type": "code",
   "execution_count": 3,
   "metadata": {},
   "outputs": [
    {
     "name": "stdout",
     "output_type": "stream",
     "text": [
      "   Ser     Category             SubCategory            SubSubCategory  \\\n",
      "0    3  Agriculture  Agricultural Equipment  Agricultural Greenhouses   \n",
      "1    4  Agriculture  Agricultural Equipment     Aquaculture Equipment   \n",
      "2    5  Agriculture  Agricultural Equipment     Aquaculture Equipment   \n",
      "3    6  Agriculture  Agricultural Equipment     Aquaculture Equipment   \n",
      "4    7  Agriculture  Agricultural Equipment     Aquaculture Equipment   \n",
      "\n",
      "  SubSubSubCategory  \n",
      "0               NaN  \n",
      "1               NaN  \n",
      "2  Aquaculture Trap  \n",
      "3     Fishing Float  \n",
      "4       Fishing Net  \n"
     ]
    }
   ],
   "source": [
    "dfp = pd.read_excel('PerfectOutput.xlsx')\n",
    "print(dfp.head())"
   ]
  },
  {
   "cell_type": "code",
   "execution_count": 12,
   "metadata": {},
   "outputs": [],
   "source": [
    "con = psycopg2.connect(database=\"iSupply\",\n",
    "                        host=\"38.180.117.52\",\n",
    "                        user=\"postgres\",\n",
    "                        password=\"deerRun\",\n",
    "                        port=\"5432\")\n",
    "cursor = con.cursor()"
   ]
  },
  {
   "cell_type": "code",
   "execution_count": 13,
   "metadata": {},
   "outputs": [],
   "source": [
    "# select * from \"Categories\" c;\n",
    "# insert into \"Categories\" (category) values ('food');\n",
    "\n",
    "cursor.execute(\"\"\"select * from \"Categories\" c\"\"\")\n",
    "cursor.execute(\"\"\"insert into \"Categories\" (category) values ('food but with py again this time')\"\"\")\n"
   ]
  },
  {
   "cell_type": "markdown",
   "metadata": {},
   "source": [
    "    Read from DB to test"
   ]
  },
  {
   "cell_type": "code",
   "execution_count": 16,
   "metadata": {},
   "outputs": [
    {
     "ename": "ProgrammingError",
     "evalue": "no results to fetch",
     "output_type": "error",
     "traceback": [
      "\u001b[1;31m---------------------------------------------------------------------------\u001b[0m",
      "\u001b[1;31mProgrammingError\u001b[0m                          Traceback (most recent call last)",
      "Cell \u001b[1;32mIn[16], line 1\u001b[0m\n\u001b[1;32m----> 1\u001b[0m \u001b[38;5;28mprint\u001b[39m(\u001b[43mcursor\u001b[49m\u001b[38;5;241;43m.\u001b[39;49m\u001b[43mfetchall\u001b[49m\u001b[43m(\u001b[49m\u001b[43m)\u001b[49m)\n",
      "\u001b[1;31mProgrammingError\u001b[0m: no results to fetch"
     ]
    }
   ],
   "source": [
    "print(cursor.fetchall())"
   ]
  },
  {
   "cell_type": "markdown",
   "metadata": {},
   "source": [
    "    now lets make a skeleton for the next step:"
   ]
  },
  {
   "cell_type": "code",
   "execution_count": 6,
   "metadata": {},
   "outputs": [],
   "source": [
    "Ser = []; Cat = []; SCat = []; SSCat = []; SSSCat = []\n",
    "\n",
    "for i in dfp:\n",
    "    Ser.append(dfp['Ser'])\n",
    "    Cat.append(dfp['Category'])\n",
    "    SCat.append(dfp['SubCategory'])\n",
    "    SSCat.append(dfp['SubSubCategory'])\n",
    "    SSSCat.append(dfp['SubSubSubCategory'])"
   ]
  },
  {
   "cell_type": "code",
   "execution_count": 26,
   "metadata": {},
   "outputs": [],
   "source": [
    "# Ser; # Cat; # SCat; # SSCat; # SSSCat\n"
   ]
  },
  {
   "cell_type": "markdown",
   "metadata": {},
   "source": [
    "    & the final step is to use this to commit our data to the DB"
   ]
  },
  {
   "cell_type": "code",
   "execution_count": 42,
   "metadata": {},
   "outputs": [
    {
     "name": "stdout",
     "output_type": "stream",
     "text": [
      "f\n",
      "f\n",
      "f\n",
      "f\n",
      "f\n"
     ]
    }
   ],
   "source": [
    "len = dfip.size\n",
    "\n",
    "for i in dfp:\n",
    "    print(\"f\")\n",
    "\n"
   ]
  }
 ],
 "metadata": {
  "kernelspec": {
   "display_name": "Python 3",
   "language": "python",
   "name": "python3"
  },
  "language_info": {
   "codemirror_mode": {
    "name": "ipython",
    "version": 3
   },
   "file_extension": ".py",
   "mimetype": "text/x-python",
   "name": "python",
   "nbconvert_exporter": "python",
   "pygments_lexer": "ipython3",
   "version": "3.12.3"
  }
 },
 "nbformat": 4,
 "nbformat_minor": 2
}
