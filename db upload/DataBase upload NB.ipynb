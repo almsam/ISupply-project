{
 "cells": [
  {
   "cell_type": "markdown",
   "metadata": {},
   "source": [
    "# Uploading our stuff\n",
    "\n",
    "    First, lets import our python toolbox and the data"
   ]
  },
  {
   "cell_type": "code",
   "execution_count": 2,
   "metadata": {},
   "outputs": [],
   "source": [
    "import pandas as pd\n",
    "import psycopg2"
   ]
  },
  {
   "cell_type": "code",
   "execution_count": 39,
   "metadata": {},
   "outputs": [
    {
     "name": "stdout",
     "output_type": "stream",
     "text": [
      "   Ser     Category             SubCategory         SubSubCategory  \\\n",
      "0    5  Agriculture  Agricultural Equipment  Aquaculture Equipment   \n",
      "1    6  Agriculture  Agricultural Equipment  Aquaculture Equipment   \n",
      "2    7  Agriculture  Agricultural Equipment  Aquaculture Equipment   \n",
      "3    8  Agriculture  Agricultural Equipment  Aquaculture Equipment   \n",
      "4    9  Agriculture  Agricultural Equipment  Aquaculture Equipment   \n",
      "\n",
      "             SubSubSubCategory  \n",
      "0             Aquaculture Trap  \n",
      "1                Fishing Float  \n",
      "2                  Fishing Net  \n",
      "3                 Fishing Rope  \n",
      "4  Other Aquaculture Equipment  \n"
     ]
    }
   ],
   "source": [
    "dfip = pd.read_excel('InPerfectOutput.xlsx')\n",
    "print(dfip.head())"
   ]
  },
  {
   "cell_type": "code",
   "execution_count": 40,
   "metadata": {},
   "outputs": [
    {
     "name": "stdout",
     "output_type": "stream",
     "text": [
      "   Ser     Category             SubCategory            SubSubCategory  \\\n",
      "0    3  Agriculture  Agricultural Equipment  Agricultural Greenhouses   \n",
      "1    4  Agriculture  Agricultural Equipment     Aquaculture Equipment   \n",
      "2    5  Agriculture  Agricultural Equipment     Aquaculture Equipment   \n",
      "3    6  Agriculture  Agricultural Equipment     Aquaculture Equipment   \n",
      "4    7  Agriculture  Agricultural Equipment     Aquaculture Equipment   \n",
      "\n",
      "  SubSubSubCategory  \n",
      "0               NaN  \n",
      "1               NaN  \n",
      "2  Aquaculture Trap  \n",
      "3     Fishing Float  \n",
      "4       Fishing Net  \n"
     ]
    }
   ],
   "source": [
    "dfp = pd.read_excel('PerfectOutput.xlsx')\n",
    "print(dfp.head())"
   ]
  },
  {
   "cell_type": "code",
   "execution_count": 42,
   "metadata": {},
   "outputs": [
    {
     "name": "stdout",
     "output_type": "stream",
     "text": [
      "                   category               subcategory\n",
      "0               Agriculture    Agricultural Equipment\n",
      "1    Agricultural Equipment  Agricultural Greenhouses\n",
      "2  Agricultural Greenhouses                       NaN\n",
      "3               Agriculture    Agricultural Equipment\n",
      "4    Agricultural Equipment     Aquaculture Equipment\n"
     ]
    }
   ],
   "source": [
    "dfSlim = pd.read_excel('slimTree.xlsx')\n",
    "print(dfSlim.head())"
   ]
  },
  {
   "cell_type": "code",
   "execution_count": 96,
   "metadata": {},
   "outputs": [],
   "source": [
    "con = psycopg2.connect(database=\"iSupply\",\n",
    "                        host=\"38.180.117.52\",\n",
    "                        user=\"postgres\",\n",
    "                        password=\"deerRun\",\n",
    "                        port=\"5432\")\n",
    "cursor = con.cursor()"
   ]
  },
  {
   "cell_type": "code",
   "execution_count": 55,
   "metadata": {},
   "outputs": [],
   "source": [
    "# select * from \"Categories\" c;\n",
    "# insert into \"Categories\" (category) values ('food');\n",
    "\n",
    "cursor.execute(\"\"\"select * from \"Categories\" c\"\"\")\n",
    "cursor.execute(\"\"\"insert into \"Categories\" (category) values ('food but with py again this time')\"\"\")\n"
   ]
  },
  {
   "cell_type": "markdown",
   "metadata": {},
   "source": [
    "    Read from DB to test"
   ]
  },
  {
   "cell_type": "code",
   "execution_count": 56,
   "metadata": {},
   "outputs": [
    {
     "name": "stdout",
     "output_type": "stream",
     "text": [
      "[(3, 'food2'), (4, 'food'), (6, 'food9'), (8, 'food99'), (27, 'food but with py again this time')]\n"
     ]
    }
   ],
   "source": [
    "cursor.execute(\"\"\"select * from \"Categories\" c\"\"\")\n",
    "\n",
    "print(cursor.fetchall())"
   ]
  },
  {
   "cell_type": "markdown",
   "metadata": {},
   "source": [
    "    Due to a few issues, lets unit test this again"
   ]
  },
  {
   "cell_type": "code",
   "execution_count": 57,
   "metadata": {},
   "outputs": [
    {
     "name": "stdout",
     "output_type": "stream",
     "text": [
      "[(3, 'food2'), (4, 'food'), (6, 'food9'), (8, 'food99'), (27, 'food but with py again this time'), (28, 'unique code which will be in table')]\n"
     ]
    }
   ],
   "source": [
    "cursor.execute(\"\"\"select * from \"Categories\" c\"\"\")\n",
    "cursor.execute(\"\"\"insert into \"Categories\" (category) values ('unique code which will be in table')\"\"\")\n",
    "\n",
    "cursor.execute(\"\"\"select * from \"Categories\" c\"\"\")\n",
    "print(cursor.fetchall())"
   ]
  },
  {
   "cell_type": "markdown",
   "metadata": {},
   "source": [
    "    Looks like reading & writing works, now lets try deleting"
   ]
  },
  {
   "cell_type": "code",
   "execution_count": 58,
   "metadata": {},
   "outputs": [
    {
     "name": "stdout",
     "output_type": "stream",
     "text": [
      "[(3, 'food2'), (4, 'food'), (6, 'food9'), (8, 'food99'), (27, 'food but with py again this time')]\n"
     ]
    }
   ],
   "source": [
    "cursor.execute(\"\"\"select * from \"Categories\" c\"\"\")\n",
    "category_id = \"28\"; category_name = 'unique code which will be in table'\n",
    "cursor.execute(\"\"\"DELETE FROM \"Categories\" WHERE category_id = \"\"\" + category_id)# + \"\"\" OR category = \"\"\" + category_name)# type: ignore #, (category_id, category_name))\n",
    "\n",
    "cursor.execute(\"\"\"select * from \"Categories\" c\"\"\")\n",
    "print(cursor.fetchall())"
   ]
  },
  {
   "cell_type": "markdown",
   "metadata": {},
   "source": [
    "\n",
    "\n",
    "    Now lets make a similar version for the categroy tree:"
   ]
  },
  {
   "cell_type": "code",
   "execution_count": 63,
   "metadata": {},
   "outputs": [],
   "source": [
    "# cursor.execute(\"\"\"select * from \"Category_Tree\" ct\"\"\")\n",
    "# cursor.execute(\"\"\"insert into \"Category_Tree\" (category_id, sub_category_id) values (\"catid\", \"subcatid\")\"\"\")\n",
    "\n",
    "# cursor.execute(\"\"\"select * from \"Categories\" c\"\"\")\n",
    "# print(cursor.fetchall())"
   ]
  },
  {
   "cell_type": "markdown",
   "metadata": {},
   "source": [
    "    this would work to pass a string, but Category_Tree's category & sub category parameters both take integers, so lets get encoding\n",
    "\n",
    "    First lets pass an old data set from pdf processing, the following cell is recycled code"
   ]
  },
  {
   "cell_type": "code",
   "execution_count": 65,
   "metadata": {},
   "outputs": [
    {
     "name": "stdout",
     "output_type": "stream",
     "text": [
      "       Ser     Category             SubCategory            SubSubCategory  \\\n",
      "0        1  Agriculture                     NaN                       NaN   \n",
      "1        2          NaN  Agricultural Equipment                       NaN   \n",
      "2        3          NaN                     NaN  Agricultural Greenhouses   \n",
      "3        4          NaN                     NaN     Aquaculture Equipment   \n",
      "4        5          NaN                     NaN                       NaN   \n",
      "...    ...          ...                     ...                       ...   \n",
      "4591  4592          NaN                     NaN            Truck Steering   \n",
      "4592  4593          NaN                     NaN          Truck Suspension   \n",
      "4593  4594          NaN                     NaN                Truck Tire   \n",
      "4594  4595          NaN                     NaN        Truck Transmission   \n",
      "4595  4596          NaN                     NaN               Truck Wheel   \n",
      "\n",
      "     SubSubSubCategory  \n",
      "0                  NaN  \n",
      "1                  NaN  \n",
      "2                  NaN  \n",
      "3                  NaN  \n",
      "4     Aquaculture Trap  \n",
      "...                ...  \n",
      "4591               NaN  \n",
      "4592               NaN  \n",
      "4593               NaN  \n",
      "4594               NaN  \n",
      "4595               NaN  \n",
      "\n",
      "[4596 rows x 5 columns]\n"
     ]
    }
   ],
   "source": [
    "df1 = pd.read_excel('document.xlsx')\n",
    "midpoint = len(df1) // 2 # type: ignore\n",
    "df2a = df1.iloc[:midpoint].reset_index(drop=True)\n",
    "df2b = df1.iloc[midpoint:].reset_index(drop=True)\n",
    "df2b = df2b.drop(['Category', 'SubCategory'], axis=1) # drop na collumns\n",
    "df2b = df2b.iloc[1:] # remove unneccesary row with innacurate names\n",
    "df2b.columns = ['SubSubCategory', 'SubSubSubCategory']\n",
    "df2a = df2a.drop(['Unnamed: 3'], axis=1) # drop\n",
    "df2b['Ser'] = range(1, len(df2b) + 1) # type: ignore\n",
    "df3 = pd.merge(df2a, df2b, on='Ser', suffixes=('_a', '_b'))\n",
    "\n",
    "print(df3)"
   ]
  },
  {
   "cell_type": "markdown",
   "metadata": {},
   "source": [
    "    Now lets try making a map from this"
   ]
  },
  {
   "cell_type": "code",
   "execution_count": 75,
   "metadata": {},
   "outputs": [
    {
     "name": "stdout",
     "output_type": "stream",
     "text": [
      "       Ser                  combined\n",
      "0        1               Agriculture\n",
      "1        2    Agricultural Equipment\n",
      "2        3  Agricultural Greenhouses\n",
      "3        4     Aquaculture Equipment\n",
      "4        5          Aquaculture Trap\n",
      "...    ...                       ...\n",
      "4591  4592            Truck Steering\n",
      "4592  4593          Truck Suspension\n",
      "4593  4594                Truck Tire\n",
      "4594  4595        Truck Transmission\n",
      "4595  4596               Truck Wheel\n",
      "\n",
      "[4596 rows x 2 columns]\n"
     ]
    }
   ],
   "source": [
    "df = pd.DataFrame(df3)\n",
    "\n",
    "def combine_non_na(row):\n",
    "    return ' '.join([str(val) for val in row if val != 'na' and not isinstance(val, (int, float))])\n",
    "\n",
    "df['combined'] = df.apply(combine_non_na, axis=1)\n",
    "\n",
    "df = df[['Ser', 'combined']]\n",
    "\n",
    "print(df)"
   ]
  },
  {
   "cell_type": "markdown",
   "metadata": {},
   "source": [
    "    Lets save this for safe keeping"
   ]
  },
  {
   "cell_type": "code",
   "execution_count": 76,
   "metadata": {},
   "outputs": [],
   "source": [
    "df.to_excel('map.xlsx', index=False)"
   ]
  },
  {
   "cell_type": "markdown",
   "metadata": {},
   "source": [
    "    Now its DB time, we need to put this map into 1 of our tables, & use the map for our other table\n",
    "\n",
    "    Lets start out by uploading the map we just made\n",
    "\n",
    "    First lets make sure the db is empty"
   ]
  },
  {
   "cell_type": "code",
   "execution_count": 97,
   "metadata": {},
   "outputs": [
    {
     "name": "stdout",
     "output_type": "stream",
     "text": [
      "[(3, 'food2'), (4, 'food'), (6, 'food9'), (8, 'food99'), (22, 'food999')]\n"
     ]
    }
   ],
   "source": [
    "cursor.execute(\"\"\"select * from \"Categories\" c\"\"\")\n",
    "print(cursor.fetchall())\n",
    "\n",
    "cursor.execute(\"\"\"select * from \"Categories\" c\"\"\")\n",
    "cursor.execute(\"\"\"insert into \"Categories\" (category) values ('food but with py again this time')\"\"\")\n",
    "\n",
    "cursor.execute(\"\"\"select * from \"Categories\" c\"\"\")\n",
    "cursor.execute(\"\"\"drop table \"Categories\" \"\"\")"
   ]
  },
  {
   "cell_type": "code",
   "execution_count": 98,
   "metadata": {},
   "outputs": [],
   "source": [
    "\n",
    "# cursor.execute(\"\"\"select * from \"Categories\" c\"\"\")\n",
    "# cursor.execute(\"\"\"insert into \"Categories\" (category) values ('food but with py again this time')\"\"\")\n",
    "\n",
    "# cursor.execute(\"\"\"select * from \"Categories\" c\"\"\")\n",
    "# print(cursor.fetchall())"
   ]
  },
  {
   "cell_type": "markdown",
   "metadata": {},
   "source": [
    "    Now lets touch the DB"
   ]
  },
  {
   "cell_type": "code",
   "execution_count": 99,
   "metadata": {},
   "outputs": [
    {
     "ename": "KeyError",
     "evalue": "'category'",
     "output_type": "error",
     "traceback": [
      "\u001b[1;31m---------------------------------------------------------------------------\u001b[0m",
      "\u001b[1;31mKeyError\u001b[0m                                  Traceback (most recent call last)",
      "File \u001b[1;32m~\\AppData\\Local\\Packages\\PythonSoftwareFoundation.Python.3.12_qbz5n2kfra8p0\\LocalCache\\local-packages\\Python312\\site-packages\\pandas\\core\\indexes\\base.py:3791\u001b[0m, in \u001b[0;36mIndex.get_loc\u001b[1;34m(self, key)\u001b[0m\n\u001b[0;32m   3790\u001b[0m \u001b[38;5;28;01mtry\u001b[39;00m:\n\u001b[1;32m-> 3791\u001b[0m     \u001b[38;5;28;01mreturn\u001b[39;00m \u001b[38;5;28;43mself\u001b[39;49m\u001b[38;5;241;43m.\u001b[39;49m\u001b[43m_engine\u001b[49m\u001b[38;5;241;43m.\u001b[39;49m\u001b[43mget_loc\u001b[49m\u001b[43m(\u001b[49m\u001b[43mcasted_key\u001b[49m\u001b[43m)\u001b[49m\n\u001b[0;32m   3792\u001b[0m \u001b[38;5;28;01mexcept\u001b[39;00m \u001b[38;5;167;01mKeyError\u001b[39;00m \u001b[38;5;28;01mas\u001b[39;00m err:\n",
      "File \u001b[1;32mindex.pyx:152\u001b[0m, in \u001b[0;36mpandas._libs.index.IndexEngine.get_loc\u001b[1;34m()\u001b[0m\n",
      "File \u001b[1;32mindex.pyx:181\u001b[0m, in \u001b[0;36mpandas._libs.index.IndexEngine.get_loc\u001b[1;34m()\u001b[0m\n",
      "File \u001b[1;32mpandas\\_libs\\hashtable_class_helper.pxi:7080\u001b[0m, in \u001b[0;36mpandas._libs.hashtable.PyObjectHashTable.get_item\u001b[1;34m()\u001b[0m\n",
      "File \u001b[1;32mpandas\\_libs\\hashtable_class_helper.pxi:7088\u001b[0m, in \u001b[0;36mpandas._libs.hashtable.PyObjectHashTable.get_item\u001b[1;34m()\u001b[0m\n",
      "\u001b[1;31mKeyError\u001b[0m: 'category'",
      "\nThe above exception was the direct cause of the following exception:\n",
      "\u001b[1;31mKeyError\u001b[0m                                  Traceback (most recent call last)",
      "Cell \u001b[1;32mIn[99], line 7\u001b[0m\n\u001b[0;32m      4\u001b[0m     \u001b[38;5;28;01mreturn\u001b[39;00m category, subcategory\n\u001b[0;32m      6\u001b[0m \u001b[38;5;28;01mfor\u001b[39;00m i \u001b[38;5;129;01min\u001b[39;00m \u001b[38;5;28mrange\u001b[39m(\u001b[38;5;28mlen\u001b[39m(df)): \u001b[38;5;66;03m# type: ignore\u001b[39;00m\n\u001b[1;32m----> 7\u001b[0m     num, name \u001b[38;5;241m=\u001b[39m get_category_subcategory(df, i); num \u001b[38;5;241m=\u001b[39m \u001b[38;5;28mstr\u001b[39m(num)\n\u001b[0;32m      9\u001b[0m     cursor\u001b[38;5;241m.\u001b[39mexecute(\u001b[38;5;124m\"\"\"\u001b[39m\u001b[38;5;124mselect * from \u001b[39m\u001b[38;5;124m\"\u001b[39m\u001b[38;5;124mCategories\u001b[39m\u001b[38;5;124m\"\u001b[39m\u001b[38;5;124m c\u001b[39m\u001b[38;5;124m\"\"\"\u001b[39m)\n\u001b[0;32m     10\u001b[0m     cursor\u001b[38;5;241m.\u001b[39mexecute(\u001b[38;5;124m\"\"\"\u001b[39m\u001b[38;5;124minsert into \u001b[39m\u001b[38;5;124m\"\u001b[39m\u001b[38;5;124mCategories\u001b[39m\u001b[38;5;124m\"\u001b[39m\u001b[38;5;124m (category_id, category) values (\u001b[39m\u001b[38;5;124m\"\"\"\u001b[39m \u001b[38;5;241m+\u001b[39m num \u001b[38;5;241m+\u001b[39m \u001b[38;5;124m\"\"\"\u001b[39m\u001b[38;5;124m, \u001b[39m\u001b[38;5;124m'\u001b[39m\u001b[38;5;124m\"\"\"\u001b[39m \u001b[38;5;241m+\u001b[39m name \u001b[38;5;241m+\u001b[39m \u001b[38;5;124m\"\"\"\u001b[39m\u001b[38;5;124m'\u001b[39m\u001b[38;5;124m)\u001b[39m\u001b[38;5;124m\"\"\"\u001b[39m) \u001b[38;5;66;03m# type: ignore\u001b[39;00m\n",
      "Cell \u001b[1;32mIn[99], line 2\u001b[0m, in \u001b[0;36mget_category_subcategory\u001b[1;34m(df, index)\u001b[0m\n\u001b[0;32m      1\u001b[0m \u001b[38;5;28;01mdef\u001b[39;00m \u001b[38;5;21mget_category_subcategory\u001b[39m(df, index):\n\u001b[1;32m----> 2\u001b[0m     category \u001b[38;5;241m=\u001b[39m \u001b[43mdf\u001b[49m\u001b[38;5;241;43m.\u001b[39;49m\u001b[43mloc\u001b[49m\u001b[43m[\u001b[49m\u001b[43mindex\u001b[49m\u001b[43m,\u001b[49m\u001b[43m \u001b[49m\u001b[38;5;124;43m'\u001b[39;49m\u001b[38;5;124;43mcategory\u001b[39;49m\u001b[38;5;124;43m'\u001b[39;49m\u001b[43m]\u001b[49m\n\u001b[0;32m      3\u001b[0m     subcategory \u001b[38;5;241m=\u001b[39m df\u001b[38;5;241m.\u001b[39mloc[index, \u001b[38;5;124m'\u001b[39m\u001b[38;5;124msubcategory\u001b[39m\u001b[38;5;124m'\u001b[39m]\n\u001b[0;32m      4\u001b[0m     \u001b[38;5;28;01mreturn\u001b[39;00m category, subcategory\n",
      "File \u001b[1;32m~\\AppData\\Local\\Packages\\PythonSoftwareFoundation.Python.3.12_qbz5n2kfra8p0\\LocalCache\\local-packages\\Python312\\site-packages\\pandas\\core\\indexing.py:1146\u001b[0m, in \u001b[0;36m_LocationIndexer.__getitem__\u001b[1;34m(self, key)\u001b[0m\n\u001b[0;32m   1144\u001b[0m     key \u001b[38;5;241m=\u001b[39m \u001b[38;5;28mtuple\u001b[39m(com\u001b[38;5;241m.\u001b[39mapply_if_callable(x, \u001b[38;5;28mself\u001b[39m\u001b[38;5;241m.\u001b[39mobj) \u001b[38;5;28;01mfor\u001b[39;00m x \u001b[38;5;129;01min\u001b[39;00m key)\n\u001b[0;32m   1145\u001b[0m     \u001b[38;5;28;01mif\u001b[39;00m \u001b[38;5;28mself\u001b[39m\u001b[38;5;241m.\u001b[39m_is_scalar_access(key):\n\u001b[1;32m-> 1146\u001b[0m         \u001b[38;5;28;01mreturn\u001b[39;00m \u001b[38;5;28;43mself\u001b[39;49m\u001b[38;5;241;43m.\u001b[39;49m\u001b[43mobj\u001b[49m\u001b[38;5;241;43m.\u001b[39;49m\u001b[43m_get_value\u001b[49m\u001b[43m(\u001b[49m\u001b[38;5;241;43m*\u001b[39;49m\u001b[43mkey\u001b[49m\u001b[43m,\u001b[49m\u001b[43m \u001b[49m\u001b[43mtakeable\u001b[49m\u001b[38;5;241;43m=\u001b[39;49m\u001b[38;5;28;43mself\u001b[39;49m\u001b[38;5;241;43m.\u001b[39;49m\u001b[43m_takeable\u001b[49m\u001b[43m)\u001b[49m\n\u001b[0;32m   1147\u001b[0m     \u001b[38;5;28;01mreturn\u001b[39;00m \u001b[38;5;28mself\u001b[39m\u001b[38;5;241m.\u001b[39m_getitem_tuple(key)\n\u001b[0;32m   1148\u001b[0m \u001b[38;5;28;01melse\u001b[39;00m:\n\u001b[0;32m   1149\u001b[0m     \u001b[38;5;66;03m# we by definition only have the 0th axis\u001b[39;00m\n",
      "File \u001b[1;32m~\\AppData\\Local\\Packages\\PythonSoftwareFoundation.Python.3.12_qbz5n2kfra8p0\\LocalCache\\local-packages\\Python312\\site-packages\\pandas\\core\\frame.py:4005\u001b[0m, in \u001b[0;36mDataFrame._get_value\u001b[1;34m(self, index, col, takeable)\u001b[0m\n\u001b[0;32m   4002\u001b[0m     series \u001b[38;5;241m=\u001b[39m \u001b[38;5;28mself\u001b[39m\u001b[38;5;241m.\u001b[39m_ixs(col, axis\u001b[38;5;241m=\u001b[39m\u001b[38;5;241m1\u001b[39m)\n\u001b[0;32m   4003\u001b[0m     \u001b[38;5;28;01mreturn\u001b[39;00m series\u001b[38;5;241m.\u001b[39m_values[index]\n\u001b[1;32m-> 4005\u001b[0m series \u001b[38;5;241m=\u001b[39m \u001b[38;5;28;43mself\u001b[39;49m\u001b[38;5;241;43m.\u001b[39;49m\u001b[43m_get_item_cache\u001b[49m\u001b[43m(\u001b[49m\u001b[43mcol\u001b[49m\u001b[43m)\u001b[49m\n\u001b[0;32m   4006\u001b[0m engine \u001b[38;5;241m=\u001b[39m \u001b[38;5;28mself\u001b[39m\u001b[38;5;241m.\u001b[39mindex\u001b[38;5;241m.\u001b[39m_engine\n\u001b[0;32m   4008\u001b[0m \u001b[38;5;28;01mif\u001b[39;00m \u001b[38;5;129;01mnot\u001b[39;00m \u001b[38;5;28misinstance\u001b[39m(\u001b[38;5;28mself\u001b[39m\u001b[38;5;241m.\u001b[39mindex, MultiIndex):\n\u001b[0;32m   4009\u001b[0m     \u001b[38;5;66;03m# CategoricalIndex: Trying to use the engine fastpath may give incorrect\u001b[39;00m\n\u001b[0;32m   4010\u001b[0m     \u001b[38;5;66;03m#  results if our categories are integers that dont match our codes\u001b[39;00m\n\u001b[0;32m   4011\u001b[0m     \u001b[38;5;66;03m# IntervalIndex: IntervalTree has no get_loc\u001b[39;00m\n",
      "File \u001b[1;32m~\\AppData\\Local\\Packages\\PythonSoftwareFoundation.Python.3.12_qbz5n2kfra8p0\\LocalCache\\local-packages\\Python312\\site-packages\\pandas\\core\\frame.py:4414\u001b[0m, in \u001b[0;36mDataFrame._get_item_cache\u001b[1;34m(self, item)\u001b[0m\n\u001b[0;32m   4409\u001b[0m res \u001b[38;5;241m=\u001b[39m cache\u001b[38;5;241m.\u001b[39mget(item)\n\u001b[0;32m   4410\u001b[0m \u001b[38;5;28;01mif\u001b[39;00m res \u001b[38;5;129;01mis\u001b[39;00m \u001b[38;5;28;01mNone\u001b[39;00m:\n\u001b[0;32m   4411\u001b[0m     \u001b[38;5;66;03m# All places that call _get_item_cache have unique columns,\u001b[39;00m\n\u001b[0;32m   4412\u001b[0m     \u001b[38;5;66;03m#  pending resolution of GH#33047\u001b[39;00m\n\u001b[1;32m-> 4414\u001b[0m     loc \u001b[38;5;241m=\u001b[39m \u001b[38;5;28;43mself\u001b[39;49m\u001b[38;5;241;43m.\u001b[39;49m\u001b[43mcolumns\u001b[49m\u001b[38;5;241;43m.\u001b[39;49m\u001b[43mget_loc\u001b[49m\u001b[43m(\u001b[49m\u001b[43mitem\u001b[49m\u001b[43m)\u001b[49m\n\u001b[0;32m   4415\u001b[0m     res \u001b[38;5;241m=\u001b[39m \u001b[38;5;28mself\u001b[39m\u001b[38;5;241m.\u001b[39m_ixs(loc, axis\u001b[38;5;241m=\u001b[39m\u001b[38;5;241m1\u001b[39m)\n\u001b[0;32m   4417\u001b[0m     cache[item] \u001b[38;5;241m=\u001b[39m res\n",
      "File \u001b[1;32m~\\AppData\\Local\\Packages\\PythonSoftwareFoundation.Python.3.12_qbz5n2kfra8p0\\LocalCache\\local-packages\\Python312\\site-packages\\pandas\\core\\indexes\\base.py:3798\u001b[0m, in \u001b[0;36mIndex.get_loc\u001b[1;34m(self, key)\u001b[0m\n\u001b[0;32m   3793\u001b[0m     \u001b[38;5;28;01mif\u001b[39;00m \u001b[38;5;28misinstance\u001b[39m(casted_key, \u001b[38;5;28mslice\u001b[39m) \u001b[38;5;129;01mor\u001b[39;00m (\n\u001b[0;32m   3794\u001b[0m         \u001b[38;5;28misinstance\u001b[39m(casted_key, abc\u001b[38;5;241m.\u001b[39mIterable)\n\u001b[0;32m   3795\u001b[0m         \u001b[38;5;129;01mand\u001b[39;00m \u001b[38;5;28many\u001b[39m(\u001b[38;5;28misinstance\u001b[39m(x, \u001b[38;5;28mslice\u001b[39m) \u001b[38;5;28;01mfor\u001b[39;00m x \u001b[38;5;129;01min\u001b[39;00m casted_key)\n\u001b[0;32m   3796\u001b[0m     ):\n\u001b[0;32m   3797\u001b[0m         \u001b[38;5;28;01mraise\u001b[39;00m InvalidIndexError(key)\n\u001b[1;32m-> 3798\u001b[0m     \u001b[38;5;28;01mraise\u001b[39;00m \u001b[38;5;167;01mKeyError\u001b[39;00m(key) \u001b[38;5;28;01mfrom\u001b[39;00m \u001b[38;5;21;01merr\u001b[39;00m\n\u001b[0;32m   3799\u001b[0m \u001b[38;5;28;01mexcept\u001b[39;00m \u001b[38;5;167;01mTypeError\u001b[39;00m:\n\u001b[0;32m   3800\u001b[0m     \u001b[38;5;66;03m# If we have a listlike key, _check_indexing_error will raise\u001b[39;00m\n\u001b[0;32m   3801\u001b[0m     \u001b[38;5;66;03m#  InvalidIndexError. Otherwise we fall through and re-raise\u001b[39;00m\n\u001b[0;32m   3802\u001b[0m     \u001b[38;5;66;03m#  the TypeError.\u001b[39;00m\n\u001b[0;32m   3803\u001b[0m     \u001b[38;5;28mself\u001b[39m\u001b[38;5;241m.\u001b[39m_check_indexing_error(key)\n",
      "\u001b[1;31mKeyError\u001b[0m: 'category'"
     ]
    }
   ],
   "source": [
    "def get_category_subcategory(df, index):\n",
    "    category = df.loc[index, 'category']\n",
    "    subcategory = df.loc[index, 'subcategory']\n",
    "    return category, subcategory\n",
    "\n",
    "for i in range(len(df)): # type: ignore\n",
    "    num, name = get_category_subcategory(df, i); num = str(num)\n",
    "    \n",
    "    cursor.execute(\"\"\"select * from \"Categories\" c\"\"\")\n",
    "    cursor.execute(\"\"\"insert into \"Categories\" (category_id, category) values (\"\"\" + num + \"\"\", '\"\"\" + name + \"\"\"')\"\"\") # type: ignore"
   ]
  },
  {
   "cell_type": "markdown",
   "metadata": {},
   "source": [
    "\n",
    "    & the final step is to use this to commit our data to the DB"
   ]
  },
  {
   "cell_type": "code",
   "execution_count": 42,
   "metadata": {},
   "outputs": [
    {
     "name": "stdout",
     "output_type": "stream",
     "text": [
      "f\n",
      "f\n",
      "f\n",
      "f\n",
      "f\n"
     ]
    }
   ],
   "source": [
    "len = dfip.size\n",
    "\n",
    "for i in dfp:\n",
    "    print(\"f\")\n",
    "\n"
   ]
  },
  {
   "cell_type": "code",
   "execution_count": null,
   "metadata": {},
   "outputs": [],
   "source": [
    "# Ser = []; Cat = []; SCat = []; SSCat = []; SSSCat = []\n",
    "\n",
    "# for i in dfp:\n",
    "#     Ser.append(dfp['Ser'])\n",
    "#     Cat.append(dfp['Category'])\n",
    "#     SCat.append(dfp['SubCategory'])\n",
    "#     SSCat.append(dfp['SubSubCategory'])\n",
    "#     SSSCat.append(dfp['SubSubSubCategory'])\n",
    "\n",
    "# Ser; # Cat; # SCat; # SSCat; # SSSCat\n"
   ]
  }
 ],
 "metadata": {
  "kernelspec": {
   "display_name": "Python 3",
   "language": "python",
   "name": "python3"
  },
  "language_info": {
   "codemirror_mode": {
    "name": "ipython",
    "version": 3
   },
   "file_extension": ".py",
   "mimetype": "text/x-python",
   "name": "python",
   "nbconvert_exporter": "python",
   "pygments_lexer": "ipython3",
   "version": "3.12.3"
  }
 },
 "nbformat": 4,
 "nbformat_minor": 2
}
