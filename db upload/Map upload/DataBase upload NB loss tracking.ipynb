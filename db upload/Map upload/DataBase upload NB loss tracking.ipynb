{
 "cells": [
  {
   "cell_type": "markdown",
   "metadata": {},
   "source": [
    "# Finding whats happening to our failed entries\n",
    "\n",
    "    First, lets add our old stuff"
   ]
  },
  {
   "cell_type": "code",
   "execution_count": 1,
   "metadata": {},
   "outputs": [
    {
     "name": "stdout",
     "output_type": "stream",
     "text": [
      "   Ser                  combined\n",
      "0    1               Agriculture\n",
      "1    2    Agricultural Equipment\n",
      "2    3  Agricultural Greenhouses\n",
      "3    4     Aquaculture Equipment\n",
      "4    5          Aquaculture Trap\n"
     ]
    }
   ],
   "source": [
    "import pandas as pd\n",
    "import psycopg2\n",
    "import numpy as np\n",
    "\n",
    "df = pd.read_excel(\n",
    "    \"c:/Users/samia/OneDrive/Desktop/ISupply-project/db upload/Map upload/map.xlsx\"\n",
    ")\n",
    "print(df.head())"
   ]
  },
  {
   "cell_type": "code",
   "execution_count": 3,
   "metadata": {},
   "outputs": [],
   "source": [
    "def get_category_subcategory(df, index):\n",
    "    num = df.loc[index, \"Ser\"]  # O( log(n) )\n",
    "    name = df.loc[index, \"combined\"]\n",
    "    return name, num\n",
    "\n",
    "\n",
    "def process_categories(df, cursor, con, start, end):\n",
    "    # listOfCollisions = []\n",
    "    # listOfAllErrors = []\n",
    "    queryList = []\n",
    "    j = 0\n",
    "\n",
    "    for i in range(start, end):  # O(n)\n",
    "        name, num = get_category_subcategory(df, i)\n",
    "        num = str(num)\n",
    "\n",
    "        query = (\n",
    "            \"\"\"INSERT INTO \"Categories\" (category_id, category) VALUES (%s, %s)\"\"\",\n",
    "            (num, name),\n",
    "        )\n",
    "        # print(str(query))\n",
    "        # query = str(query)\n",
    "        try:\n",
    "            cursor.execute(\n",
    "                \"\"\"INSERT INTO \"Categories\" (category_id, category) VALUES (%s, %s)\"\"\",\n",
    "                (num, name),\n",
    "            )  # O(n)\n",
    "            # cursor.execute(query)  # O(n)\n",
    "        except psycopg2.errors.UniqueViolation as e:\n",
    "            # listOfAllErrors.append(i)\n",
    "            # listOfCollisions.append(i)\n",
    "            queryList.append(str(query))\n",
    "        except Exception as e:\n",
    "            print(f\"Error occurred: {e} q:\", query)\n",
    "            # listOfAllErrors.append(i)\n",
    "            queryList.append(str(query))\n",
    "\n",
    "        if j == 10:\n",
    "            con.commit()\n",
    "            j = 0  # this time we will commit for each 10th entry\n",
    "        j = j + 1\n",
    "\n",
    "    con.commit()\n",
    "\n",
    "    # print(len(listOfCollisions), len(listOfAllErrors))\n",
    "    # return listOfCollisions, listOfAllErrors\n",
    "    print(len(queryList))\n",
    "    return queryList\n",
    "\n",
    "    # this should give us some details on where our data is going\n"
   ]
  },
  {
   "cell_type": "markdown",
   "metadata": {},
   "source": [
    "    Now lets start using this stuff again"
   ]
  },
  {
   "cell_type": "code",
   "execution_count": 4,
   "metadata": {},
   "outputs": [
    {
     "name": "stdout",
     "output_type": "stream",
     "text": [
      "0\n",
      "100 number  1  done\n",
      "1\n",
      "100 number  2  done\n",
      "0\n",
      "100 number  3  done\n",
      "Error occurred: current transaction is aborted, commands ignored until end of transaction block\n",
      " q: ('INSERT INTO \"Categories\" (category_id, category) VALUES (%s, %s)', ('341', 'Automobiles & Motorcycle s'))\n",
      "2\n",
      "100 number  4  done\n",
      "0\n",
      "100 number  5  done\n"
     ]
    }
   ],
   "source": [
    "\n",
    "# listOfCollisions = []\n",
    "# listOfAllErrors = []\n",
    "queryList = []\n",
    "\n",
    "\n",
    "# wipe the db from DBeaver\n",
    "\n",
    "con = psycopg2.connect(\n",
    "    database=\"iSupply\",\n",
    "    host=\"38.180.117.52\",\n",
    "    user=\"postgres\",\n",
    "    password=\"deerRun\",\n",
    "    port=\"5432\",\n",
    ")\n",
    "cursor = con.cursor()  # open\n",
    "\n",
    "for i in range(5):  # first 500 for the sake of inspection\n",
    "    # collisions, errors = process_categories(\n",
    "    currentQL = process_categories(df, cursor, con, (100 * i), ((100 * i) + 100))\n",
    "    # listOfCollisions += collisions listOfAllErrors += errors\n",
    "    queryList += currentQL\n",
    "    print(\"100 number \", (i + 1), \" done\")\n",
    "\n",
    "# currentQL = process_categories(df, cursor, con, (4500), (4596))\n",
    "# queryList += currentQL\n",
    "# print(\"100 number \", (46), \" done\")\n",
    "\n",
    "cursor.close()\n",
    "con.close()  # close\n"
   ]
  },
  {
   "cell_type": "code",
   "execution_count": 6,
   "metadata": {},
   "outputs": [
    {
     "name": "stdout",
     "output_type": "stream",
     "text": [
      "3\n"
     ]
    },
    {
     "data": {
      "text/plain": [
       "['(\\'INSERT INTO \"Categories\" (category_id, category) VALUES (%s, %s)\\', (\\'151\\', nan))',\n",
       " '(\\'INSERT INTO \"Categories\" (category_id, category) VALUES (%s, %s)\\', (\\'340\\', nan))',\n",
       " '(\\'INSERT INTO \"Categories\" (category_id, category) VALUES (%s, %s)\\', (\\'341\\', \\'Automobiles & Motorcycle s\\'))']"
      ]
     },
     "execution_count": 6,
     "metadata": {},
     "output_type": "execute_result"
    }
   ],
   "source": [
    "\n",
    "print(len(queryList))\n",
    "queryList"
   ]
  },
  {
   "cell_type": "markdown",
   "metadata": {},
   "source": [
    "    Now, lets take a look at the data base"
   ]
  },
  {
   "cell_type": "code",
   "execution_count": 8,
   "metadata": {},
   "outputs": [
    {
     "data": {
      "text/html": [
       "<div>\n",
       "<style scoped>\n",
       "    .dataframe tbody tr th:only-of-type {\n",
       "        vertical-align: middle;\n",
       "    }\n",
       "\n",
       "    .dataframe tbody tr th {\n",
       "        vertical-align: top;\n",
       "    }\n",
       "\n",
       "    .dataframe thead th {\n",
       "        text-align: right;\n",
       "    }\n",
       "</style>\n",
       "<table border=\"1\" class=\"dataframe\">\n",
       "  <thead>\n",
       "    <tr style=\"text-align: right;\">\n",
       "      <th></th>\n",
       "      <th>ser</th>\n",
       "      <th>cat</th>\n",
       "    </tr>\n",
       "  </thead>\n",
       "  <tbody>\n",
       "    <tr>\n",
       "      <th>0</th>\n",
       "      <td>1</td>\n",
       "      <td>Agriculture</td>\n",
       "    </tr>\n",
       "    <tr>\n",
       "      <th>1</th>\n",
       "      <td>2</td>\n",
       "      <td>Agricultural Equipment</td>\n",
       "    </tr>\n",
       "    <tr>\n",
       "      <th>2</th>\n",
       "      <td>3</td>\n",
       "      <td>Agricultural Greenhouses</td>\n",
       "    </tr>\n",
       "    <tr>\n",
       "      <th>3</th>\n",
       "      <td>4</td>\n",
       "      <td>Aquaculture Equipment</td>\n",
       "    </tr>\n",
       "    <tr>\n",
       "      <th>4</th>\n",
       "      <td>5</td>\n",
       "      <td>Aquaculture Trap</td>\n",
       "    </tr>\n",
       "    <tr>\n",
       "      <th>...</th>\n",
       "      <td>...</td>\n",
       "      <td>...</td>\n",
       "    </tr>\n",
       "    <tr>\n",
       "      <th>475</th>\n",
       "      <td>496</td>\n",
       "      <td>Motorcycle Valve Train</td>\n",
       "    </tr>\n",
       "    <tr>\n",
       "      <th>476</th>\n",
       "      <td>497</td>\n",
       "      <td>Other Motorcycle Engines</td>\n",
       "    </tr>\n",
       "    <tr>\n",
       "      <th>477</th>\n",
       "      <td>498</td>\n",
       "      <td>Motorcycle Steering</td>\n",
       "    </tr>\n",
       "    <tr>\n",
       "      <th>478</th>\n",
       "      <td>499</td>\n",
       "      <td>Motorcycle Tires</td>\n",
       "    </tr>\n",
       "    <tr>\n",
       "      <th>479</th>\n",
       "      <td>500</td>\n",
       "      <td>Motorcycle Transmissions</td>\n",
       "    </tr>\n",
       "  </tbody>\n",
       "</table>\n",
       "<p>480 rows × 2 columns</p>\n",
       "</div>"
      ],
      "text/plain": [
       "     ser                       cat\n",
       "0      1               Agriculture\n",
       "1      2    Agricultural Equipment\n",
       "2      3  Agricultural Greenhouses\n",
       "3      4     Aquaculture Equipment\n",
       "4      5          Aquaculture Trap\n",
       "..   ...                       ...\n",
       "475  496    Motorcycle Valve Train\n",
       "476  497  Other Motorcycle Engines\n",
       "477  498       Motorcycle Steering\n",
       "478  499          Motorcycle Tires\n",
       "479  500  Motorcycle Transmissions\n",
       "\n",
       "[480 rows x 2 columns]"
      ]
     },
     "execution_count": 8,
     "metadata": {},
     "output_type": "execute_result"
    }
   ],
   "source": [
    "con = psycopg2.connect(\n",
    "    database=\"iSupply\",\n",
    "    host=\"38.180.117.52\",\n",
    "    user=\"postgres\",\n",
    "    password=\"deerRun\",\n",
    "    port=\"5432\",\n",
    ")\n",
    "cursor = con.cursor()\n",
    "cursor.execute(\"\"\"select * from \"Categories\" c\"\"\")\n",
    "out = cursor.fetchall()  # make a dictionary of what the db currently has\n",
    "cursor.close()\n",
    "con.close()\n",
    "\n",
    "df = pd.DataFrame(out, columns=[\"ser\", \"cat\"])\n",
    "\n",
    "df"
   ]
  }
 ],
 "metadata": {
  "kernelspec": {
   "display_name": "Python 3",
   "language": "python",
   "name": "python3"
  },
  "language_info": {
   "codemirror_mode": {
    "name": "ipython",
    "version": 3
   },
   "file_extension": ".py",
   "mimetype": "text/x-python",
   "name": "python",
   "nbconvert_exporter": "python",
   "pygments_lexer": "ipython3",
   "version": "3.12.3"
  }
 },
 "nbformat": 4,
 "nbformat_minor": 2
}
