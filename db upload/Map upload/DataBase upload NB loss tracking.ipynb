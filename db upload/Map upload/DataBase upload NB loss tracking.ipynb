{
 "cells": [
  {
   "cell_type": "markdown",
   "metadata": {},
   "source": [
    "# Finding whats happening to our failed entries\n",
    "\n",
    "    First, lets add our old stuff"
   ]
  },
  {
   "cell_type": "code",
   "execution_count": 1,
   "metadata": {},
   "outputs": [
    {
     "name": "stdout",
     "output_type": "stream",
     "text": [
      "   Ser                  combined\n",
      "0    1               Agriculture\n",
      "1    2    Agricultural Equipment\n",
      "2    3  Agricultural Greenhouses\n",
      "3    4     Aquaculture Equipment\n",
      "4    5          Aquaculture Trap\n"
     ]
    }
   ],
   "source": [
    "import pandas as pd\n",
    "import psycopg2\n",
    "import numpy as np\n",
    "\n",
    "df = pd.read_excel(\n",
    "    \"c:/Users/samia/OneDrive/Desktop/ISupply-project/db upload/Map upload/map.xlsx\"\n",
    ")\n",
    "print(df.head())"
   ]
  },
  {
   "cell_type": "code",
   "execution_count": 3,
   "metadata": {},
   "outputs": [],
   "source": [
    "def get_category_subcategory(df, index):\n",
    "    num = df.loc[index, \"Ser\"]  # O( log(n) )\n",
    "    name = df.loc[index, \"combined\"]\n",
    "    return name, num\n",
    "\n",
    "\n",
    "def process_categories(df, cursor, con, start, end):\n",
    "    # listOfCollisions = []\n",
    "    # listOfAllErrors = []\n",
    "    queryList = []\n",
    "    j = 0\n",
    "\n",
    "    for i in range(start, end):  # O(n)\n",
    "        name, num = get_category_subcategory(df, i)\n",
    "        num = str(num)\n",
    "\n",
    "        query = (\n",
    "            \"\"\"INSERT INTO \"Categories\" (category_id, category) VALUES (%s, %s)\"\"\",\n",
    "            (num, name),\n",
    "        )\n",
    "        # print(str(query))\n",
    "        # query = str(query)\n",
    "        try:\n",
    "            cursor.execute(\n",
    "                \"\"\"INSERT INTO \"Categories\" (category_id, category) VALUES (%s, %s)\"\"\",\n",
    "                (num, name),\n",
    "            )  # O(n)\n",
    "            # cursor.execute(query)  # O(n)\n",
    "        except psycopg2.errors.UniqueViolation as e:\n",
    "            # listOfAllErrors.append(i)\n",
    "            # listOfCollisions.append(i)\n",
    "            queryList.append(str(query))\n",
    "        except Exception as e:\n",
    "            print(f\"Error occurred: {e} q:\", query)\n",
    "            # listOfAllErrors.append(i)\n",
    "            queryList.append(str(query))\n",
    "\n",
    "        if j == 10:\n",
    "            con.commit()\n",
    "            j = 0  # this time we will commit for each 10th entry\n",
    "        j = j + 1\n",
    "\n",
    "    con.commit()\n",
    "\n",
    "    # print(len(listOfCollisions), len(listOfAllErrors))\n",
    "    # return listOfCollisions, listOfAllErrors\n",
    "    print(len(queryList))\n",
    "    return queryList\n",
    "\n",
    "    # this should give us some details on where our data is going\n"
   ]
  },
  {
   "cell_type": "markdown",
   "metadata": {},
   "source": [
    "    Now lets start using this stuff again"
   ]
  },
  {
   "cell_type": "code",
   "execution_count": 4,
   "metadata": {},
   "outputs": [
    {
     "name": "stdout",
     "output_type": "stream",
     "text": [
      "0\n",
      "100 number  1  done\n",
      "1\n",
      "100 number  2  done\n",
      "0\n",
      "100 number  3  done\n",
      "Error occurred: current transaction is aborted, commands ignored until end of transaction block\n",
      " q: ('INSERT INTO \"Categories\" (category_id, category) VALUES (%s, %s)', ('341', 'Automobiles & Motorcycle s'))\n",
      "2\n",
      "100 number  4  done\n",
      "0\n",
      "100 number  5  done\n"
     ]
    }
   ],
   "source": [
    "\n",
    "# listOfCollisions = []\n",
    "# listOfAllErrors = []\n",
    "queryList = []\n",
    "\n",
    "\n",
    "# wipe the db from DBeaver\n",
    "\n",
    "con = psycopg2.connect(\n",
    "    database=\"iSupply\",\n",
    "    host=\"38.180.117.52\",\n",
    "    user=\"postgres\",\n",
    "    password=\"deerRun\",\n",
    "    port=\"5432\",\n",
    ")\n",
    "cursor = con.cursor()  # open\n",
    "\n",
    "for i in range(5):  # first 500 for the sake of inspection\n",
    "    # collisions, errors = process_categories(\n",
    "    currentQL = process_categories(df, cursor, con, (100 * i), ((100 * i) + 100))\n",
    "    # listOfCollisions += collisions listOfAllErrors += errors\n",
    "    queryList += currentQL\n",
    "    print(\"100 number \", (i + 1), \" done\")\n",
    "\n",
    "# currentQL = process_categories(df, cursor, con, (4500), (4596))\n",
    "# queryList += currentQL\n",
    "# print(\"100 number \", (46), \" done\")\n",
    "\n",
    "cursor.close()\n",
    "con.close()  # close\n"
   ]
  },
  {
   "cell_type": "code",
   "execution_count": 6,
   "metadata": {},
   "outputs": [
    {
     "name": "stdout",
     "output_type": "stream",
     "text": [
      "3\n"
     ]
    },
    {
     "data": {
      "text/plain": [
       "['(\\'INSERT INTO \"Categories\" (category_id, category) VALUES (%s, %s)\\', (\\'151\\', nan))',\n",
       " '(\\'INSERT INTO \"Categories\" (category_id, category) VALUES (%s, %s)\\', (\\'340\\', nan))',\n",
       " '(\\'INSERT INTO \"Categories\" (category_id, category) VALUES (%s, %s)\\', (\\'341\\', \\'Automobiles & Motorcycle s\\'))']"
      ]
     },
     "execution_count": 6,
     "metadata": {},
     "output_type": "execute_result"
    }
   ],
   "source": [
    "\n",
    "print(len(queryList))\n",
    "queryList"
   ]
  }
 ],
 "metadata": {
  "kernelspec": {
   "display_name": "Python 3",
   "language": "python",
   "name": "python3"
  },
  "language_info": {
   "codemirror_mode": {
    "name": "ipython",
    "version": 3
   },
   "file_extension": ".py",
   "mimetype": "text/x-python",
   "name": "python",
   "nbconvert_exporter": "python",
   "pygments_lexer": "ipython3",
   "version": "3.12.3"
  }
 },
 "nbformat": 4,
 "nbformat_minor": 2
}
