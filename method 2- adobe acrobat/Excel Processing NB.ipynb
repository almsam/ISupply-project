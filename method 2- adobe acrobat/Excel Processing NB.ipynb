{
 "cells": [
  {
   "cell_type": "markdown",
   "metadata": {},
   "source": [
    "# Processing the Excel Sheet\n",
    "\n",
    "    First, lets import the doc"
   ]
  },
  {
   "cell_type": "code",
   "execution_count": 1,
   "metadata": {},
   "outputs": [
    {
     "name": "stdout",
     "output_type": "stream",
     "text": [
      "  Ser     Category             SubCategory Unnamed: 3\n",
      "0   1  Agriculture                     NaN        NaN\n",
      "1   2          NaN  Agricultural Equipment        NaN\n",
      "2   3          NaN                     NaN        NaN\n",
      "3   4          NaN                     NaN        NaN\n",
      "4   5          NaN                     NaN        NaN\n"
     ]
    }
   ],
   "source": [
    "import pandas as pd\n",
    "\n",
    "df1 = pd.read_excel('document.xlsx')\n",
    "\n",
    "print(df1.head())\n"
   ]
  },
  {
   "cell_type": "markdown",
   "metadata": {},
   "source": [
    "    Then lets cut it in half"
   ]
  },
  {
   "cell_type": "code",
   "execution_count": 3,
   "metadata": {},
   "outputs": [
    {
     "name": "stdout",
     "output_type": "stream",
     "text": [
      "First half (df2a):\n",
      "  Ser     Category             SubCategory Unnamed: 3\n",
      "0   1  Agriculture                     NaN        NaN\n",
      "1   2          NaN  Agricultural Equipment        NaN\n",
      "2   3          NaN                     NaN        NaN\n",
      "3   4          NaN                     NaN        NaN\n",
      "4   5          NaN                     NaN        NaN\n",
      "\n",
      "Second half (df2b):\n",
      "                        Ser Category SubCategory         Unnamed: 3\n",
      "0            SubSubCategory      NaN         NaN  SubSubSubCategory\n",
      "1                       NaN      NaN         NaN                NaN\n",
      "2                       NaN      NaN         NaN                NaN\n",
      "3  Agricultural Greenhouses      NaN         NaN                NaN\n",
      "4     Aquaculture Equipment      NaN         NaN                NaN\n"
     ]
    }
   ],
   "source": [
    "midpoint = len(df1) // 2\n",
    "\n",
    "df2a = df1.iloc[:midpoint].reset_index(drop=True)\n",
    "df2b = df1.iloc[midpoint:].reset_index(drop=True)\n",
    "\n",
    "print(\"First half (df2a):\"); print(df2a.head())\n",
    "\n",
    "print(\"\\nSecond half (df2b):\"); print(df2b.head())"
   ]
  },
  {
   "cell_type": "markdown",
   "metadata": {},
   "source": [
    "    df2b doesn't look that good, lets fix that"
   ]
  },
  {
   "cell_type": "code",
   "execution_count": null,
   "metadata": {},
   "outputs": [],
   "source": []
  }
 ],
 "metadata": {
  "kernelspec": {
   "display_name": "Python 3",
   "language": "python",
   "name": "python3"
  },
  "language_info": {
   "codemirror_mode": {
    "name": "ipython",
    "version": 3
   },
   "file_extension": ".py",
   "mimetype": "text/x-python",
   "name": "python",
   "nbconvert_exporter": "python",
   "pygments_lexer": "ipython3",
   "version": "3.12.3"
  }
 },
 "nbformat": 4,
 "nbformat_minor": 2
}
