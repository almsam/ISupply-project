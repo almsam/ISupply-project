{
 "cells": [
  {
   "cell_type": "markdown",
   "metadata": {},
   "source": [
    "# Processing the Excel Sheet\n",
    "\n",
    "    First, lets import the doc"
   ]
  },
  {
   "cell_type": "code",
   "execution_count": 1,
   "metadata": {},
   "outputs": [
    {
     "name": "stdout",
     "output_type": "stream",
     "text": [
      "  Ser     Category             SubCategory Unnamed: 3\n",
      "0   1  Agriculture                     NaN        NaN\n",
      "1   2          NaN  Agricultural Equipment        NaN\n",
      "2   3          NaN                     NaN        NaN\n",
      "3   4          NaN                     NaN        NaN\n",
      "4   5          NaN                     NaN        NaN\n"
     ]
    }
   ],
   "source": [
    "import pandas as pd\n",
    "\n",
    "df1 = pd.read_excel('document.xlsx')\n",
    "\n",
    "print(df1.head())\n"
   ]
  },
  {
   "cell_type": "markdown",
   "metadata": {},
   "source": [
    "    Then lets cut it in half"
   ]
  },
  {
   "cell_type": "code",
   "execution_count": 32,
   "metadata": {},
   "outputs": [
    {
     "name": "stdout",
     "output_type": "stream",
     "text": [
      "First half (df2a):\n",
      "  Ser     Category             SubCategory Unnamed: 3\n",
      "0   1  Agriculture                     NaN        NaN\n",
      "1   2          NaN  Agricultural Equipment        NaN\n",
      "2   3          NaN                     NaN        NaN\n",
      "3   4          NaN                     NaN        NaN\n",
      "4   5          NaN                     NaN        NaN\n",
      "\n",
      "Second half (df2b):\n",
      "                        Ser Category SubCategory         Unnamed: 3\n",
      "0            SubSubCategory      NaN         NaN  SubSubSubCategory\n",
      "1                       NaN      NaN         NaN                NaN\n",
      "2                       NaN      NaN         NaN                NaN\n",
      "3  Agricultural Greenhouses      NaN         NaN                NaN\n",
      "4     Aquaculture Equipment      NaN         NaN                NaN\n"
     ]
    }
   ],
   "source": [
    "midpoint = len(df1) // 2\n",
    "\n",
    "df2a = df1.iloc[:midpoint].reset_index(drop=True)\n",
    "df2b = df1.iloc[midpoint:].reset_index(drop=True)\n",
    "\n",
    "print(\"First half (df2a):\"); print(df2a.head())\n",
    "\n",
    "print(\"\\nSecond half (df2b):\"); print(df2b.head())"
   ]
  },
  {
   "cell_type": "markdown",
   "metadata": {},
   "source": [
    "    df2b doesn't look that good, lets fix that"
   ]
  },
  {
   "cell_type": "code",
   "execution_count": 33,
   "metadata": {},
   "outputs": [
    {
     "name": "stdout",
     "output_type": "stream",
     "text": [
      "              SubSubCategory            SubSubSubCategory\n",
      "1                        NaN                          NaN\n",
      "2                        NaN                          NaN\n",
      "3   Agricultural Greenhouses                          NaN\n",
      "4      Aquaculture Equipment                          NaN\n",
      "5                        NaN             Aquaculture Trap\n",
      "6                        NaN                Fishing Float\n",
      "7                        NaN                  Fishing Net\n",
      "8                        NaN                 Fishing Rope\n",
      "9                        NaN  Other Aquaculture Equipment\n",
      "10                   Ear Tag                          NaN\n",
      "11                       NaN                          NaN\n",
      "12                      Peat                          NaN\n",
      "13                       NaN                          NaN\n",
      "14                       NaN                          NaN\n",
      "15                       NaN                          NaN\n"
     ]
    }
   ],
   "source": [
    "df2b = df2b.drop(['Category', 'SubCategory'], axis=1) # drop na collumns\n",
    "df2b = df2b.iloc[1:] # remove unneccesary row with innacurate names\n",
    "# df2a.rename({\"Ser\": \"SubSubCategory\", \"Unnamed: 3\": \"SubSubSubCategory\"}, axis='columns')\n",
    "df2b.columns = ['SubSubCategory', 'SubSubSubCategory']\n",
    "\n",
    "print(df2b.head(15))"
   ]
  },
  {
   "cell_type": "markdown",
   "metadata": {},
   "source": [
    "    And while we're at it lets clean up df2a"
   ]
  },
  {
   "cell_type": "code",
   "execution_count": 34,
   "metadata": {},
   "outputs": [
    {
     "name": "stdout",
     "output_type": "stream",
     "text": [
      "   Ser     Category                 SubCategory\n",
      "0    1  Agriculture                         NaN\n",
      "1    2          NaN      Agricultural Equipment\n",
      "2    3          NaN                         NaN\n",
      "3    4          NaN                         NaN\n",
      "4    5          NaN                         NaN\n",
      "5    6          NaN                         NaN\n",
      "6    7          NaN                         NaN\n",
      "7    8          NaN                         NaN\n",
      "8    9          NaN                         NaN\n",
      "9   10          NaN                         NaN\n",
      "10  11          NaN  Agricultural Growing Media\n",
      "11  12          NaN                         NaN\n",
      "12  13          NaN  Agricultural Product Stock\n",
      "13  14          NaN          Agricultural Waste\n",
      "14  15          NaN              Animal Extract\n"
     ]
    }
   ],
   "source": [
    "df2a = df2a.drop(['Unnamed: 3'], axis=1) # drop\n",
    "\n",
    "print(df2a.head(15))"
   ]
  },
  {
   "cell_type": "markdown",
   "metadata": {},
   "source": []
  }
 ],
 "metadata": {
  "kernelspec": {
   "display_name": "Python 3",
   "language": "python",
   "name": "python3"
  },
  "language_info": {
   "codemirror_mode": {
    "name": "ipython",
    "version": 3
   },
   "file_extension": ".py",
   "mimetype": "text/x-python",
   "name": "python",
   "nbconvert_exporter": "python",
   "pygments_lexer": "ipython3",
   "version": "3.12.3"
  }
 },
 "nbformat": 4,
 "nbformat_minor": 2
}
