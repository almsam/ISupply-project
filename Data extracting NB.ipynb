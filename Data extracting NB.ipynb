{
 "cells": [
  {
   "cell_type": "code",
   "execution_count": null,
   "metadata": {},
   "outputs": [],
   "source": [
    "import pandas as pd\n",
    "\n",
    "# read txt\n",
    "with open('castToTxt.txt', 'r') as file:\n",
    "    lines = file.readlines()\n",
    "\n",
    "# using a DF\n",
    "data = []\n",
    "\n"
   ]
  }
 ],
 "metadata": {
  "language_info": {
   "name": "python"
  }
 },
 "nbformat": 4,
 "nbformat_minor": 2
}
