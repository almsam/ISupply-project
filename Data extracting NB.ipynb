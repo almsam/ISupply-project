{
 "cells": [
  {
   "cell_type": "code",
   "execution_count": 1,
   "metadata": {},
   "outputs": [
    {
     "ename": "ValueError",
     "evalue": "invalid literal for int() with base 10: '1011Computer'",
     "output_type": "error",
     "traceback": [
      "\u001b[1;31m---------------------------------------------------------------------------\u001b[0m",
      "\u001b[1;31mValueError\u001b[0m                                Traceback (most recent call last)",
      "Cell \u001b[1;32mIn[1], line 19\u001b[0m\n\u001b[0;32m     17\u001b[0m     \u001b[38;5;28;01melif\u001b[39;00m \u001b[38;5;28mlen\u001b[39m(parts) \u001b[38;5;241m==\u001b[39m \u001b[38;5;241m3\u001b[39m:\n\u001b[0;32m     18\u001b[0m         ser, category, sub_category \u001b[38;5;241m=\u001b[39m parts\n\u001b[1;32m---> 19\u001b[0m     data\u001b[38;5;241m.\u001b[39mappend([\u001b[38;5;28;43mint\u001b[39;49m\u001b[43m(\u001b[49m\u001b[43mser\u001b[49m\u001b[43m)\u001b[49m, category, sub_category])\n\u001b[0;32m     21\u001b[0m \u001b[38;5;66;03m# add tp DF\u001b[39;00m\n\u001b[0;32m     22\u001b[0m df \u001b[38;5;241m=\u001b[39m pd\u001b[38;5;241m.\u001b[39mDataFrame(data, columns\u001b[38;5;241m=\u001b[39m[\u001b[38;5;124m'\u001b[39m\u001b[38;5;124mSer\u001b[39m\u001b[38;5;124m'\u001b[39m, \u001b[38;5;124m'\u001b[39m\u001b[38;5;124mCategory\u001b[39m\u001b[38;5;124m'\u001b[39m, \u001b[38;5;124m'\u001b[39m\u001b[38;5;124mSubCategory\u001b[39m\u001b[38;5;124m'\u001b[39m])\n",
      "\u001b[1;31mValueError\u001b[0m: invalid literal for int() with base 10: '1011Computer'"
     ]
    }
   ],
   "source": [
    "import pandas as pd\n",
    "\n",
    "# read txt\n",
    "with open('castToTxt.txt', 'r') as file:\n",
    "    lines = file.readlines()\n",
    "\n",
    "# using a DF\n",
    "data = []\n",
    "\n",
    "\n",
    "# skip head line\n",
    "for line in lines[1:]:\n",
    "    parts = line.split(maxsplit=2)  # split into 3 parts: Ser, Category, SubCategory\n",
    "    if len(parts) == 1:\n",
    "        # only Ser, no Category or SubCategory\n",
    "        ser = parts[0]\n",
    "        category = None\n",
    "        sub_category = None\n",
    "    if len(parts) == 2: # SubCategory missing\n",
    "        ser, category = parts\n",
    "        sub_category = None\n",
    "    elif len(parts) == 3:\n",
    "        ser, category, sub_category = parts\n",
    "    \n",
    "    try:\n",
    "        ser = int(ser)\n",
    "    except ValueError:\n",
    "        continue\n",
    "    \n",
    "    data.append([ser, category, sub_category])\n",
    "    # data.append([int(ser), category, sub_category])\n",
    "\n",
    "# add tp DF\n",
    "df = pd.DataFrame(data, columns=['Ser', 'Category', 'SubCategory'])\n",
    "\n",
    "# print df\n",
    "print(df)"
   ]
  }
 ],
 "metadata": {
  "kernelspec": {
   "display_name": "Python 3",
   "language": "python",
   "name": "python3"
  },
  "language_info": {
   "codemirror_mode": {
    "name": "ipython",
    "version": 3
   },
   "file_extension": ".py",
   "mimetype": "text/x-python",
   "name": "python",
   "nbconvert_exporter": "python",
   "pygments_lexer": "ipython3",
   "version": "3.12.3"
  }
 },
 "nbformat": 4,
 "nbformat_minor": 2
}
