{
 "cells": [
  {
   "cell_type": "markdown",
   "metadata": {},
   "source": [
    "# Converting the PDF to Excel\n",
    "\n",
    "### first attempt, simple but too intutitive"
   ]
  },
  {
   "cell_type": "code",
   "execution_count": 1,
   "metadata": {},
   "outputs": [
    {
     "data": {
      "text/html": [
       "<div>\n",
       "<style scoped>\n",
       "    .dataframe tbody tr th:only-of-type {\n",
       "        vertical-align: middle;\n",
       "    }\n",
       "\n",
       "    .dataframe tbody tr th {\n",
       "        vertical-align: top;\n",
       "    }\n",
       "\n",
       "    .dataframe thead th {\n",
       "        text-align: right;\n",
       "    }\n",
       "</style>\n",
       "<table border=\"1\" class=\"dataframe\">\n",
       "  <thead>\n",
       "    <tr style=\"text-align: right;\">\n",
       "      <th></th>\n",
       "      <th>Ser</th>\n",
       "      <th>Category</th>\n",
       "      <th>SubCategory</th>\n",
       "    </tr>\n",
       "  </thead>\n",
       "  <tbody>\n",
       "    <tr>\n",
       "      <th>0</th>\n",
       "      <td>1</td>\n",
       "      <td>Agriculture</td>\n",
       "      <td>None</td>\n",
       "    </tr>\n",
       "    <tr>\n",
       "      <th>1</th>\n",
       "      <td>2</td>\n",
       "      <td>Agricultural</td>\n",
       "      <td>Equipment\\n</td>\n",
       "    </tr>\n",
       "    <tr>\n",
       "      <th>2</th>\n",
       "      <td>3</td>\n",
       "      <td>None</td>\n",
       "      <td>None</td>\n",
       "    </tr>\n",
       "    <tr>\n",
       "      <th>3</th>\n",
       "      <td>4</td>\n",
       "      <td>None</td>\n",
       "      <td>None</td>\n",
       "    </tr>\n",
       "    <tr>\n",
       "      <th>4</th>\n",
       "      <td>5</td>\n",
       "      <td>None</td>\n",
       "      <td>None</td>\n",
       "    </tr>\n",
       "    <tr>\n",
       "      <th>5</th>\n",
       "      <td>6</td>\n",
       "      <td>None</td>\n",
       "      <td>None</td>\n",
       "    </tr>\n",
       "    <tr>\n",
       "      <th>6</th>\n",
       "      <td>7</td>\n",
       "      <td>None</td>\n",
       "      <td>None</td>\n",
       "    </tr>\n",
       "    <tr>\n",
       "      <th>7</th>\n",
       "      <td>8</td>\n",
       "      <td>None</td>\n",
       "      <td>None</td>\n",
       "    </tr>\n",
       "    <tr>\n",
       "      <th>8</th>\n",
       "      <td>9</td>\n",
       "      <td>None</td>\n",
       "      <td>None</td>\n",
       "    </tr>\n",
       "    <tr>\n",
       "      <th>9</th>\n",
       "      <td>10</td>\n",
       "      <td>None</td>\n",
       "      <td>None</td>\n",
       "    </tr>\n",
       "    <tr>\n",
       "      <th>10</th>\n",
       "      <td>11</td>\n",
       "      <td>Agricultural</td>\n",
       "      <td>Growing Media\\n</td>\n",
       "    </tr>\n",
       "    <tr>\n",
       "      <th>11</th>\n",
       "      <td>12</td>\n",
       "      <td>None</td>\n",
       "      <td>None</td>\n",
       "    </tr>\n",
       "    <tr>\n",
       "      <th>12</th>\n",
       "      <td>13</td>\n",
       "      <td>Agricultural</td>\n",
       "      <td>Product Stock\\n</td>\n",
       "    </tr>\n",
       "    <tr>\n",
       "      <th>13</th>\n",
       "      <td>14</td>\n",
       "      <td>Agricultural</td>\n",
       "      <td>Waste\\n</td>\n",
       "    </tr>\n",
       "    <tr>\n",
       "      <th>14</th>\n",
       "      <td>15</td>\n",
       "      <td>Animal</td>\n",
       "      <td>Extract\\n</td>\n",
       "    </tr>\n",
       "  </tbody>\n",
       "</table>\n",
       "</div>"
      ],
      "text/plain": [
       "    Ser      Category      SubCategory\n",
       "0     1   Agriculture             None\n",
       "1     2  Agricultural      Equipment\\n\n",
       "2     3          None             None\n",
       "3     4          None             None\n",
       "4     5          None             None\n",
       "5     6          None             None\n",
       "6     7          None             None\n",
       "7     8          None             None\n",
       "8     9          None             None\n",
       "9    10          None             None\n",
       "10   11  Agricultural  Growing Media\\n\n",
       "11   12          None             None\n",
       "12   13  Agricultural  Product Stock\\n\n",
       "13   14  Agricultural          Waste\\n\n",
       "14   15        Animal        Extract\\n"
      ]
     },
     "execution_count": 1,
     "metadata": {},
     "output_type": "execute_result"
    }
   ],
   "source": [
    "import pandas as pd\n",
    "\n",
    "# read txt\n",
    "with open('castToTxt.txt', 'r') as file:\n",
    "    lines = file.readlines()\n",
    "\n",
    "# using a DF\n",
    "data = []\n",
    "\n",
    "\n",
    "# skip head line\n",
    "for line in lines[1:]:\n",
    "    parts = line.split(maxsplit=2)  # split into 3 parts: Ser, Category, SubCategory\n",
    "    if len(parts) == 1:\n",
    "        # only Ser, no Category or SubCategory\n",
    "        ser = parts[0]\n",
    "        category = None\n",
    "        sub_category = None\n",
    "    if len(parts) == 2: # SubCategory missing\n",
    "        ser, category = parts\n",
    "        sub_category = None\n",
    "    elif len(parts) == 3:\n",
    "        ser, category, sub_category = parts\n",
    "    \n",
    "    try:\n",
    "        ser = int(ser)\n",
    "    except ValueError:\n",
    "        continue\n",
    "    \n",
    "    data.append([ser, category, sub_category])\n",
    "    # data.append([int(ser), category, sub_category])\n",
    "\n",
    "# add tp DF\n",
    "df = pd.DataFrame(data, columns=['Ser', 'Category', 'SubCategory'])\n",
    "\n",
    "# print df\n",
    "df.head(15)"
   ]
  },
  {
   "cell_type": "code",
   "execution_count": 2,
   "metadata": {},
   "outputs": [
    {
     "name": "stdout",
     "output_type": "stream",
     "text": [
      "DataFrame saved to output.xlsx\n"
     ]
    }
   ],
   "source": [
    "df.to_excel('output.xlsx', index=False)\n",
    "\n",
    "print(\"DataFrame saved to output.xlsx\")"
   ]
  },
  {
   "cell_type": "markdown",
   "metadata": {},
   "source": [
    "    It looks like we have a skeleton, but a few issues exist, lets see if we can get subcategory to work\n",
    "\n",
    "### Second attempt, Categories & Sub categories only\n",
    "\n",
    "    we will start out with the first 1/2, spliting categories & subcategories "
   ]
  },
  {
   "cell_type": "code",
   "execution_count": 3,
   "metadata": {},
   "outputs": [],
   "source": [
    "import re # allows multiple words\n",
    "\n",
    "with open('castToTxtFirst.txt', 'r') as file:\n",
    "    lines = file.readlines()\n",
    "\n",
    "# list of SER values that should be categories\n",
    "category_ser_list = [\n",
    "    1, 152, 341, 535, 749, 927, 1011, 1070, 1316, 1384, 1467, 1511, 1545, 1560, \n",
    "    1566, 1645, 1815, 1950, 1994, 2017, 2074, 2344, 2513, 2580, 2633, 3039, \n",
    "    3121, 3207, 3388, 3549, 3604, 3680, 3764, 3819, 3872, 4070, 4122, 4260, \n",
    "    4316, 4406, 4476\n",
    "]\n",
    "\n",
    "# category_ser_list = list(range(1, 4596))  # SER values 1 to 20 as categories\n",
    "\n",
    "data = []\n",
    "current_category = None\n",
    "\n",
    "# # each line\n",
    "for line in lines[1:]:\n",
    "    \n",
    "    line = line.strip()             # keeps empty lines\n",
    "    if not line:  # check for empty lines\n",
    "        data.append([None, None, None])\n",
    "        continue\n",
    "    \n",
    "    match = re.match(r'(\\d+)\\s+(.*)', line)\n",
    "    if not match:\n",
    "        continue\n",
    "    \n",
    "    ser = int(match.group(1))\n",
    "    sub_category = match.group(2)\n",
    "    \n",
    "    if ser in category_ser_list:\n",
    "        current_category = sub_category\n",
    "        data.append([ser, None, current_category])\n",
    "    else:\n",
    "        category = current_category\n",
    "        data.append([ser, category, sub_category])\n",
    "\n",
    "df = pd.DataFrame(data, columns=['Ser', 'Category', 'SubCategory'])\n"
   ]
  },
  {
   "cell_type": "markdown",
   "metadata": {},
   "source": [
    "    This section of code makes sure empty columns for a future subsub category & subsubsub category are included"
   ]
  },
  {
   "cell_type": "code",
   "execution_count": 4,
   "metadata": {},
   "outputs": [],
   "source": [
    "all_ser_values = list(range(1, 4596))\n",
    "\n",
    "missing_data = {\n",
    "    'Ser': [],\n",
    "    'Category': [],\n",
    "    'SubCategory': []\n",
    "}\n",
    "\n",
    "existing_sers = set(df['Ser'])\n",
    "for ser in all_ser_values:\n",
    "    if ser in existing_sers:\n",
    "        continue  # skip if SER already exists\n",
    "    \n",
    "    missing_data['Ser'].append(ser)\n",
    "    missing_data['Category'].append(None)\n",
    "    missing_data['SubCategory'].append(None)\n",
    "\n",
    "# append missing data & sort\n",
    "missing_df = pd.DataFrame(missing_data)\n",
    "df = pd.concat([df, missing_df], ignore_index=True)\n",
    "df = df.sort_values(by='Ser')"
   ]
  },
  {
   "cell_type": "markdown",
   "metadata": {},
   "source": [
    "    This section fixes the final formatting error (category names being misaligned)"
   ]
  },
  {
   "cell_type": "code",
   "execution_count": 5,
   "metadata": {},
   "outputs": [],
   "source": [
    "category_ser_list = [\n",
    "    1, 152, 341, 535, 749, 927, 1011, 1070, 1316, 1384, 1467, 1511, 1545, 1560, \n",
    "    1566, 1645, 1815, 1950, 1994, 2017, 2074, 2344, 2513, 2580, 2633, 3039, \n",
    "    3121, 3207, 3388, 3549, 3604, 3680, 3764, 3819, 3872, 4070, 4122, 4260, \n",
    "    4316, 4406, 4476\n",
    "]\n",
    "\n",
    "# update category names in DF\n",
    "for index, row in df.iterrows():\n",
    "    if row['Ser'] in category_ser_list:\n",
    "        category_name = row['SubCategory']\n",
    "        df.at[index, 'Category'] = category_name\n",
    "        df.at[index, 'SubCategory'] = ''"
   ]
  },
  {
   "cell_type": "markdown",
   "metadata": {},
   "source": [
    "    & finally this one commits it to Excel"
   ]
  },
  {
   "cell_type": "code",
   "execution_count": 6,
   "metadata": {},
   "outputs": [
    {
     "name": "stdout",
     "output_type": "stream",
     "text": [
      "DataFrame saved to output.xlsx\n"
     ]
    }
   ],
   "source": [
    "\n",
    "df.to_excel('output2a.xlsx', index=False)\n",
    "\n",
    "print(\"DataFrame saved to output.xlsx\")"
   ]
  },
  {
   "cell_type": "markdown",
   "metadata": {},
   "source": [
    "    We have 1 more job left in this section, this was manually done by using the array of category SER's, we will need a similar array before section 3"
   ]
  },
  {
   "cell_type": "code",
   "execution_count": 7,
   "metadata": {},
   "outputs": [
    {
     "name": "stdout",
     "output_type": "stream",
     "text": [
      "       Ser\n",
      "909      3\n",
      "910      4\n",
      "911      5\n",
      "912      6\n",
      "913      7\n",
      "...    ...\n",
      "4590  4591\n",
      "4591  4592\n",
      "4592  4593\n",
      "4593  4594\n",
      "4594  4595\n",
      "\n",
      "[3686 rows x 1 columns]\n"
     ]
    }
   ],
   "source": [
    "filtered_values = pd.DataFrame(df)\n",
    "\n",
    "for x in filtered_values.index:\n",
    "    if filtered_values.loc[x, 'Category'] != None:\n",
    "        filtered_values.drop(x, inplace = True)\n",
    "filtered_values = filtered_values.drop(['Category', 'SubCategory'], axis=1)\n",
    "filtered_values.values.flatten()\n",
    "\n",
    "print(filtered_values)\n"
   ]
  },
  {
   "cell_type": "markdown",
   "metadata": {},
   "source": [
    "### Third attempt, Sub Sub (Categories & Sub Categories)\n",
    "\n",
    "    Now lets try again with the sub sub category"
   ]
  },
  {
   "cell_type": "code",
   "execution_count": 8,
   "metadata": {},
   "outputs": [
    {
     "data": {
      "text/html": [
       "<div>\n",
       "<style scoped>\n",
       "    .dataframe tbody tr th:only-of-type {\n",
       "        vertical-align: middle;\n",
       "    }\n",
       "\n",
       "    .dataframe tbody tr th {\n",
       "        vertical-align: top;\n",
       "    }\n",
       "\n",
       "    .dataframe thead th {\n",
       "        text-align: right;\n",
       "    }\n",
       "</style>\n",
       "<table border=\"1\" class=\"dataframe\">\n",
       "  <thead>\n",
       "    <tr style=\"text-align: right;\">\n",
       "      <th></th>\n",
       "      <th>Ser</th>\n",
       "      <th>Category</th>\n",
       "      <th>SubCategory</th>\n",
       "      <th>SubSubCategory</th>\n",
       "    </tr>\n",
       "  </thead>\n",
       "  <tbody>\n",
       "    <tr>\n",
       "      <th>0</th>\n",
       "      <td>1</td>\n",
       "      <td>None</td>\n",
       "      <td>Agricultural</td>\n",
       "      <td>Greenhouses</td>\n",
       "    </tr>\n",
       "    <tr>\n",
       "      <th>1</th>\n",
       "      <td>2</td>\n",
       "      <td>None</td>\n",
       "      <td>Aquaculture</td>\n",
       "      <td>Equipment</td>\n",
       "    </tr>\n",
       "    <tr>\n",
       "      <th>2</th>\n",
       "      <td>3</td>\n",
       "      <td>None</td>\n",
       "      <td>Aquaculture</td>\n",
       "      <td>Trap</td>\n",
       "    </tr>\n",
       "    <tr>\n",
       "      <th>3</th>\n",
       "      <td>4</td>\n",
       "      <td>None</td>\n",
       "      <td>Fishing</td>\n",
       "      <td>Float</td>\n",
       "    </tr>\n",
       "    <tr>\n",
       "      <th>4</th>\n",
       "      <td>5</td>\n",
       "      <td>None</td>\n",
       "      <td>Fishing</td>\n",
       "      <td>Net</td>\n",
       "    </tr>\n",
       "    <tr>\n",
       "      <th>5</th>\n",
       "      <td>6</td>\n",
       "      <td>None</td>\n",
       "      <td>Fishing</td>\n",
       "      <td>Rope</td>\n",
       "    </tr>\n",
       "    <tr>\n",
       "      <th>6</th>\n",
       "      <td>7</td>\n",
       "      <td>Other</td>\n",
       "      <td>Aquaculture</td>\n",
       "      <td>Equipment\\n</td>\n",
       "    </tr>\n",
       "    <tr>\n",
       "      <th>7</th>\n",
       "      <td>8</td>\n",
       "      <td>None</td>\n",
       "      <td>Ear</td>\n",
       "      <td>Tag</td>\n",
       "    </tr>\n",
       "    <tr>\n",
       "      <th>8</th>\n",
       "      <td>9</td>\n",
       "      <td>None</td>\n",
       "      <td>Peat</td>\n",
       "      <td>None</td>\n",
       "    </tr>\n",
       "    <tr>\n",
       "      <th>9</th>\n",
       "      <td>10</td>\n",
       "      <td>None</td>\n",
       "      <td>Eggs</td>\n",
       "      <td>None</td>\n",
       "    </tr>\n",
       "    <tr>\n",
       "      <th>10</th>\n",
       "      <td>11</td>\n",
       "      <td>Fowl</td>\n",
       "      <td>&amp;</td>\n",
       "      <td>Livestock\\n</td>\n",
       "    </tr>\n",
       "    <tr>\n",
       "      <th>11</th>\n",
       "      <td>12</td>\n",
       "      <td>None</td>\n",
       "      <td>Cacao</td>\n",
       "      <td>None</td>\n",
       "    </tr>\n",
       "    <tr>\n",
       "      <th>12</th>\n",
       "      <td>13</td>\n",
       "      <td>None</td>\n",
       "      <td>Coffee</td>\n",
       "      <td>Beans</td>\n",
       "    </tr>\n",
       "    <tr>\n",
       "      <th>13</th>\n",
       "      <td>14</td>\n",
       "      <td>None</td>\n",
       "      <td>Vanilla</td>\n",
       "      <td>Beans</td>\n",
       "    </tr>\n",
       "    <tr>\n",
       "      <th>14</th>\n",
       "      <td>15</td>\n",
       "      <td>None</td>\n",
       "      <td>Broad</td>\n",
       "      <td>Beans</td>\n",
       "    </tr>\n",
       "  </tbody>\n",
       "</table>\n",
       "</div>"
      ],
      "text/plain": [
       "    Ser Category   SubCategory SubSubCategory\n",
       "0     1     None  Agricultural    Greenhouses\n",
       "1     2     None   Aquaculture      Equipment\n",
       "2     3     None   Aquaculture           Trap\n",
       "3     4     None       Fishing          Float\n",
       "4     5     None       Fishing            Net\n",
       "5     6     None       Fishing           Rope\n",
       "6     7    Other   Aquaculture    Equipment\\n\n",
       "7     8     None           Ear            Tag\n",
       "8     9     None          Peat           None\n",
       "9    10     None          Eggs           None\n",
       "10   11     Fowl             &    Livestock\\n\n",
       "11   12     None         Cacao           None\n",
       "12   13     None        Coffee          Beans\n",
       "13   14     None       Vanilla          Beans\n",
       "14   15     None         Broad          Beans"
      ]
     },
     "execution_count": 8,
     "metadata": {},
     "output_type": "execute_result"
    }
   ],
   "source": [
    "with open('castToTxtSecond.txt', 'r') as file:\n",
    "    lines = file.readlines()\n",
    "\n",
    "# using a DF\n",
    "data = []\n",
    "ser_counter = 1 \n",
    "\n",
    "# skip head line\n",
    "for line in lines[1:]:\n",
    "    parts = line.split(maxsplit=2)  # split into 3 parts: Ser, Category, SubCategory\n",
    "    \n",
    "    if len(parts) == 1:\n",
    "        # only Ser, no Category or SubCategory\n",
    "        sub_category = parts[0]\n",
    "        category = None\n",
    "        sub_sub_category = None\n",
    "    if len(parts) == 2: # SubCategory missing\n",
    "        sub_category, sub_sub_category = parts\n",
    "        category = None\n",
    "    elif len(parts) == 3:\n",
    "        category, sub_category, sub_sub_category = parts\n",
    "    \n",
    "    # try:\n",
    "    #     ser = int(ser)\n",
    "    # except ValueError:\n",
    "    #     continue\n",
    "    \n",
    "    data.append([ser_counter, category, sub_category, sub_sub_category])\n",
    "    ser_counter += 1\n",
    "\n",
    "# add tp DF\n",
    "df2 = pd.DataFrame(data, columns=['Ser', 'Category', 'SubCategory', 'SubSubCategory'])\n",
    "\n",
    "# print df\n",
    "df2.head(15)"
   ]
  },
  {
   "cell_type": "markdown",
   "metadata": {},
   "source": [
    "    The categorization is now split, & our ser is not supposed to be there, lets fix that"
   ]
  },
  {
   "cell_type": "code",
   "execution_count": 9,
   "metadata": {},
   "outputs": [
    {
     "name": "stdout",
     "output_type": "stream",
     "text": [
      "    Ser               SubSubCategory\n",
      "0     1     Agricultural Greenhouses\n",
      "1     2        Aquaculture Equipment\n",
      "2     3             Aquaculture Trap\n",
      "3     4                Fishing Float\n",
      "4     5                  Fishing Net\n",
      "5     6                 Fishing Rope\n",
      "6     7  Other Aquaculture Equipment\n",
      "7     8                      Ear Tag\n",
      "8     9                         Peat\n",
      "9    10                         Eggs\n",
      "10   11             Fowl & Livestock\n",
      "11   12                        Cacao\n",
      "12   13                 Coffee Beans\n",
      "13   14                Vanilla Beans\n",
      "14   15                  Broad Beans\n"
     ]
    }
   ],
   "source": [
    "df2.fillna('', inplace=True)\n",
    "\n",
    "df2['SubSubCategory'] = df2['Category'] + ' ' + df2['SubCategory'] + ' ' + df2['SubSubCategory']\n",
    "df2['SubSubCategory'] = df2['SubSubCategory'].str.strip()\n",
    "df2 = df2[['Ser', 'SubSubCategory']]\n",
    "\n",
    "print(df2.head(15))"
   ]
  },
  {
   "cell_type": "code",
   "execution_count": 10,
   "metadata": {},
   "outputs": [
    {
     "data": {
      "text/html": [
       "<div>\n",
       "<style scoped>\n",
       "    .dataframe tbody tr th:only-of-type {\n",
       "        vertical-align: middle;\n",
       "    }\n",
       "\n",
       "    .dataframe tbody tr th {\n",
       "        vertical-align: top;\n",
       "    }\n",
       "\n",
       "    .dataframe thead th {\n",
       "        text-align: right;\n",
       "    }\n",
       "</style>\n",
       "<table border=\"1\" class=\"dataframe\">\n",
       "  <thead>\n",
       "    <tr style=\"text-align: right;\">\n",
       "      <th></th>\n",
       "      <th>SubSubCategory</th>\n",
       "    </tr>\n",
       "  </thead>\n",
       "  <tbody>\n",
       "    <tr>\n",
       "      <th>0</th>\n",
       "      <td>Agricultural Greenhouses</td>\n",
       "    </tr>\n",
       "    <tr>\n",
       "      <th>1</th>\n",
       "      <td>Aquaculture Equipment</td>\n",
       "    </tr>\n",
       "    <tr>\n",
       "      <th>2</th>\n",
       "      <td>Aquaculture Trap</td>\n",
       "    </tr>\n",
       "    <tr>\n",
       "      <th>3</th>\n",
       "      <td>Fishing Float</td>\n",
       "    </tr>\n",
       "    <tr>\n",
       "      <th>4</th>\n",
       "      <td>Fishing Net</td>\n",
       "    </tr>\n",
       "    <tr>\n",
       "      <th>...</th>\n",
       "      <td>...</td>\n",
       "    </tr>\n",
       "    <tr>\n",
       "      <th>3618</th>\n",
       "      <td>Truck Steering</td>\n",
       "    </tr>\n",
       "    <tr>\n",
       "      <th>3619</th>\n",
       "      <td>Truck Suspension</td>\n",
       "    </tr>\n",
       "    <tr>\n",
       "      <th>3620</th>\n",
       "      <td>Truck Tire</td>\n",
       "    </tr>\n",
       "    <tr>\n",
       "      <th>3621</th>\n",
       "      <td>Truck Transmission</td>\n",
       "    </tr>\n",
       "    <tr>\n",
       "      <th>3622</th>\n",
       "      <td>Truck Wheel</td>\n",
       "    </tr>\n",
       "  </tbody>\n",
       "</table>\n",
       "<p>3623 rows × 1 columns</p>\n",
       "</div>"
      ],
      "text/plain": [
       "                SubSubCategory\n",
       "0     Agricultural Greenhouses\n",
       "1        Aquaculture Equipment\n",
       "2             Aquaculture Trap\n",
       "3                Fishing Float\n",
       "4                  Fishing Net\n",
       "...                        ...\n",
       "3618            Truck Steering\n",
       "3619          Truck Suspension\n",
       "3620                Truck Tire\n",
       "3621        Truck Transmission\n",
       "3622               Truck Wheel\n",
       "\n",
       "[3623 rows x 1 columns]"
      ]
     },
     "execution_count": 10,
     "metadata": {},
     "output_type": "execute_result"
    }
   ],
   "source": [
    "df2.drop(['Ser'], axis=1)"
   ]
  },
  {
   "cell_type": "markdown",
   "metadata": {},
   "source": [
    "    Now lets take this to Excel"
   ]
  },
  {
   "cell_type": "code",
   "execution_count": 11,
   "metadata": {},
   "outputs": [
    {
     "name": "stdout",
     "output_type": "stream",
     "text": [
      "DataFrame 2b saved to output.xlsx\n"
     ]
    }
   ],
   "source": [
    "df2.to_excel('output2b.xlsx', index=False)\n",
    "\n",
    "print(\"DataFrame 2b saved to output.xlsx\")"
   ]
  },
  {
   "cell_type": "markdown",
   "metadata": {},
   "source": [
    "    Next step is to spread df2 out"
   ]
  },
  {
   "cell_type": "code",
   "execution_count": 12,
   "metadata": {},
   "outputs": [
    {
     "name": "stdout",
     "output_type": "stream",
     "text": [
      "       Ser     Category             SubCategory            SubSubCategory\n",
      "0        1  Agriculture                                                  \n",
      "1        2  Agriculture  Agricultural Equipment                          \n",
      "909      3         None                    None  Agricultural Greenhouses\n",
      "910      4         None                    None     Aquaculture Equipment\n",
      "911      5         None                    None          Aquaculture Trap\n",
      "...    ...          ...                     ...                       ...\n",
      "4590  4591         None                    None               Truck Wheel\n",
      "4591  4592         None                    None               Truck Wheel\n",
      "4592  4593         None                    None               Truck Wheel\n",
      "4593  4594         None                    None               Truck Wheel\n",
      "4594  4595         None                    None               Truck Wheel\n",
      "\n",
      "[4595 rows x 4 columns]\n"
     ]
    }
   ],
   "source": [
    "df3 = pd.DataFrame(df)\n",
    "\n",
    "df3['SubSubCategory'] = df3.apply(lambda _: '', axis=1)\n",
    "\n",
    "last_Cat = \"\"; last_Sub = \"\"; i = 0\n",
    "\n",
    "for x in df3.index:\n",
    "    last_Cat = df3.loc[x, 'Category']; last_Sub = df3.loc[x, 'SubCategory']\n",
    "    if df3.loc[x, 'Category'] == None:\n",
    "        df3.loc[x, 'Category'] = last_Cat\n",
    "        df3.loc[x, 'SubCategory'] = last_Sub\n",
    "        df3.loc[x, 'SubSubCategory'] = df2.loc[i, 'SubSubCategory']\n",
    "        if i < 3622:\n",
    "            i = i + 1\n",
    "\n",
    "print(df3)\n",
    "\n",
    "# last_Cat = df3.loc[21, 'Category']; last_Sub = df3.loc[x+1, 'SubCategory']\n",
    "\n",
    "# print(last_Cat)"
   ]
  },
  {
   "cell_type": "markdown",
   "metadata": {},
   "source": [
    "    And its extraction time"
   ]
  },
  {
   "cell_type": "code",
   "execution_count": 13,
   "metadata": {},
   "outputs": [
    {
     "name": "stdout",
     "output_type": "stream",
     "text": [
      "DataFrame 3 saved to output.xlsx\n"
     ]
    }
   ],
   "source": [
    "df3.to_excel('output3.xlsx', index=False)\n",
    "\n",
    "print(\"DataFrame 3 saved to output.xlsx\")"
   ]
  },
  {
   "cell_type": "markdown",
   "metadata": {},
   "source": [
    "### Fourth & final attempt, clean up:\n",
    "\n",
    "    Now we will attempt the tree implementation"
   ]
  },
  {
   "cell_type": "code",
   "execution_count": 15,
   "metadata": {},
   "outputs": [
    {
     "name": "stdout",
     "output_type": "stream",
     "text": [
      "       Ser        Category             SubCategory            SubSubCategory\n",
      "0        1     Agriculture                    <NA>                      <NA>\n",
      "1        2     Agriculture  Agricultural Equipment                      <NA>\n",
      "909      3     Agriculture  Agricultural Equipment  Agricultural Greenhouses\n",
      "910      4     Agriculture  Agricultural Equipment     Aquaculture Equipment\n",
      "911      5     Agriculture  Agricultural Equipment          Aquaculture Trap\n",
      "...    ...             ...                     ...                       ...\n",
      "4590  4591  Transportation             Truck Parts               Truck Wheel\n",
      "4591  4592  Transportation             Truck Parts               Truck Wheel\n",
      "4592  4593  Transportation             Truck Parts               Truck Wheel\n",
      "4593  4594  Transportation             Truck Parts               Truck Wheel\n",
      "4594  4595  Transportation             Truck Parts               Truck Wheel\n",
      "\n",
      "[4595 rows x 4 columns]\n"
     ]
    }
   ],
   "source": [
    "df4 = pd.DataFrame(df3)\n",
    "\n",
    "df4.replace('', pd.NA, inplace=True)\n",
    "\n",
    "# Apply forward fill to the 'Category' and 'SubCategory' columns\n",
    "df4[['Category', 'SubCategory']] = df4[['Category', 'SubCategory']].ffill()\n",
    "\n",
    "# Print the resulting DataFrame for verification\n",
    "print(df4)"
   ]
  }
 ],
 "metadata": {
  "kernelspec": {
   "display_name": "Python 3",
   "language": "python",
   "name": "python3"
  },
  "language_info": {
   "codemirror_mode": {
    "name": "ipython",
    "version": 3
   },
   "file_extension": ".py",
   "mimetype": "text/x-python",
   "name": "python",
   "nbconvert_exporter": "python",
   "pygments_lexer": "ipython3",
   "version": "3.12.3"
  }
 },
 "nbformat": 4,
 "nbformat_minor": 2
}
