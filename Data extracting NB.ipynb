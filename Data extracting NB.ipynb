{
 "cells": [
  {
   "cell_type": "code",
   "execution_count": null,
   "metadata": {},
   "outputs": [],
   "source": [
    "import pandas as pd\n",
    "\n",
    "# read txt\n",
    "with open('castToTxt.txt', 'r') as file:\n",
    "    lines = file.readlines()\n",
    "\n",
    "# using a DF\n",
    "data = []\n",
    "\n",
    "\n",
    "# skip head line\n",
    "for line in lines[1:]:\n",
    "    parts = line.split(maxsplit=2)  # split into 3 parts: Ser, Category, SubCategory\n",
    "    if len(parts) == 2: # SubCategory missing\n",
    "        ser, category = parts\n",
    "        sub_category = None\n",
    "    elif len(parts) == 3:\n",
    "        ser, category, sub_category = parts\n",
    "    data.append([int(ser), category, sub_category])\n",
    "\n",
    "# add tp DF\n",
    "df = pd.DataFrame(data, columns=['Ser', 'Category', 'SubCategory'])\n",
    "\n",
    "# print df\n",
    "print(df)"
   ]
  }
 ],
 "metadata": {
  "language_info": {
   "name": "python"
  }
 },
 "nbformat": 4,
 "nbformat_minor": 2
}
