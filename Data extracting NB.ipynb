{
 "cells": [
  {
   "cell_type": "code",
   "execution_count": 2,
   "metadata": {},
   "outputs": [
    {
     "name": "stdout",
     "output_type": "stream",
     "text": [
      "       Ser      Category                SubCategory\n",
      "0        1   Agriculture                       None\n",
      "1        2  Agricultural                Equipment\\n\n",
      "2        3          None                       None\n",
      "3        4          None                       None\n",
      "4        5          None                       None\n",
      "...    ...           ...                        ...\n",
      "4592  4594          None                       None\n",
      "4593  4595          None                       None\n",
      "4594  4596          None                       None\n",
      "4595     3            in  1 Breakfast Maker Parts\\n\n",
      "4596     3            in       1 Breakfast Makers\\n\n",
      "\n",
      "[4597 rows x 3 columns]\n"
     ]
    }
   ],
   "source": [
    "import pandas as pd\n",
    "\n",
    "# read txt\n",
    "with open('castToTxt.txt', 'r') as file:\n",
    "    lines = file.readlines()\n",
    "\n",
    "# using a DF\n",
    "data = []\n",
    "\n",
    "\n",
    "# skip head line\n",
    "for line in lines[1:]:\n",
    "    parts = line.split(maxsplit=2)  # split into 3 parts: Ser, Category, SubCategory\n",
    "    if len(parts) == 1:\n",
    "        # only Ser, no Category or SubCategory\n",
    "        ser = parts[0]\n",
    "        category = None\n",
    "        sub_category = None\n",
    "    if len(parts) == 2: # SubCategory missing\n",
    "        ser, category = parts\n",
    "        sub_category = None\n",
    "    elif len(parts) == 3:\n",
    "        ser, category, sub_category = parts\n",
    "    \n",
    "    try:\n",
    "        ser = int(ser)\n",
    "    except ValueError:\n",
    "        continue\n",
    "    \n",
    "    data.append([ser, category, sub_category])\n",
    "    # data.append([int(ser), category, sub_category])\n",
    "\n",
    "# add tp DF\n",
    "df = pd.DataFrame(data, columns=['Ser', 'Category', 'SubCategory'])\n",
    "\n",
    "# print df\n",
    "print(df)"
   ]
  }
 ],
 "metadata": {
  "kernelspec": {
   "display_name": "Python 3",
   "language": "python",
   "name": "python3"
  },
  "language_info": {
   "codemirror_mode": {
    "name": "ipython",
    "version": 3
   },
   "file_extension": ".py",
   "mimetype": "text/x-python",
   "name": "python",
   "nbconvert_exporter": "python",
   "pygments_lexer": "ipython3",
   "version": "3.12.3"
  }
 },
 "nbformat": 4,
 "nbformat_minor": 2
}
