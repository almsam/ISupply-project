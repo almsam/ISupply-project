{
 "cells": [
  {
   "cell_type": "markdown",
   "metadata": {},
   "source": [
    "# Converting the PDF to Excel\n",
    "\n",
    "### first attempt, simple but too intutitive"
   ]
  },
  {
   "cell_type": "code",
   "execution_count": 5,
   "metadata": {},
   "outputs": [
    {
     "data": {
      "text/html": [
       "<div>\n",
       "<style scoped>\n",
       "    .dataframe tbody tr th:only-of-type {\n",
       "        vertical-align: middle;\n",
       "    }\n",
       "\n",
       "    .dataframe tbody tr th {\n",
       "        vertical-align: top;\n",
       "    }\n",
       "\n",
       "    .dataframe thead th {\n",
       "        text-align: right;\n",
       "    }\n",
       "</style>\n",
       "<table border=\"1\" class=\"dataframe\">\n",
       "  <thead>\n",
       "    <tr style=\"text-align: right;\">\n",
       "      <th></th>\n",
       "      <th>Ser</th>\n",
       "      <th>Category</th>\n",
       "      <th>SubCategory</th>\n",
       "    </tr>\n",
       "  </thead>\n",
       "  <tbody>\n",
       "    <tr>\n",
       "      <th>0</th>\n",
       "      <td>1</td>\n",
       "      <td>Agriculture</td>\n",
       "      <td>None</td>\n",
       "    </tr>\n",
       "    <tr>\n",
       "      <th>1</th>\n",
       "      <td>2</td>\n",
       "      <td>Agricultural</td>\n",
       "      <td>Equipment\\n</td>\n",
       "    </tr>\n",
       "    <tr>\n",
       "      <th>2</th>\n",
       "      <td>3</td>\n",
       "      <td>None</td>\n",
       "      <td>None</td>\n",
       "    </tr>\n",
       "    <tr>\n",
       "      <th>3</th>\n",
       "      <td>4</td>\n",
       "      <td>None</td>\n",
       "      <td>None</td>\n",
       "    </tr>\n",
       "    <tr>\n",
       "      <th>4</th>\n",
       "      <td>5</td>\n",
       "      <td>None</td>\n",
       "      <td>None</td>\n",
       "    </tr>\n",
       "    <tr>\n",
       "      <th>5</th>\n",
       "      <td>6</td>\n",
       "      <td>None</td>\n",
       "      <td>None</td>\n",
       "    </tr>\n",
       "    <tr>\n",
       "      <th>6</th>\n",
       "      <td>7</td>\n",
       "      <td>None</td>\n",
       "      <td>None</td>\n",
       "    </tr>\n",
       "    <tr>\n",
       "      <th>7</th>\n",
       "      <td>8</td>\n",
       "      <td>None</td>\n",
       "      <td>None</td>\n",
       "    </tr>\n",
       "    <tr>\n",
       "      <th>8</th>\n",
       "      <td>9</td>\n",
       "      <td>None</td>\n",
       "      <td>None</td>\n",
       "    </tr>\n",
       "    <tr>\n",
       "      <th>9</th>\n",
       "      <td>10</td>\n",
       "      <td>None</td>\n",
       "      <td>None</td>\n",
       "    </tr>\n",
       "    <tr>\n",
       "      <th>10</th>\n",
       "      <td>11</td>\n",
       "      <td>Agricultural</td>\n",
       "      <td>Growing Media\\n</td>\n",
       "    </tr>\n",
       "    <tr>\n",
       "      <th>11</th>\n",
       "      <td>12</td>\n",
       "      <td>None</td>\n",
       "      <td>None</td>\n",
       "    </tr>\n",
       "    <tr>\n",
       "      <th>12</th>\n",
       "      <td>13</td>\n",
       "      <td>Agricultural</td>\n",
       "      <td>Product Stock\\n</td>\n",
       "    </tr>\n",
       "    <tr>\n",
       "      <th>13</th>\n",
       "      <td>14</td>\n",
       "      <td>Agricultural</td>\n",
       "      <td>Waste\\n</td>\n",
       "    </tr>\n",
       "    <tr>\n",
       "      <th>14</th>\n",
       "      <td>15</td>\n",
       "      <td>Animal</td>\n",
       "      <td>Extract\\n</td>\n",
       "    </tr>\n",
       "  </tbody>\n",
       "</table>\n",
       "</div>"
      ],
      "text/plain": [
       "    Ser      Category      SubCategory\n",
       "0     1   Agriculture             None\n",
       "1     2  Agricultural      Equipment\\n\n",
       "2     3          None             None\n",
       "3     4          None             None\n",
       "4     5          None             None\n",
       "5     6          None             None\n",
       "6     7          None             None\n",
       "7     8          None             None\n",
       "8     9          None             None\n",
       "9    10          None             None\n",
       "10   11  Agricultural  Growing Media\\n\n",
       "11   12          None             None\n",
       "12   13  Agricultural  Product Stock\\n\n",
       "13   14  Agricultural          Waste\\n\n",
       "14   15        Animal        Extract\\n"
      ]
     },
     "execution_count": 5,
     "metadata": {},
     "output_type": "execute_result"
    }
   ],
   "source": [
    "import pandas as pd\n",
    "\n",
    "# read txt\n",
    "with open('castToTxt.txt', 'r') as file:\n",
    "    lines = file.readlines()\n",
    "\n",
    "# using a DF\n",
    "data = []\n",
    "\n",
    "\n",
    "# skip head line\n",
    "for line in lines[1:]:\n",
    "    parts = line.split(maxsplit=2)  # split into 3 parts: Ser, Category, SubCategory\n",
    "    if len(parts) == 1:\n",
    "        # only Ser, no Category or SubCategory\n",
    "        ser = parts[0]\n",
    "        category = None\n",
    "        sub_category = None\n",
    "    if len(parts) == 2: # SubCategory missing\n",
    "        ser, category = parts\n",
    "        sub_category = None\n",
    "    elif len(parts) == 3:\n",
    "        ser, category, sub_category = parts\n",
    "    \n",
    "    try:\n",
    "        ser = int(ser)\n",
    "    except ValueError:\n",
    "        continue\n",
    "    \n",
    "    data.append([ser, category, sub_category])\n",
    "    # data.append([int(ser), category, sub_category])\n",
    "\n",
    "# add tp DF\n",
    "df = pd.DataFrame(data, columns=['Ser', 'Category', 'SubCategory'])\n",
    "\n",
    "# print df\n",
    "df.head(15)"
   ]
  },
  {
   "cell_type": "code",
   "execution_count": 7,
   "metadata": {},
   "outputs": [
    {
     "name": "stdout",
     "output_type": "stream",
     "text": [
      "DataFrame saved to output.xlsx\n"
     ]
    }
   ],
   "source": [
    "df.to_excel('output.xlsx', index=False)\n",
    "\n",
    "print(\"DataFrame saved to output.xlsx\")"
   ]
  },
  {
   "cell_type": "markdown",
   "metadata": {},
   "source": [
    "    It looks like we have a skeleton, but a few issues exist, lets see if we can get subcategory to work\n",
    "\n",
    "### Second attempt, Categories & Sub categories only\n",
    "\n",
    "    we will start out with the first 1/2, spliting categories & subcategories "
   ]
  },
  {
   "cell_type": "code",
   "execution_count": 29,
   "metadata": {},
   "outputs": [],
   "source": [
    "import re # allows multiple words\n",
    "\n",
    "with open('castToTxtFirst.txt', 'r') as file:\n",
    "    lines = file.readlines()\n",
    "\n",
    "# list of SER values that should be categories\n",
    "category_ser_list = [\n",
    "    1, 152, 341, 535, 749, 927, 1011, 1070, 1316, 1384, 1467, 1511, 1545, 1560, \n",
    "    1566, 1645, 1815, 1950, 1994, 2017, 2074, 2344, 2513, 2580, 2633, 3039, \n",
    "    3121, 3207, 3388, 3549, 3604, 3680, 3764, 3819, 3872, 4070, 4122, 4260, \n",
    "    4316, 4406, 4476\n",
    "]\n",
    "\n",
    "# category_ser_list = list(range(1, 4596))  # SER values 1 to 20 as categories\n",
    "\n",
    "data = []\n",
    "current_category = None\n",
    "\n",
    "# # each line\n",
    "for line in lines[1:]:\n",
    "    \n",
    "    line = line.strip()             # keeps empty lines\n",
    "    if not line:  # check for empty lines\n",
    "        data.append([None, None, None])\n",
    "        continue\n",
    "    \n",
    "    match = re.match(r'(\\d+)\\s+(.*)', line)\n",
    "    if not match:\n",
    "        continue\n",
    "    \n",
    "    ser = int(match.group(1))\n",
    "    sub_category = match.group(2)\n",
    "    \n",
    "    if ser in category_ser_list:\n",
    "        current_category = sub_category\n",
    "        data.append([ser, None, current_category])\n",
    "    else:\n",
    "        category = current_category\n",
    "        data.append([ser, category, sub_category])\n",
    "\n",
    "df = pd.DataFrame(data, columns=['Ser', 'Category', 'SubCategory'])\n"
   ]
  },
  {
   "cell_type": "markdown",
   "metadata": {},
   "source": [
    "    This section of code makes sure empty columns for a future subsub category & subsubsub category are included"
   ]
  },
  {
   "cell_type": "code",
   "execution_count": 30,
   "metadata": {},
   "outputs": [],
   "source": [
    "all_ser_values = list(range(1, 4596))\n",
    "\n",
    "missing_data = {\n",
    "    'Ser': [],\n",
    "    'Category': [],\n",
    "    'SubCategory': []\n",
    "}\n",
    "\n",
    "existing_sers = set(df['Ser'])\n",
    "for ser in all_ser_values:\n",
    "    if ser in existing_sers:\n",
    "        continue  # skip if SER already exists\n",
    "    \n",
    "    missing_data['Ser'].append(ser)\n",
    "    missing_data['Category'].append(None)\n",
    "    missing_data['SubCategory'].append(None)\n",
    "\n",
    "# append missing data & sort\n",
    "missing_df = pd.DataFrame(missing_data)\n",
    "df = pd.concat([df, missing_df], ignore_index=True)\n",
    "df = df.sort_values(by='Ser')"
   ]
  },
  {
   "cell_type": "markdown",
   "metadata": {},
   "source": [
    "    This section fixes the final formatting error (category names being misaligned)"
   ]
  },
  {
   "cell_type": "code",
   "execution_count": 31,
   "metadata": {},
   "outputs": [],
   "source": [
    "category_ser_list = [\n",
    "    1, 152, 341, 535, 749, 927, 1011, 1070, 1316, 1384, 1467, 1511, 1545, 1560, \n",
    "    1566, 1645, 1815, 1950, 1994, 2017, 2074, 2344, 2513, 2580, 2633, 3039, \n",
    "    3121, 3207, 3388, 3549, 3604, 3680, 3764, 3819, 3872, 4070, 4122, 4260, \n",
    "    4316, 4406, 4476\n",
    "]\n",
    "\n",
    "# update category names in DF\n",
    "for index, row in df.iterrows():\n",
    "    if row['Ser'] in category_ser_list:\n",
    "        category_name = row['SubCategory']\n",
    "        df.at[index, 'Category'] = category_name\n",
    "        df.at[index, 'SubCategory'] = ''"
   ]
  },
  {
   "cell_type": "markdown",
   "metadata": {},
   "source": [
    "    & finally this one commits it to Excel"
   ]
  },
  {
   "cell_type": "code",
   "execution_count": 32,
   "metadata": {},
   "outputs": [
    {
     "name": "stdout",
     "output_type": "stream",
     "text": [
      "DataFrame saved to output.xlsx\n"
     ]
    }
   ],
   "source": [
    "\n",
    "df.to_excel('output2a.xlsx', index=False)\n",
    "\n",
    "print(\"DataFrame saved to output.xlsx\")"
   ]
  },
  {
   "cell_type": "markdown",
   "metadata": {},
   "source": [
    "    We have 1 more job left in this section, this was manually done by using the array of category SER's, we will need a similar array before section 3"
   ]
  },
  {
   "cell_type": "code",
   "execution_count": 113,
   "metadata": {},
   "outputs": [
    {
     "name": "stdout",
     "output_type": "stream",
     "text": [
      "       Ser\n",
      "909      3\n",
      "910      4\n",
      "911      5\n",
      "912      6\n",
      "913      7\n",
      "...    ...\n",
      "4590  4591\n",
      "4591  4592\n",
      "4592  4593\n",
      "4593  4594\n",
      "4594  4595\n",
      "\n",
      "[3686 rows x 1 columns]\n"
     ]
    }
   ],
   "source": [
    "filtered_values = pd.DataFrame(df)\n",
    "\n",
    "for x in filtered_values.index:\n",
    "    if filtered_values.loc[x, 'Category'] != None:\n",
    "        filtered_values.drop(x, inplace = True)\n",
    "filtered_values = filtered_values.drop(['Category', 'SubCategory'], axis=1)\n",
    "filtered_values.values.flatten()\n",
    "\n",
    "print(filtered_values)\n"
   ]
  },
  {
   "cell_type": "markdown",
   "metadata": {},
   "source": [
    "### Third attempt, Sub Sub (Categories & Sub Categories)"
   ]
  }
 ],
 "metadata": {
  "kernelspec": {
   "display_name": "Python 3",
   "language": "python",
   "name": "python3"
  },
  "language_info": {
   "codemirror_mode": {
    "name": "ipython",
    "version": 3
   },
   "file_extension": ".py",
   "mimetype": "text/x-python",
   "name": "python",
   "nbconvert_exporter": "python",
   "pygments_lexer": "ipython3",
   "version": "3.12.3"
  }
 },
 "nbformat": 4,
 "nbformat_minor": 2
}
